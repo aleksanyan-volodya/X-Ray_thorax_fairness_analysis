{
 "cells": [
  {
   "cell_type": "code",
   "execution_count": 41,
   "id": "ecf4d5e1",
   "metadata": {},
   "outputs": [],
   "source": [
    "import pandas as pd\n",
    "import plotly.express as px\n",
    "from sklearn.metrics import accuracy_score, balanced_accuracy_score, confusion_matrix\n",
    "import numpy as np"
   ]
  },
  {
   "cell_type": "code",
   "execution_count": 68,
   "id": "25e63662",
   "metadata": {},
   "outputs": [],
   "source": [
    "def fairness_metrics(df, preds_col, labels_col, sensitive_col):\n",
    "    \"\"\"\n",
    "    Calcule les métriques de fairness : accuracy, balanced accuracy, statistical parity difference, \n",
    "    et disparate impact ratio global, puis affiche les résultats.\n",
    "    \"\"\"\n",
    "    # Calcul de l'accuracy globale\n",
    "    accuracy = accuracy_score(df[labels_col], df[preds_col])\n",
    "    print(f\"Accuracy (globale): {accuracy}\")\n",
    "\n",
    "    # Calcul de la balanced accuracy globale\n",
    "    balanced_accuracy = balanced_accuracy_score(df[labels_col], df[preds_col])\n",
    "    print(f\"Balanced Accuracy (globale): {balanced_accuracy}\")\n",
    "\n",
    "    # Calcul de l'accuracy et de la balanced accuracy pour chaque groupe sensible\n",
    "    group_accuracy = df.groupby(sensitive_col).apply(\n",
    "        lambda group: accuracy_score(group[labels_col], group[preds_col])\n",
    "    )\n",
    "    print(f\"Accuracy par groupe sensible : \\n{group_accuracy}\")\n",
    "\n",
    "    group_balanced_accuracy = df.groupby(sensitive_col).apply(\n",
    "        lambda group: balanced_accuracy_score(group[labels_col], group[preds_col])\n",
    "    )\n",
    "    print(f\"Balanced Accuracy par groupe sensible : \\n{group_balanced_accuracy}\")\n",
    "\n",
    "    # Calcul du taux positif (classification 'malade') par groupe sensible\n",
    "    group_positive_rate = df.groupby(sensitive_col).apply(\n",
    "        lambda group: np.mean(group[preds_col] == 'malade')  # Calcul du taux positif (ici 'malade')\n",
    "    )\n",
    "    print(f\"Taux de classification positive par groupe : \\n{group_positive_rate}\")\n",
    "\n",
    "    # Calcul de la Statistical Parity Difference\n",
    "    # Statistical Parity Difference = (taux de classification positive pour un groupe) - (taux de classification positif moyen)\n",
    "    mean_positive_rate = group_positive_rate.mean()\n",
    "    statistical_parity_diff = group_positive_rate - mean_positive_rate\n",
    "    print(f\"Statistical Parity Difference : \\n{statistical_parity_diff}\")\n",
    "    \n",
    "    # Calcul du Disparate Impact Ratio global\n",
    "    # Disparate Impact Ratio = (taux de classification positive pour le groupe 1) / (taux de classification positive pour le groupe 2)\n",
    "    # Le ratio est global, donc on prend les groupes sensibles et calculons le ratio entre les taux positifs.\n",
    "    groups = df[sensitive_col].unique()\n",
    "    if len(groups) == 2:\n",
    "        rate_group_1 = group_positive_rate[groups[0]]\n",
    "        rate_group_2 = group_positive_rate[groups[1]]\n",
    "        if rate_group_2 != 0:\n",
    "            disparate_impact_ratio = rate_group_1 / rate_group_2\n",
    "        else:\n",
    "            disparate_impact_ratio = float('inf')  # Pour éviter la division par zéro\n",
    "        print(f\"Disparate Impact Ratio (global) : {disparate_impact_ratio}\")\n",
    "    else:\n",
    "        print(\"Disparate Impact Ratio ne peut être calculé que pour deux groupes sensibles distincts.\")"
   ]
  },
  {
   "cell_type": "markdown",
   "id": "02d39e2d",
   "metadata": {},
   "source": [
    "## Applications"
   ]
  },
  {
   "cell_type": "code",
   "execution_count": 73,
   "id": "768c70e2",
   "metadata": {},
   "outputs": [],
   "source": [
    "age1  = pd.read_csv(\"./1clem_out_age/preds.csv\")\n",
    "gender1 = pd.read_csv(\"./1clem_out_gender/preds.csv\")\n",
    "both1 = pd.read_csv(\"./1clem_out_both/preds.csv\")\n",
    "gender0  = pd.read_csv(\"./clem_out_genre/preds.csv\")"
   ]
  },
  {
   "cell_type": "code",
   "execution_count": 70,
   "id": "fa47fd23",
   "metadata": {},
   "outputs": [
    {
     "name": "stdout",
     "output_type": "stream",
     "text": [
      "Accuracy (globale): 0.6961259079903148\n",
      "Balanced Accuracy (globale): 0.6921320357377081\n",
      "Accuracy par groupe sensible : \n",
      "Patient Gender\n",
      "F    0.704003\n",
      "M    0.689034\n",
      "dtype: float64\n",
      "Balanced Accuracy par groupe sensible : \n",
      "Patient Gender\n",
      "F    0.701064\n",
      "M    0.683991\n",
      "dtype: float64\n",
      "Taux de classification positive par groupe : \n",
      "Patient Gender\n",
      "F    0.447615\n",
      "M    0.437500\n",
      "dtype: float64\n",
      "Statistical Parity Difference : \n",
      "Patient Gender\n",
      "F    0.005057\n",
      "M   -0.005057\n",
      "dtype: float64\n",
      "Disparate Impact Ratio (global) : 0.9774024738344435\n"
     ]
    },
    {
     "name": "stderr",
     "output_type": "stream",
     "text": [
      "C:\\Users\\User\\AppData\\Local\\Temp\\ipykernel_14172\\2048473859.py:15: DeprecationWarning:\n",
      "\n",
      "DataFrameGroupBy.apply operated on the grouping columns. This behavior is deprecated, and in a future version of pandas the grouping columns will be excluded from the operation. Either pass `include_groups=False` to exclude the groupings or explicitly select the grouping columns after groupby to silence this warning.\n",
      "\n",
      "C:\\Users\\User\\AppData\\Local\\Temp\\ipykernel_14172\\2048473859.py:20: DeprecationWarning:\n",
      "\n",
      "DataFrameGroupBy.apply operated on the grouping columns. This behavior is deprecated, and in a future version of pandas the grouping columns will be excluded from the operation. Either pass `include_groups=False` to exclude the groupings or explicitly select the grouping columns after groupby to silence this warning.\n",
      "\n",
      "C:\\Users\\User\\AppData\\Local\\Temp\\ipykernel_14172\\2048473859.py:26: DeprecationWarning:\n",
      "\n",
      "DataFrameGroupBy.apply operated on the grouping columns. This behavior is deprecated, and in a future version of pandas the grouping columns will be excluded from the operation. Either pass `include_groups=False` to exclude the groupings or explicitly select the grouping columns after groupby to silence this warning.\n",
      "\n"
     ]
    }
   ],
   "source": [
    "fairness_metrics(age1, preds_col=\"preds\", labels_col=\"labels\", sensitive_col=\"Patient Gender\")"
   ]
  },
  {
   "cell_type": "code",
   "execution_count": 71,
   "id": "83b074e2",
   "metadata": {},
   "outputs": [
    {
     "name": "stdout",
     "output_type": "stream",
     "text": [
      "Accuracy (globale): 0.7189265536723164\n",
      "Balanced Accuracy (globale): 0.7160636779783346\n",
      "Accuracy par groupe sensible : \n",
      "Patient Gender\n",
      "F    0.729131\n",
      "M    0.709739\n",
      "dtype: float64\n",
      "Balanced Accuracy par groupe sensible : \n",
      "Patient Gender\n",
      "F    0.725625\n",
      "M    0.708151\n",
      "dtype: float64\n",
      "Taux de classification positive par groupe : \n",
      "Patient Gender\n",
      "F    0.438671\n",
      "M    0.460506\n",
      "dtype: float64\n",
      "Statistical Parity Difference : \n",
      "Patient Gender\n",
      "F   -0.010917\n",
      "M    0.010917\n",
      "dtype: float64\n",
      "Disparate Impact Ratio (global) : 1.0497751503960926\n"
     ]
    },
    {
     "name": "stderr",
     "output_type": "stream",
     "text": [
      "C:\\Users\\User\\AppData\\Local\\Temp\\ipykernel_14172\\2048473859.py:15: DeprecationWarning:\n",
      "\n",
      "DataFrameGroupBy.apply operated on the grouping columns. This behavior is deprecated, and in a future version of pandas the grouping columns will be excluded from the operation. Either pass `include_groups=False` to exclude the groupings or explicitly select the grouping columns after groupby to silence this warning.\n",
      "\n",
      "C:\\Users\\User\\AppData\\Local\\Temp\\ipykernel_14172\\2048473859.py:20: DeprecationWarning:\n",
      "\n",
      "DataFrameGroupBy.apply operated on the grouping columns. This behavior is deprecated, and in a future version of pandas the grouping columns will be excluded from the operation. Either pass `include_groups=False` to exclude the groupings or explicitly select the grouping columns after groupby to silence this warning.\n",
      "\n",
      "C:\\Users\\User\\AppData\\Local\\Temp\\ipykernel_14172\\2048473859.py:26: DeprecationWarning:\n",
      "\n",
      "DataFrameGroupBy.apply operated on the grouping columns. This behavior is deprecated, and in a future version of pandas the grouping columns will be excluded from the operation. Either pass `include_groups=False` to exclude the groupings or explicitly select the grouping columns after groupby to silence this warning.\n",
      "\n"
     ]
    }
   ],
   "source": [
    "fairness_metrics(gender1, preds_col=\"preds\", labels_col=\"labels\", sensitive_col=\"Patient Gender\")"
   ]
  },
  {
   "cell_type": "code",
   "execution_count": 72,
   "id": "60f735a5",
   "metadata": {},
   "outputs": [
    {
     "name": "stdout",
     "output_type": "stream",
     "text": [
      "Accuracy (globale): 0.7096448748991122\n",
      "Balanced Accuracy (globale): 0.7072462454644024\n"
     ]
    },
    {
     "name": "stdout",
     "output_type": "stream",
     "text": [
      "Accuracy par groupe sensible : \n",
      "Patient Gender\n",
      "F    0.723169\n",
      "M    0.697469\n",
      "dtype: float64\n",
      "Balanced Accuracy par groupe sensible : \n",
      "Patient Gender\n",
      "F    0.722778\n",
      "M    0.692370\n",
      "dtype: float64\n",
      "Taux de classification positive par groupe : \n",
      "Patient Gender\n",
      "F    0.477002\n",
      "M    0.435966\n",
      "dtype: float64\n",
      "Statistical Parity Difference : \n",
      "Patient Gender\n",
      "F    0.020518\n",
      "M   -0.020518\n",
      "dtype: float64\n",
      "Disparate Impact Ratio (global) : 0.9139721187554777\n"
     ]
    },
    {
     "name": "stderr",
     "output_type": "stream",
     "text": [
      "C:\\Users\\User\\AppData\\Local\\Temp\\ipykernel_14172\\2048473859.py:15: DeprecationWarning:\n",
      "\n",
      "DataFrameGroupBy.apply operated on the grouping columns. This behavior is deprecated, and in a future version of pandas the grouping columns will be excluded from the operation. Either pass `include_groups=False` to exclude the groupings or explicitly select the grouping columns after groupby to silence this warning.\n",
      "\n",
      "C:\\Users\\User\\AppData\\Local\\Temp\\ipykernel_14172\\2048473859.py:20: DeprecationWarning:\n",
      "\n",
      "DataFrameGroupBy.apply operated on the grouping columns. This behavior is deprecated, and in a future version of pandas the grouping columns will be excluded from the operation. Either pass `include_groups=False` to exclude the groupings or explicitly select the grouping columns after groupby to silence this warning.\n",
      "\n",
      "C:\\Users\\User\\AppData\\Local\\Temp\\ipykernel_14172\\2048473859.py:26: DeprecationWarning:\n",
      "\n",
      "DataFrameGroupBy.apply operated on the grouping columns. This behavior is deprecated, and in a future version of pandas the grouping columns will be excluded from the operation. Either pass `include_groups=False` to exclude the groupings or explicitly select the grouping columns after groupby to silence this warning.\n",
      "\n"
     ]
    }
   ],
   "source": [
    "fairness_metrics(both1, preds_col=\"preds\", labels_col=\"labels\", sensitive_col=\"Patient Gender\")"
   ]
  },
  {
   "cell_type": "code",
   "execution_count": 74,
   "id": "8c98c419",
   "metadata": {},
   "outputs": [
    {
     "name": "stdout",
     "output_type": "stream",
     "text": [
      "Accuracy (globale): 0.7066182405165456\n",
      "Balanced Accuracy (globale): 0.7114041650051246\n",
      "Accuracy par groupe sensible : \n",
      "Patient Gender\n",
      "F    0.718058\n",
      "M    0.696319\n",
      "dtype: float64\n",
      "Balanced Accuracy par groupe sensible : \n",
      "Patient Gender\n",
      "F    0.721068\n",
      "M    0.702986\n",
      "dtype: float64\n",
      "Taux de classification positive par groupe : \n",
      "Patient Gender\n",
      "F    0.518739\n",
      "M    0.523773\n",
      "dtype: float64\n",
      "Statistical Parity Difference : \n",
      "Patient Gender\n",
      "F   -0.002517\n",
      "M    0.002517\n",
      "dtype: float64\n",
      "Disparate Impact Ratio (global) : 1.0097036275902365\n"
     ]
    },
    {
     "name": "stderr",
     "output_type": "stream",
     "text": [
      "C:\\Users\\User\\AppData\\Local\\Temp\\ipykernel_14172\\2048473859.py:15: DeprecationWarning:\n",
      "\n",
      "DataFrameGroupBy.apply operated on the grouping columns. This behavior is deprecated, and in a future version of pandas the grouping columns will be excluded from the operation. Either pass `include_groups=False` to exclude the groupings or explicitly select the grouping columns after groupby to silence this warning.\n",
      "\n",
      "C:\\Users\\User\\AppData\\Local\\Temp\\ipykernel_14172\\2048473859.py:20: DeprecationWarning:\n",
      "\n",
      "DataFrameGroupBy.apply operated on the grouping columns. This behavior is deprecated, and in a future version of pandas the grouping columns will be excluded from the operation. Either pass `include_groups=False` to exclude the groupings or explicitly select the grouping columns after groupby to silence this warning.\n",
      "\n",
      "C:\\Users\\User\\AppData\\Local\\Temp\\ipykernel_14172\\2048473859.py:26: DeprecationWarning:\n",
      "\n",
      "DataFrameGroupBy.apply operated on the grouping columns. This behavior is deprecated, and in a future version of pandas the grouping columns will be excluded from the operation. Either pass `include_groups=False` to exclude the groupings or explicitly select the grouping columns after groupby to silence this warning.\n",
      "\n"
     ]
    }
   ],
   "source": [
    "fairness_metrics(gender0, preds_col=\"preds\", labels_col=\"labels\", sensitive_col=\"Patient Gender\")"
   ]
  },
  {
   "cell_type": "code",
   "execution_count": null,
   "id": "275ad87f",
   "metadata": {},
   "outputs": [],
   "source": []
  },
  {
   "cell_type": "code",
   "execution_count": null,
   "id": "9c88b1b8",
   "metadata": {},
   "outputs": [],
   "source": []
  },
  {
   "cell_type": "code",
   "execution_count": null,
   "id": "ca416ff8",
   "metadata": {},
   "outputs": [],
   "source": []
  }
 ],
 "metadata": {
  "kernelspec": {
   "display_name": "projet-env",
   "language": "python",
   "name": "python3"
  },
  "language_info": {
   "codemirror_mode": {
    "name": "ipython",
    "version": 3
   },
   "file_extension": ".py",
   "mimetype": "text/x-python",
   "name": "python",
   "nbconvert_exporter": "python",
   "pygments_lexer": "ipython3",
   "version": "3.10.11"
  }
 },
 "nbformat": 4,
 "nbformat_minor": 5
}
