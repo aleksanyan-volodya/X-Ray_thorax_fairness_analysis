{
 "cells": [
  {
   "cell_type": "code",
   "execution_count": 3,
   "metadata": {},
   "outputs": [],
   "source": [
    "from train_classifieur import train_classifier, pred_classifier"
   ]
  },
  {
   "cell_type": "markdown",
   "metadata": {},
   "source": [
    "## Trois trains pour le DATASET non transformé"
   ]
  },
  {
   "cell_type": "code",
   "execution_count": null,
   "metadata": {},
   "outputs": [
    {
     "name": "stderr",
     "output_type": "stream",
     "text": [
      "GPU available: False, used: False\n",
      "TPU available: False, using: 0 TPU cores\n",
      "HPU available: False, using: 0 HPUs\n"
     ]
    },
    {
     "name": "stderr",
     "output_type": "stream",
     "text": [
      "c:\\Users\\User\\Documents\\Université\\L3 info math\\S6\\Fairness\\projet\\quad\\X-Ray_thorax_fairness_analysis\\projet-env\\lib\\site-packages\\pytorch_lightning\\callbacks\\model_checkpoint.py:654: Checkpoint directory C:\\Users\\User\\Documents\\Université\\L3 info math\\S6\\Fairness\\projet\\quad\\X-Ray_thorax_fairness_analysis\\1clemdir_age exists and is not empty.\n",
      "c:\\Users\\User\\Documents\\Université\\L3 info math\\S6\\Fairness\\projet\\quad\\X-Ray_thorax_fairness_analysis\\projet-env\\lib\\site-packages\\torch\\optim\\lr_scheduler.py:62: UserWarning: The verbose parameter is deprecated. Please use get_last_lr() to access the learning rate.\n",
      "  warnings.warn(\n",
      "\n",
      "  | Name  | Type                  | Params | Mode \n",
      "--------------------------------------------------------\n",
      "0 | model | ResNet                | 11.2 M | train\n",
      "1 | bcm   | BinaryConfusionMatrix | 0      | train\n",
      "--------------------------------------------------------\n",
      "11.2 M    Trainable params\n",
      "0         Non-trainable params\n",
      "11.2 M    Total params\n",
      "44.710    Total estimated model params size (MB)\n",
      "69        Modules in train mode\n",
      "0         Modules in eval mode\n"
     ]
    },
    {
     "name": "stdout",
     "output_type": "stream",
     "text": [
      "Start training\n",
      "Sanity Checking: |          | 0/? [00:00<?, ?it/s]"
     ]
    },
    {
     "name": "stderr",
     "output_type": "stream",
     "text": [
      "c:\\Users\\User\\Documents\\Université\\L3 info math\\S6\\Fairness\\projet\\quad\\X-Ray_thorax_fairness_analysis\\projet-env\\lib\\site-packages\\pytorch_lightning\\trainer\\connectors\\data_connector.py:425: The 'val_dataloader' does not have many workers which may be a bottleneck. Consider increasing the value of the `num_workers` argument` to `num_workers=11` in the `DataLoader` to improve performance.\n"
     ]
    },
    {
     "name": "stdout",
     "output_type": "stream",
     "text": [
      "                                                                           "
     ]
    },
    {
     "name": "stderr",
     "output_type": "stream",
     "text": [
      "c:\\Users\\User\\Documents\\Université\\L3 info math\\S6\\Fairness\\projet\\quad\\X-Ray_thorax_fairness_analysis\\projet-env\\lib\\site-packages\\pytorch_lightning\\trainer\\connectors\\data_connector.py:425: The 'train_dataloader' does not have many workers which may be a bottleneck. Consider increasing the value of the `num_workers` argument` to `num_workers=11` in the `DataLoader` to improve performance.\n"
     ]
    },
    {
     "name": "stdout",
     "output_type": "stream",
     "text": [
      "Epoch 0:   7%|▋         | 8/114 [18:44<4:08:18,  0.01it/s, v_num=0]\n",
      "Epoch 9:  50%|█████     | 3/6 [26:14<26:14,  0.00it/s, v_num=0]\n",
      "Epoch 3: 100%|██████████| 114/114 [06:11<00:00,  0.31it/s, v_num=0]"
     ]
    }
   ],
   "source": [
    "ckpt_path, ckpt_score = train_classifier(\n",
    "    logdir=\"./1clemdir_age/\",\n",
    "    datadir=\"./1_clem/\",\n",
    "    csv=\"./1_clem/metadata_age.csv\"\n",
    ")"
   ]
  },
  {
   "cell_type": "code",
   "execution_count": null,
   "metadata": {},
   "outputs": [],
   "source": [
    "ckpt_path, ckpt_score = train_classifier(\n",
    "    logdir=\"./1clemdir_genre/\",\n",
    "    datadir=\"./1_clem/\",\n",
    "    csv=\"./1_clem/metadata_genre.csv\"\n",
    ")"
   ]
  },
  {
   "cell_type": "code",
   "execution_count": null,
   "metadata": {},
   "outputs": [],
   "source": [
    "ckpt_path, ckpt_score = train_classifier(\n",
    "    logdir=\"./1clemdir_both/\",\n",
    "    datadir=\"./1_clem/\",\n",
    "    csv=\"./1_clem/metadata_both.csv\"\n",
    ")"
   ]
  },
  {
   "cell_type": "markdown",
   "metadata": {},
   "source": [
    "## Trois trains différents pour le DATASET transformé cette fois ci"
   ]
  },
  {
   "cell_type": "code",
   "execution_count": null,
   "metadata": {},
   "outputs": [],
   "source": [
    "ckpt_path, ckpt_score = train_classifier(\n",
    "    logdir=\"./clemdir_age/\",\n",
    "    datadir=\"./clem/\",\n",
    "    csv=\"./clem/metadata_age.csv\"\n",
    ")"
   ]
  },
  {
   "cell_type": "code",
   "execution_count": null,
   "metadata": {},
   "outputs": [],
   "source": [
    "ckpt_path, ckpt_score = train_classifier(\n",
    "    logdir=\"./clemdir_genre/\",\n",
    "    datadir=\"./clem/\",\n",
    "    csv=\"./clem/metadata_genre.csv\"\n",
    ")"
   ]
  },
  {
   "cell_type": "code",
   "execution_count": null,
   "metadata": {},
   "outputs": [],
   "source": [
    "ckpt_path, ckpt_score = train_classifier(\n",
    "    logdir=\"./clemdir_both/\",\n",
    "    datadir=\"./clem/\",\n",
    "    csv=\"./clem/metadata_both.csv\"\n",
    ")"
   ]
  },
  {
   "cell_type": "markdown",
   "metadata": {},
   "source": [
    "## Les prédictions des six modèles"
   ]
  },
  {
   "cell_type": "markdown",
   "metadata": {},
   "source": [
    "### Avec pre proc"
   ]
  },
  {
   "cell_type": "code",
   "execution_count": null,
   "metadata": {},
   "outputs": [],
   "source": [
    "pred_classifier(\n",
    "    datadir=\"./1_clem/\",\n",
    "    csv_in=\"./1_clem/metadata_age.csv\",\n",
    "    csv_out=\"./1clem_out_age/preds.csv\",\n",
    "    ckpt_path = ckpt_path\n",
    ")"
   ]
  },
  {
   "cell_type": "code",
   "execution_count": null,
   "metadata": {},
   "outputs": [],
   "source": [
    "pred_classifier(\n",
    "    datadir=\"./1_clem/\",\n",
    "    csv_in=\"./1_clem/metadata_genre.csv\",\n",
    "    csv_out=\"./1clem_out_genre/preds.csv\",\n",
    "    ckpt_path = ckpt_path\n",
    ")"
   ]
  },
  {
   "cell_type": "code",
   "execution_count": null,
   "metadata": {},
   "outputs": [],
   "source": [
    "pred_classifier(\n",
    "    datadir=\"./1_clem/\",\n",
    "    csv_in=\"./1_clem/metadata_both.csv\",\n",
    "    csv_out=\"./1clem_out_both/preds.csv\",\n",
    "    ckpt_path = ckpt_path\n",
    ")\n"
   ]
  },
  {
   "cell_type": "markdown",
   "metadata": {},
   "source": [
    "### Sans pre proc"
   ]
  },
  {
   "cell_type": "code",
   "execution_count": null,
   "metadata": {},
   "outputs": [],
   "source": [
    "pred_classifier(\n",
    "    datadir=\"./clem/\",\n",
    "    csv_in=\"./clem/metadata_age.csv\",\n",
    "    csv_out=\"./clem_out_age/preds.csv\",\n",
    "    ckpt_path = ckpt_path\n",
    ")\n",
    "pred_classifier(\n",
    "    datadir=\"./clem/\",\n",
    "    csv_in=\"./clem/metadata_genre.csv\",\n",
    "    csv_out=\"./clem_out_genre/preds.csv\",\n",
    "    ckpt_path = ckpt_path\n",
    ")\n",
    "pred_classifier(\n",
    "    datadir=\"./clem/\",\n",
    "    csv_in=\"./clem/metadata_both.csv\",\n",
    "    csv_out=\"./clem_out_both/preds.csv\",\n",
    "    ckpt_path = ckpt_path\n",
    ")"
   ]
  }
 ],
 "metadata": {
  "kernelspec": {
   "display_name": "projet-env",
   "language": "python",
   "name": "python3"
  },
  "language_info": {
   "codemirror_mode": {
    "name": "ipython",
    "version": 3
   },
   "file_extension": ".py",
   "mimetype": "text/x-python",
   "name": "python",
   "nbconvert_exporter": "python",
   "pygments_lexer": "ipython3",
   "version": "3.10.11"
  }
 },
 "nbformat": 4,
 "nbformat_minor": 2
}
