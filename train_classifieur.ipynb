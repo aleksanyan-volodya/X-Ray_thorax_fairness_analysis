{
 "cells": [
  {
   "cell_type": "code",
   "execution_count": 2,
   "metadata": {},
   "outputs": [],
   "source": [
    "from train_classifieur import train_classifier, pred_classifier"
   ]
  },
  {
   "cell_type": "markdown",
   "metadata": {},
   "source": [
    "## Train classique (raw, sans aucune modif)"
   ]
  },
  {
   "cell_type": "code",
   "execution_count": 14,
   "metadata": {},
   "outputs": [
    {
     "name": "stderr",
     "output_type": "stream",
     "text": [
      "GPU available: False, used: False\n",
      "TPU available: False, using: 0 TPU cores\n",
      "HPU available: False, using: 0 HPUs\n",
      "c:\\Users\\User\\Documents\\Université\\L3 info math\\S6\\Fairness\\projet\\quad\\X-Ray_thorax_fairness_analysis\\projet-env\\lib\\site-packages\\pytorch_lightning\\callbacks\\model_checkpoint.py:654: Checkpoint directory C:\\Users\\User\\Documents\\Université\\L3 info math\\S6\\Fairness\\projet\\quad\\X-Ray_thorax_fairness_analysis\\clemdir exists and is not empty.\n",
      "c:\\Users\\User\\Documents\\Université\\L3 info math\\S6\\Fairness\\projet\\quad\\X-Ray_thorax_fairness_analysis\\projet-env\\lib\\site-packages\\torch\\optim\\lr_scheduler.py:62: UserWarning: The verbose parameter is deprecated. Please use get_last_lr() to access the learning rate.\n",
      "  warnings.warn(\n",
      "\n",
      "  | Name  | Type                  | Params | Mode \n",
      "--------------------------------------------------------\n",
      "0 | model | ResNet                | 11.2 M | train\n",
      "1 | bcm   | BinaryConfusionMatrix | 0      | train\n",
      "--------------------------------------------------------\n",
      "11.2 M    Trainable params\n",
      "0         Non-trainable params\n",
      "11.2 M    Total params\n",
      "44.710    Total estimated model params size (MB)\n",
      "69        Modules in train mode\n",
      "0         Modules in eval mode\n"
     ]
    },
    {
     "name": "stdout",
     "output_type": "stream",
     "text": [
      "Start training\n",
      "Sanity Checking DataLoader 0:   0%|          | 0/2 [00:00<?, ?it/s]"
     ]
    },
    {
     "name": "stderr",
     "output_type": "stream",
     "text": [
      "c:\\Users\\User\\Documents\\Université\\L3 info math\\S6\\Fairness\\projet\\quad\\X-Ray_thorax_fairness_analysis\\projet-env\\lib\\site-packages\\pytorch_lightning\\trainer\\connectors\\data_connector.py:425: The 'val_dataloader' does not have many workers which may be a bottleneck. Consider increasing the value of the `num_workers` argument` to `num_workers=11` in the `DataLoader` to improve performance.\n"
     ]
    },
    {
     "name": "stdout",
     "output_type": "stream",
     "text": [
      "                                                                           "
     ]
    },
    {
     "name": "stderr",
     "output_type": "stream",
     "text": [
      "c:\\Users\\User\\Documents\\Université\\L3 info math\\S6\\Fairness\\projet\\quad\\X-Ray_thorax_fairness_analysis\\projet-env\\lib\\site-packages\\pytorch_lightning\\trainer\\connectors\\data_connector.py:425: The 'train_dataloader' does not have many workers which may be a bottleneck. Consider increasing the value of the `num_workers` argument` to `num_workers=11` in the `DataLoader` to improve performance.\n"
     ]
    },
    {
     "name": "stdout",
     "output_type": "stream",
     "text": [
      "Epoch 6: 100%|██████████| 114/114 [05:00<00:00,  0.38it/s, v_num=1]\n",
      "End of training 2157.496423482895\n"
     ]
    }
   ],
   "source": [
    "ckpt_path0, ckpt_score0 = train_classifier(\n",
    "    logdir=\"./clemdir/\",\n",
    "    datadir=\"./clem/\",\n",
    "    csv=\"./clem/metadata.csv\"\n",
    ")"
   ]
  },
  {
   "cell_type": "markdown",
   "metadata": {},
   "source": [
    "## Trois trains pour le DATASET transformé"
   ]
  },
  {
   "cell_type": "code",
   "execution_count": null,
   "metadata": {},
   "outputs": [
    {
     "name": "stderr",
     "output_type": "stream",
     "text": [
      "GPU available: False, used: False\n",
      "TPU available: False, using: 0 TPU cores\n",
      "HPU available: False, using: 0 HPUs\n"
     ]
    },
    {
     "name": "stderr",
     "output_type": "stream",
     "text": [
      "c:\\Users\\User\\Documents\\Université\\L3 info math\\S6\\Fairness\\projet\\quad\\X-Ray_thorax_fairness_analysis\\projet-env\\lib\\site-packages\\pytorch_lightning\\callbacks\\model_checkpoint.py:654: Checkpoint directory C:\\Users\\User\\Documents\\Université\\L3 info math\\S6\\Fairness\\projet\\quad\\X-Ray_thorax_fairness_analysis\\1clemdir_age exists and is not empty.\n",
      "c:\\Users\\User\\Documents\\Université\\L3 info math\\S6\\Fairness\\projet\\quad\\X-Ray_thorax_fairness_analysis\\projet-env\\lib\\site-packages\\torch\\optim\\lr_scheduler.py:62: UserWarning: The verbose parameter is deprecated. Please use get_last_lr() to access the learning rate.\n",
      "  warnings.warn(\n",
      "\n",
      "  | Name  | Type                  | Params | Mode \n",
      "--------------------------------------------------------\n",
      "0 | model | ResNet                | 11.2 M | train\n",
      "1 | bcm   | BinaryConfusionMatrix | 0      | train\n",
      "--------------------------------------------------------\n",
      "11.2 M    Trainable params\n",
      "0         Non-trainable params\n",
      "11.2 M    Total params\n",
      "44.710    Total estimated model params size (MB)\n",
      "69        Modules in train mode\n",
      "0         Modules in eval mode\n"
     ]
    },
    {
     "name": "stdout",
     "output_type": "stream",
     "text": [
      "Start training\n",
      "Sanity Checking: |          | 0/? [00:00<?, ?it/s]"
     ]
    },
    {
     "name": "stderr",
     "output_type": "stream",
     "text": [
      "c:\\Users\\User\\Documents\\Université\\L3 info math\\S6\\Fairness\\projet\\quad\\X-Ray_thorax_fairness_analysis\\projet-env\\lib\\site-packages\\pytorch_lightning\\trainer\\connectors\\data_connector.py:425: The 'val_dataloader' does not have many workers which may be a bottleneck. Consider increasing the value of the `num_workers` argument` to `num_workers=11` in the `DataLoader` to improve performance.\n"
     ]
    },
    {
     "name": "stdout",
     "output_type": "stream",
     "text": [
      "                                                                           "
     ]
    },
    {
     "name": "stderr",
     "output_type": "stream",
     "text": [
      "c:\\Users\\User\\Documents\\Université\\L3 info math\\S6\\Fairness\\projet\\quad\\X-Ray_thorax_fairness_analysis\\projet-env\\lib\\site-packages\\pytorch_lightning\\trainer\\connectors\\data_connector.py:425: The 'train_dataloader' does not have many workers which may be a bottleneck. Consider increasing the value of the `num_workers` argument` to `num_workers=11` in the `DataLoader` to improve performance.\n"
     ]
    },
    {
     "name": "stdout",
     "output_type": "stream",
     "text": [
      "Epoch 0:   7%|▋         | 8/114 [18:44<4:08:18,  0.01it/s, v_num=0]\n",
      "Epoch 9:  50%|█████     | 3/6 [26:14<26:14,  0.00it/s, v_num=0]\n",
      "Epoch 4: 100%|██████████| 114/114 [06:35<00:00,  0.29it/s, v_num=0]\n",
      "End of training 2229.572873353958\n"
     ]
    }
   ],
   "source": [
    "ckpt_path1, ckpt_score1 = train_classifier(\n",
    "    logdir=\"./1clemdir_age/\",\n",
    "    datadir=\"./1_clem/\",\n",
    "    csv=\"./1_clem/metadata_age.csv\"\n",
    ")"
   ]
  },
  {
   "cell_type": "code",
   "execution_count": 7,
   "metadata": {},
   "outputs": [
    {
     "name": "stderr",
     "output_type": "stream",
     "text": [
      "GPU available: False, used: False\n",
      "TPU available: False, using: 0 TPU cores\n",
      "HPU available: False, using: 0 HPUs\n",
      "c:\\Users\\User\\Documents\\Université\\L3 info math\\S6\\Fairness\\projet\\quad\\X-Ray_thorax_fairness_analysis\\projet-env\\lib\\site-packages\\pytorch_lightning\\callbacks\\model_checkpoint.py:654: Checkpoint directory C:\\Users\\User\\Documents\\Université\\L3 info math\\S6\\Fairness\\projet\\quad\\X-Ray_thorax_fairness_analysis\\1clemdir_genre exists and is not empty.\n",
      "c:\\Users\\User\\Documents\\Université\\L3 info math\\S6\\Fairness\\projet\\quad\\X-Ray_thorax_fairness_analysis\\projet-env\\lib\\site-packages\\torch\\optim\\lr_scheduler.py:62: UserWarning: The verbose parameter is deprecated. Please use get_last_lr() to access the learning rate.\n",
      "  warnings.warn(\n",
      "\n",
      "  | Name  | Type                  | Params | Mode \n",
      "--------------------------------------------------------\n",
      "0 | model | ResNet                | 11.2 M | train\n",
      "1 | bcm   | BinaryConfusionMatrix | 0      | train\n",
      "--------------------------------------------------------\n",
      "11.2 M    Trainable params\n",
      "0         Non-trainable params\n",
      "11.2 M    Total params\n",
      "44.710    Total estimated model params size (MB)\n",
      "69        Modules in train mode\n",
      "0         Modules in eval mode\n"
     ]
    },
    {
     "name": "stdout",
     "output_type": "stream",
     "text": [
      "Start training\n",
      "Sanity Checking DataLoader 0:   0%|          | 0/2 [00:00<?, ?it/s]"
     ]
    },
    {
     "name": "stderr",
     "output_type": "stream",
     "text": [
      "c:\\Users\\User\\Documents\\Université\\L3 info math\\S6\\Fairness\\projet\\quad\\X-Ray_thorax_fairness_analysis\\projet-env\\lib\\site-packages\\pytorch_lightning\\trainer\\connectors\\data_connector.py:425: The 'val_dataloader' does not have many workers which may be a bottleneck. Consider increasing the value of the `num_workers` argument` to `num_workers=11` in the `DataLoader` to improve performance.\n"
     ]
    },
    {
     "name": "stdout",
     "output_type": "stream",
     "text": [
      "                                                                           "
     ]
    },
    {
     "name": "stderr",
     "output_type": "stream",
     "text": [
      "c:\\Users\\User\\Documents\\Université\\L3 info math\\S6\\Fairness\\projet\\quad\\X-Ray_thorax_fairness_analysis\\projet-env\\lib\\site-packages\\pytorch_lightning\\trainer\\connectors\\data_connector.py:425: The 'train_dataloader' does not have many workers which may be a bottleneck. Consider increasing the value of the `num_workers` argument` to `num_workers=11` in the `DataLoader` to improve performance.\n"
     ]
    },
    {
     "name": "stdout",
     "output_type": "stream",
     "text": [
      "Epoch 6: 100%|██████████| 114/114 [05:04<00:00,  0.37it/s, v_num=0]\n",
      "End of training 2147.2171671390533\n"
     ]
    }
   ],
   "source": [
    "ckpt_path2, ckpt_score2 = train_classifier(\n",
    "    logdir=\"./1clemdir_genre/\",\n",
    "    datadir=\"./1_clem/\",\n",
    "    csv=\"./1_clem/metadata_gender.csv\"\n",
    ")"
   ]
  },
  {
   "cell_type": "code",
   "execution_count": 3,
   "metadata": {},
   "outputs": [
    {
     "name": "stderr",
     "output_type": "stream",
     "text": [
      "GPU available: False, used: False\n",
      "TPU available: False, using: 0 TPU cores\n",
      "HPU available: False, using: 0 HPUs\n"
     ]
    },
    {
     "name": "stdout",
     "output_type": "stream",
     "text": [
      "Start training\n"
     ]
    },
    {
     "name": "stderr",
     "output_type": "stream",
     "text": [
      "c:\\Users\\User\\Documents\\Université\\L3 info math\\S6\\Fairness\\projet\\quad\\X-Ray_thorax_fairness_analysis\\projet-env\\lib\\site-packages\\pytorch_lightning\\callbacks\\model_checkpoint.py:654: Checkpoint directory C:\\Users\\User\\Documents\\Université\\L3 info math\\S6\\Fairness\\projet\\quad\\X-Ray_thorax_fairness_analysis\\1clemdir_both exists and is not empty.\n",
      "c:\\Users\\User\\Documents\\Université\\L3 info math\\S6\\Fairness\\projet\\quad\\X-Ray_thorax_fairness_analysis\\projet-env\\lib\\site-packages\\torch\\optim\\lr_scheduler.py:62: UserWarning: The verbose parameter is deprecated. Please use get_last_lr() to access the learning rate.\n",
      "  warnings.warn(\n",
      "\n",
      "  | Name  | Type                  | Params | Mode \n",
      "--------------------------------------------------------\n",
      "0 | model | ResNet                | 11.2 M | train\n",
      "1 | bcm   | BinaryConfusionMatrix | 0      | train\n",
      "--------------------------------------------------------\n",
      "11.2 M    Trainable params\n",
      "0         Non-trainable params\n",
      "11.2 M    Total params\n",
      "44.710    Total estimated model params size (MB)\n",
      "69        Modules in train mode\n",
      "0         Modules in eval mode\n"
     ]
    },
    {
     "name": "stdout",
     "output_type": "stream",
     "text": [
      "Sanity Checking: |          | 0/? [00:00<?, ?it/s]"
     ]
    },
    {
     "name": "stderr",
     "output_type": "stream",
     "text": [
      "c:\\Users\\User\\Documents\\Université\\L3 info math\\S6\\Fairness\\projet\\quad\\X-Ray_thorax_fairness_analysis\\projet-env\\lib\\site-packages\\pytorch_lightning\\trainer\\connectors\\data_connector.py:425: The 'val_dataloader' does not have many workers which may be a bottleneck. Consider increasing the value of the `num_workers` argument` to `num_workers=11` in the `DataLoader` to improve performance.\n"
     ]
    },
    {
     "name": "stdout",
     "output_type": "stream",
     "text": [
      "                                                                           "
     ]
    },
    {
     "name": "stderr",
     "output_type": "stream",
     "text": [
      "c:\\Users\\User\\Documents\\Université\\L3 info math\\S6\\Fairness\\projet\\quad\\X-Ray_thorax_fairness_analysis\\projet-env\\lib\\site-packages\\pytorch_lightning\\trainer\\connectors\\data_connector.py:425: The 'train_dataloader' does not have many workers which may be a bottleneck. Consider increasing the value of the `num_workers` argument` to `num_workers=11` in the `DataLoader` to improve performance.\n"
     ]
    },
    {
     "name": "stdout",
     "output_type": "stream",
     "text": [
      "Epoch 4: 100%|██████████| 114/114 [05:03<00:00,  0.38it/s, v_num=1]\n",
      "End of training 1540.6167433261871\n"
     ]
    }
   ],
   "source": [
    "ckpt_path3, ckpt_score3 = train_classifier(\n",
    "    logdir=\"./1clemdir_both/\",\n",
    "    datadir=\"./1_clem/\",\n",
    "    csv=\"./1_clem/metadata_both.csv\"\n",
    ")"
   ]
  },
  {
   "cell_type": "markdown",
   "metadata": {},
   "source": [
    "## Trois trains différents pour le DATASET non transformé "
   ]
  },
  {
   "cell_type": "code",
   "execution_count": null,
   "metadata": {},
   "outputs": [],
   "source": [
    "ckpt_path4, ckpt_score4 = train_classifier(\n",
    "    logdir=\"./clemdir_age/\",\n",
    "    datadir=\"./clem/\",\n",
    "    csv=\"./clem/metadata_age.csv\"\n",
    ")"
   ]
  },
  {
   "cell_type": "code",
   "execution_count": 11,
   "metadata": {},
   "outputs": [
    {
     "name": "stderr",
     "output_type": "stream",
     "text": [
      "GPU available: False, used: False\n",
      "TPU available: False, using: 0 TPU cores\n",
      "HPU available: False, using: 0 HPUs\n",
      "c:\\Users\\User\\Documents\\Université\\L3 info math\\S6\\Fairness\\projet\\quad\\X-Ray_thorax_fairness_analysis\\projet-env\\lib\\site-packages\\pytorch_lightning\\callbacks\\model_checkpoint.py:654: Checkpoint directory C:\\Users\\User\\Documents\\Université\\L3 info math\\S6\\Fairness\\projet\\quad\\X-Ray_thorax_fairness_analysis\\clemdir_genre exists and is not empty.\n",
      "c:\\Users\\User\\Documents\\Université\\L3 info math\\S6\\Fairness\\projet\\quad\\X-Ray_thorax_fairness_analysis\\projet-env\\lib\\site-packages\\torch\\optim\\lr_scheduler.py:62: UserWarning: The verbose parameter is deprecated. Please use get_last_lr() to access the learning rate.\n",
      "  warnings.warn(\n",
      "\n",
      "  | Name  | Type                  | Params | Mode \n",
      "--------------------------------------------------------\n",
      "0 | model | ResNet                | 11.2 M | train\n",
      "1 | bcm   | BinaryConfusionMatrix | 0      | train\n",
      "--------------------------------------------------------\n",
      "11.2 M    Trainable params\n",
      "0         Non-trainable params\n",
      "11.2 M    Total params\n",
      "44.710    Total estimated model params size (MB)\n",
      "69        Modules in train mode\n",
      "0         Modules in eval mode\n"
     ]
    },
    {
     "name": "stdout",
     "output_type": "stream",
     "text": [
      "Start training\n",
      "Sanity Checking: |          | 0/? [00:00<?, ?it/s]"
     ]
    },
    {
     "name": "stderr",
     "output_type": "stream",
     "text": [
      "c:\\Users\\User\\Documents\\Université\\L3 info math\\S6\\Fairness\\projet\\quad\\X-Ray_thorax_fairness_analysis\\projet-env\\lib\\site-packages\\pytorch_lightning\\trainer\\connectors\\data_connector.py:425: The 'val_dataloader' does not have many workers which may be a bottleneck. Consider increasing the value of the `num_workers` argument` to `num_workers=11` in the `DataLoader` to improve performance.\n"
     ]
    },
    {
     "name": "stdout",
     "output_type": "stream",
     "text": [
      "                                                                           "
     ]
    },
    {
     "name": "stderr",
     "output_type": "stream",
     "text": [
      "c:\\Users\\User\\Documents\\Université\\L3 info math\\S6\\Fairness\\projet\\quad\\X-Ray_thorax_fairness_analysis\\projet-env\\lib\\site-packages\\pytorch_lightning\\trainer\\connectors\\data_connector.py:425: The 'train_dataloader' does not have many workers which may be a bottleneck. Consider increasing the value of the `num_workers` argument` to `num_workers=11` in the `DataLoader` to improve performance.\n"
     ]
    },
    {
     "name": "stdout",
     "output_type": "stream",
     "text": [
      "Epoch 4: 100%|██████████| 114/114 [05:00<00:00,  0.38it/s, v_num=0]\n",
      "End of training 1564.6252048015594\n"
     ]
    }
   ],
   "source": [
    "ckpt_path5, ckpt_score5 = train_classifier(\n",
    "    logdir=\"./clemdir_genre/\",\n",
    "    datadir=\"./clem/\",\n",
    "    csv=\"./clem/metadata_gender.csv\"\n",
    ")"
   ]
  },
  {
   "cell_type": "code",
   "execution_count": null,
   "metadata": {},
   "outputs": [],
   "source": [
    "ckpt_path6, ckpt_score6 = train_classifier(\n",
    "    logdir=\"./clemdir_both/\",\n",
    "    datadir=\"./clem/\",\n",
    "    csv=\"./clem/metadata_both.csv\"\n",
    ")"
   ]
  },
  {
   "cell_type": "markdown",
   "metadata": {},
   "source": [
    "## Les prédictions des six modèles"
   ]
  },
  {
   "cell_type": "markdown",
   "metadata": {},
   "source": [
    "### Avec pre proc"
   ]
  },
  {
   "cell_type": "code",
   "execution_count": 3,
   "metadata": {},
   "outputs": [
    {
     "name": "stdout",
     "output_type": "stream",
     "text": [
      "Start prediction on train dataset\n",
      "Start prediction on validation dataset\n",
      "Balanced Accuracy: 0.6921320357377081\n",
      "Accuracy: 0.6961259079903148\n"
     ]
    }
   ],
   "source": [
    "pred_classifier(\n",
    "    datadir=\"./1_clem/\",\n",
    "    csv_in=\"./1_clem/metadata_age.csv\",\n",
    "    csv_out=\"./1clem_out_age/preds.csv\",\n",
    "    ckpt_path = ckpt_path\n",
    ")"
   ]
  },
  {
   "cell_type": "code",
   "execution_count": 9,
   "metadata": {},
   "outputs": [
    {
     "name": "stdout",
     "output_type": "stream",
     "text": [
      "Start prediction on train dataset\n",
      "Start prediction on validation dataset\n",
      "\n",
      "📊 Global Metrics:\n",
      "- Balanced Accuracy: 0.7161\n",
      "- Accuracy: 0.7189\n",
      "\n",
      "📊 Fairness Metrics (by Patient Gender):\n",
      "  ▶ Group 'M':\n",
      "     - Accuracy: 0.7097\n",
      "     - Balanced Accuracy: 0.7082\n",
      "     - TPR (Sensitivity): 0.7202\n",
      "  ▶ Group 'F':\n",
      "     - Accuracy: 0.7291\n",
      "     - Balanced Accuracy: 0.7256\n",
      "     - TPR (Sensitivity): 0.7685\n",
      "\n",
      "⚖️  Accuracy Disparity (M vs F): 0.0194\n"
     ]
    }
   ],
   "source": [
    "pred_classifier(\n",
    "    datadir=\"./1_clem/\",\n",
    "    csv_in=\"./1_clem/metadata_gender.csv\",\n",
    "    csv_out=\"./1clem_out_gender/preds.csv\",\n",
    "    ckpt_path = ckpt_path2\n",
    ")"
   ]
  },
  {
   "cell_type": "code",
   "execution_count": 5,
   "metadata": {},
   "outputs": [
    {
     "name": "stdout",
     "output_type": "stream",
     "text": [
      "Start prediction on train dataset\n",
      "Start prediction on validation dataset\n",
      "\n",
      "📊 Global Metrics:\n",
      "- Balanced Accuracy: 0.7072\n",
      "- Accuracy: 0.7096\n",
      "\n",
      "📊 Fairness Metrics (by Patient Gender):\n",
      "  ▶ Group 'M':\n",
      "     - Accuracy: 0.6975\n",
      "     - Balanced Accuracy: 0.6924\n",
      "     - TPR (Sensitivity): 0.731\n",
      "  ▶ Group 'F':\n",
      "     - Accuracy: 0.7232\n",
      "     - Balanced Accuracy: 0.7228\n",
      "     - TPR (Sensitivity): 0.7276\n",
      "\n",
      "⚖️  Accuracy Disparity (M vs F): 0.0257\n"
     ]
    }
   ],
   "source": [
    "pred_classifier(\n",
    "    datadir=\"./1_clem/\",\n",
    "    csv_in=\"./1_clem/metadata_both.csv\",\n",
    "    csv_out=\"./1clem_out_both/preds.csv\",\n",
    "    ckpt_path = ckpt_path3\n",
    ")\n"
   ]
  },
  {
   "cell_type": "markdown",
   "metadata": {},
   "source": [
    "### Sans pre proc"
   ]
  },
  {
   "cell_type": "code",
   "execution_count": null,
   "metadata": {},
   "outputs": [],
   "source": [
    "pred_classifier(\n",
    "    datadir=\"./clem/\",\n",
    "    csv_in=\"./clem/metadata_age.csv\",\n",
    "    csv_out=\"./clem_out_age/preds.csv\",\n",
    "    ckpt_path = ckpt_path4\n",
    ")"
   ]
  },
  {
   "cell_type": "code",
   "execution_count": 13,
   "metadata": {},
   "outputs": [
    {
     "name": "stdout",
     "output_type": "stream",
     "text": [
      "Start prediction on train dataset\n",
      "Start prediction on validation dataset\n",
      "\n",
      "📊 Global Metrics:\n",
      "- Balanced Accuracy: 0.7114\n",
      "- Accuracy: 0.7066\n",
      "\n",
      "📊 Fairness Metrics (by Patient Gender):\n",
      "  ▶ Group 'M':\n",
      "     - Accuracy: 0.6963\n",
      "     - Balanced Accuracy: 0.703\n",
      "     - TPR (Sensitivity): 0.6524\n",
      "  ▶ Group 'F':\n",
      "     - Accuracy: 0.7181\n",
      "     - Balanced Accuracy: 0.7211\n",
      "     - TPR (Sensitivity): 0.6843\n",
      "\n",
      "⚖️  Accuracy Disparity (M vs F): 0.0217\n"
     ]
    }
   ],
   "source": [
    "\n",
    "pred_classifier(\n",
    "    datadir=\"./clem/\",\n",
    "    csv_in=\"./clem/metadata_gender.csv\",\n",
    "    csv_out=\"./clem_out_genre/preds.csv\",\n",
    "    ckpt_path = ckpt_path5\n",
    ")\n"
   ]
  },
  {
   "cell_type": "code",
   "execution_count": null,
   "metadata": {},
   "outputs": [],
   "source": [
    "pred_classifier(\n",
    "    datadir=\"./clem/\",\n",
    "    csv_in=\"./clem/metadata_both.csv\",\n",
    "    csv_out=\"./clem_out_both/preds.csv\",\n",
    "    ckpt_path = ckpt_path\n",
    ")"
   ]
  },
  {
   "cell_type": "code",
   "execution_count": 15,
   "metadata": {},
   "outputs": [
    {
     "name": "stdout",
     "output_type": "stream",
     "text": [
      "Start prediction on train dataset\n",
      "Start prediction on validation dataset\n",
      "\n",
      "📊 Global Metrics:\n",
      "- Balanced Accuracy: 0.7056\n",
      "- Accuracy: 0.7242\n",
      "\n",
      "📊 Fairness Metrics (by Patient Gender):\n",
      "  ▶ Group 'M':\n",
      "     - Accuracy: 0.7201\n",
      "     - Balanced Accuracy: 0.6985\n",
      "     - TPR (Sensitivity): 0.8625\n",
      "  ▶ Group 'F':\n",
      "     - Accuracy: 0.7287\n",
      "     - Balanced Accuracy: 0.7139\n",
      "     - TPR (Sensitivity): 0.8953\n",
      "\n",
      "⚖️  Accuracy Disparity (M vs F): 0.0086\n"
     ]
    }
   ],
   "source": [
    "pred_classifier(\n",
    "    datadir=\"./clem/\",\n",
    "    csv_in=\"./clem/metadata.csv\",\n",
    "    csv_out=\"./clem_out/preds.csv\",\n",
    "    ckpt_path = ckpt_path0\n",
    ")"
   ]
  },
  {
   "cell_type": "code",
   "execution_count": null,
   "metadata": {},
   "outputs": [],
   "source": []
  }
 ],
 "metadata": {
  "kernelspec": {
   "display_name": "projet-env",
   "language": "python",
   "name": "python3"
  },
  "language_info": {
   "codemirror_mode": {
    "name": "ipython",
    "version": 3
   },
   "file_extension": ".py",
   "mimetype": "text/x-python",
   "name": "python",
   "nbconvert_exporter": "python",
   "pygments_lexer": "ipython3",
   "version": "3.10.11"
  }
 },
 "nbformat": 4,
 "nbformat_minor": 2
}
