{
 "cells": [
  {
   "cell_type": "markdown",
   "metadata": {},
   "source": [
    "# **Analyse rapide de methadonnées**"
   ]
  },
  {
   "cell_type": "markdown",
   "metadata": {},
   "source": [
    "L'objectif de ce notbook est de faire une breve analyse de methédonnée disponibles sur l'ensemble des images de radiographie de torse. "
   ]
  },
  {
   "cell_type": "markdown",
   "metadata": {
    "vscode": {
     "languageId": "html"
    }
   },
   "source": [
    "<html>\n",
    "<head>\n",
    "    <title>Todo List</title>\n",
    "    <style>\n",
    "        .todo {\n",
    "            color: rgb(250, 154, 64);\n",
    "        }\n",
    "    </style>\n",
    "</head>\n",
    "\n",
    "<body>\n",
    "    <h1>Todo List</h1>\n",
    "    <ul>\n",
    "        <li class=\"todo\">Introduction</li>\n",
    "        <li class=\"todo\">Conclusion</li>\n",
    "        <li class=\"todo\">New Data for pre-processing of images</li>\n",
    "    </ul>\n",
    "</body>\n",
    "\n",
    "</html>\n"
   ]
  },
  {
   "cell_type": "code",
   "execution_count": 1,
   "metadata": {},
   "outputs": [],
   "source": [
    "import numpy as np\n",
    "import pandas as pd\n",
    "import plotly.express as px\n",
    "import warnings\n",
    "warnings.simplefilter(action='ignore', category=FutureWarning)\n",
    "warnings.simplefilter(action='ignore', append=True, category=UserWarning)"
   ]
  },
  {
   "cell_type": "code",
   "execution_count": 2,
   "metadata": {},
   "outputs": [],
   "source": [
    "df = pd.read_csv('DATASET/metadata.csv')"
   ]
  },
  {
   "cell_type": "markdown",
   "metadata": {
    "vscode": {
     "languageId": "html"
    }
   },
   "source": [
    "<p style=\"color:rgb(250, 154, 64);\">\n",
    "      On regarde qq staistique sur les jeux de données </p>"
   ]
  },
  {
   "cell_type": "markdown",
   "metadata": {},
   "source": [
    "# Analyse des Métadonnées et Prétraitement par Reweighting\n",
    "\n",
    "Dans ce notebook, nous allons analyser les métadonnées d'un jeu de données médical où :\n",
    "- Les **colonnes sensibles** sont `Patient Age` et `Patient Gender`.\n",
    "- La **variable cible** est `Finding Labels`.  \n",
    "  Si la valeur est `\"No Finding\"`, cela signifie qu'il n'y a **aucune maladie** détectée.  \n",
    "  Dans le cas contraire, la chaîne contient une ou plusieurs maladies (séparées par `|`).\n",
    "\n",
    "L'objectif est de :\n",
    "\n",
    "1. Préparer les données en créant une variable binaire `disease` (0 pour *No Finding*, 1 pour présence de maladie).\n",
    "2. Réaliser une analyse univariée et bivariée en utilisant Plotly Express pour visualiser les distributions et relations.\n",
    "3. Calculer des poids pour chaque échantillon via un **reweighting** (pour compenser un éventuel déséquilibre de classes) et stocker ces poids dans la colonne `WEIGHTS` (déjà initialisés à 1.0).\n",
    "\n",
    "\"\"\"\n"
   ]
  },
  {
   "cell_type": "code",
   "execution_count": 3,
   "metadata": {},
   "outputs": [
    {
     "name": "stdout",
     "output_type": "stream",
     "text": [
      "Aperçu des premières lignes:\n"
     ]
    },
    {
     "data": {
      "text/html": [
       "<div>\n",
       "<style scoped>\n",
       "    .dataframe tbody tr th:only-of-type {\n",
       "        vertical-align: middle;\n",
       "    }\n",
       "\n",
       "    .dataframe tbody tr th {\n",
       "        vertical-align: top;\n",
       "    }\n",
       "\n",
       "    .dataframe thead th {\n",
       "        text-align: right;\n",
       "    }\n",
       "</style>\n",
       "<table border=\"1\" class=\"dataframe\">\n",
       "  <thead>\n",
       "    <tr style=\"text-align: right;\">\n",
       "      <th></th>\n",
       "      <th>Image Index</th>\n",
       "      <th>Finding Labels</th>\n",
       "      <th>Follow-up #</th>\n",
       "      <th>Patient ID</th>\n",
       "      <th>Patient Age</th>\n",
       "      <th>Patient Gender</th>\n",
       "      <th>View Position</th>\n",
       "      <th>OriginalImage[Width</th>\n",
       "      <th>Height]</th>\n",
       "      <th>OriginalImagePixelSpacing[x</th>\n",
       "      <th>y]</th>\n",
       "      <th>WEIGHTS</th>\n",
       "    </tr>\n",
       "  </thead>\n",
       "  <tbody>\n",
       "    <tr>\n",
       "      <th>0</th>\n",
       "      <td>00000002_000.png</td>\n",
       "      <td>No Finding</td>\n",
       "      <td>0</td>\n",
       "      <td>2</td>\n",
       "      <td>81</td>\n",
       "      <td>M</td>\n",
       "      <td>PA</td>\n",
       "      <td>2500</td>\n",
       "      <td>2048</td>\n",
       "      <td>0.171</td>\n",
       "      <td>0.171</td>\n",
       "      <td>1</td>\n",
       "    </tr>\n",
       "    <tr>\n",
       "      <th>1</th>\n",
       "      <td>00000022_000.png</td>\n",
       "      <td>No Finding</td>\n",
       "      <td>0</td>\n",
       "      <td>22</td>\n",
       "      <td>48</td>\n",
       "      <td>M</td>\n",
       "      <td>PA</td>\n",
       "      <td>2048</td>\n",
       "      <td>2500</td>\n",
       "      <td>0.171</td>\n",
       "      <td>0.171</td>\n",
       "      <td>1</td>\n",
       "    </tr>\n",
       "    <tr>\n",
       "      <th>2</th>\n",
       "      <td>00000022_001.png</td>\n",
       "      <td>Fibrosis</td>\n",
       "      <td>1</td>\n",
       "      <td>22</td>\n",
       "      <td>49</td>\n",
       "      <td>M</td>\n",
       "      <td>PA</td>\n",
       "      <td>2500</td>\n",
       "      <td>2048</td>\n",
       "      <td>0.168</td>\n",
       "      <td>0.168</td>\n",
       "      <td>1</td>\n",
       "    </tr>\n",
       "    <tr>\n",
       "      <th>3</th>\n",
       "      <td>00000033_000.png</td>\n",
       "      <td>Atelectasis|Cardiomegaly|Fibrosis</td>\n",
       "      <td>0</td>\n",
       "      <td>33</td>\n",
       "      <td>72</td>\n",
       "      <td>F</td>\n",
       "      <td>PA</td>\n",
       "      <td>2992</td>\n",
       "      <td>2745</td>\n",
       "      <td>0.143</td>\n",
       "      <td>0.143</td>\n",
       "      <td>1</td>\n",
       "    </tr>\n",
       "    <tr>\n",
       "      <th>4</th>\n",
       "      <td>00000091_000.png</td>\n",
       "      <td>No Finding</td>\n",
       "      <td>0</td>\n",
       "      <td>91</td>\n",
       "      <td>69</td>\n",
       "      <td>M</td>\n",
       "      <td>PA</td>\n",
       "      <td>2834</td>\n",
       "      <td>2849</td>\n",
       "      <td>0.143</td>\n",
       "      <td>0.143</td>\n",
       "      <td>1</td>\n",
       "    </tr>\n",
       "  </tbody>\n",
       "</table>\n",
       "</div>"
      ],
      "text/plain": [
       "        Image Index                     Finding Labels  Follow-up #  \\\n",
       "0  00000002_000.png                         No Finding            0   \n",
       "1  00000022_000.png                         No Finding            0   \n",
       "2  00000022_001.png                           Fibrosis            1   \n",
       "3  00000033_000.png  Atelectasis|Cardiomegaly|Fibrosis            0   \n",
       "4  00000091_000.png                         No Finding            0   \n",
       "\n",
       "   Patient ID  Patient Age Patient Gender View Position  OriginalImage[Width  \\\n",
       "0           2           81              M            PA                 2500   \n",
       "1          22           48              M            PA                 2048   \n",
       "2          22           49              M            PA                 2500   \n",
       "3          33           72              F            PA                 2992   \n",
       "4          91           69              M            PA                 2834   \n",
       "\n",
       "   Height]  OriginalImagePixelSpacing[x     y]  WEIGHTS  \n",
       "0     2048                        0.171  0.171        1  \n",
       "1     2500                        0.171  0.171        1  \n",
       "2     2048                        0.168  0.168        1  \n",
       "3     2745                        0.143  0.143        1  \n",
       "4     2849                        0.143  0.143        1  "
      ]
     },
     "metadata": {},
     "output_type": "display_data"
    },
    {
     "name": "stdout",
     "output_type": "stream",
     "text": [
      "Colonnes du DataFrame: ['Image Index', 'Finding Labels', 'Follow-up #', 'Patient ID', 'Patient Age', 'Patient Gender', 'View Position', 'OriginalImage[Width', 'Height]', 'OriginalImagePixelSpacing[x', 'y]', 'WEIGHTS']\n"
     ]
    }
   ],
   "source": [
    "# Affichage d'un aperçu des données\n",
    "print(\"Aperçu des premières lignes:\")\n",
    "display(df.head())\n",
    "\n",
    "# Vérifier la présence des colonnes sensibles et de la colonne cible\n",
    "print(\"Colonnes du DataFrame:\", df.columns.tolist())"
   ]
  },
  {
   "cell_type": "markdown",
   "metadata": {},
   "source": [
    "## 1. Préparation des données"
   ]
  },
  {
   "cell_type": "code",
   "execution_count": 4,
   "metadata": {},
   "outputs": [],
   "source": [
    "# Création de la variable cible binaire\n",
    "#  - Si Finding Labels == \"No Finding\" => 0 (aucune maladie)\n",
    "#  - Sinon => 1 (présence d'une ou plusieurs maladies)\n",
    "df['disease'] = df['Finding Labels'].apply(lambda x: 0 if x == \"No Finding\" else 1)"
   ]
  },
  {
   "cell_type": "code",
   "execution_count": 5,
   "metadata": {},
   "outputs": [],
   "source": [
    "# Correction des âges incorrects : remplacement des âges > 140 par la médiane des âges valides\n",
    "valid_age_mask = df['Patient Age'] <= 140\n",
    "median_age = df.loc[valid_age_mask, 'Patient Age'].median()\n",
    "df.loc[~valid_age_mask, 'Patient Age'] = median_age"
   ]
  },
  {
   "cell_type": "code",
   "execution_count": 6,
   "metadata": {},
   "outputs": [
    {
     "data": {
      "application/vnd.plotly.v1+json": {
       "config": {
        "plotlyServerURL": "https://plot.ly"
       },
       "data": [
        {
         "domain": {
          "x": [
           0,
           1
          ],
          "y": [
           0,
           1
          ]
         },
         "hovertemplate": "disease=%{label}<br>count=%{value}<extra></extra>",
         "labels": [
          "Sain",
          "Malade"
         ],
         "legendgroup": "",
         "name": "",
         "showlegend": true,
         "type": "pie",
         "values": {
          "bdata": "ugqiCA==",
          "dtype": "i2"
         }
        }
       ],
       "layout": {
        "legend": {
         "tracegroupgap": 0
        },
        "piecolorway": [
         "rgb(102, 197, 204)",
         "rgb(246, 207, 113)",
         "rgb(248, 156, 116)",
         "rgb(220, 176, 242)",
         "rgb(135, 197, 95)",
         "rgb(158, 185, 243)",
         "rgb(254, 136, 177)",
         "rgb(201, 219, 116)",
         "rgb(139, 224, 164)",
         "rgb(180, 151, 231)",
         "rgb(179, 179, 179)"
        ],
        "template": {
         "data": {
          "bar": [
           {
            "error_x": {
             "color": "#2a3f5f"
            },
            "error_y": {
             "color": "#2a3f5f"
            },
            "marker": {
             "line": {
              "color": "#E5ECF6",
              "width": 0.5
             },
             "pattern": {
              "fillmode": "overlay",
              "size": 10,
              "solidity": 0.2
             }
            },
            "type": "bar"
           }
          ],
          "barpolar": [
           {
            "marker": {
             "line": {
              "color": "#E5ECF6",
              "width": 0.5
             },
             "pattern": {
              "fillmode": "overlay",
              "size": 10,
              "solidity": 0.2
             }
            },
            "type": "barpolar"
           }
          ],
          "carpet": [
           {
            "aaxis": {
             "endlinecolor": "#2a3f5f",
             "gridcolor": "white",
             "linecolor": "white",
             "minorgridcolor": "white",
             "startlinecolor": "#2a3f5f"
            },
            "baxis": {
             "endlinecolor": "#2a3f5f",
             "gridcolor": "white",
             "linecolor": "white",
             "minorgridcolor": "white",
             "startlinecolor": "#2a3f5f"
            },
            "type": "carpet"
           }
          ],
          "choropleth": [
           {
            "colorbar": {
             "outlinewidth": 0,
             "ticks": ""
            },
            "type": "choropleth"
           }
          ],
          "contour": [
           {
            "colorbar": {
             "outlinewidth": 0,
             "ticks": ""
            },
            "colorscale": [
             [
              0,
              "#0d0887"
             ],
             [
              0.1111111111111111,
              "#46039f"
             ],
             [
              0.2222222222222222,
              "#7201a8"
             ],
             [
              0.3333333333333333,
              "#9c179e"
             ],
             [
              0.4444444444444444,
              "#bd3786"
             ],
             [
              0.5555555555555556,
              "#d8576b"
             ],
             [
              0.6666666666666666,
              "#ed7953"
             ],
             [
              0.7777777777777778,
              "#fb9f3a"
             ],
             [
              0.8888888888888888,
              "#fdca26"
             ],
             [
              1,
              "#f0f921"
             ]
            ],
            "type": "contour"
           }
          ],
          "contourcarpet": [
           {
            "colorbar": {
             "outlinewidth": 0,
             "ticks": ""
            },
            "type": "contourcarpet"
           }
          ],
          "heatmap": [
           {
            "colorbar": {
             "outlinewidth": 0,
             "ticks": ""
            },
            "colorscale": [
             [
              0,
              "#0d0887"
             ],
             [
              0.1111111111111111,
              "#46039f"
             ],
             [
              0.2222222222222222,
              "#7201a8"
             ],
             [
              0.3333333333333333,
              "#9c179e"
             ],
             [
              0.4444444444444444,
              "#bd3786"
             ],
             [
              0.5555555555555556,
              "#d8576b"
             ],
             [
              0.6666666666666666,
              "#ed7953"
             ],
             [
              0.7777777777777778,
              "#fb9f3a"
             ],
             [
              0.8888888888888888,
              "#fdca26"
             ],
             [
              1,
              "#f0f921"
             ]
            ],
            "type": "heatmap"
           }
          ],
          "histogram": [
           {
            "marker": {
             "pattern": {
              "fillmode": "overlay",
              "size": 10,
              "solidity": 0.2
             }
            },
            "type": "histogram"
           }
          ],
          "histogram2d": [
           {
            "colorbar": {
             "outlinewidth": 0,
             "ticks": ""
            },
            "colorscale": [
             [
              0,
              "#0d0887"
             ],
             [
              0.1111111111111111,
              "#46039f"
             ],
             [
              0.2222222222222222,
              "#7201a8"
             ],
             [
              0.3333333333333333,
              "#9c179e"
             ],
             [
              0.4444444444444444,
              "#bd3786"
             ],
             [
              0.5555555555555556,
              "#d8576b"
             ],
             [
              0.6666666666666666,
              "#ed7953"
             ],
             [
              0.7777777777777778,
              "#fb9f3a"
             ],
             [
              0.8888888888888888,
              "#fdca26"
             ],
             [
              1,
              "#f0f921"
             ]
            ],
            "type": "histogram2d"
           }
          ],
          "histogram2dcontour": [
           {
            "colorbar": {
             "outlinewidth": 0,
             "ticks": ""
            },
            "colorscale": [
             [
              0,
              "#0d0887"
             ],
             [
              0.1111111111111111,
              "#46039f"
             ],
             [
              0.2222222222222222,
              "#7201a8"
             ],
             [
              0.3333333333333333,
              "#9c179e"
             ],
             [
              0.4444444444444444,
              "#bd3786"
             ],
             [
              0.5555555555555556,
              "#d8576b"
             ],
             [
              0.6666666666666666,
              "#ed7953"
             ],
             [
              0.7777777777777778,
              "#fb9f3a"
             ],
             [
              0.8888888888888888,
              "#fdca26"
             ],
             [
              1,
              "#f0f921"
             ]
            ],
            "type": "histogram2dcontour"
           }
          ],
          "mesh3d": [
           {
            "colorbar": {
             "outlinewidth": 0,
             "ticks": ""
            },
            "type": "mesh3d"
           }
          ],
          "parcoords": [
           {
            "line": {
             "colorbar": {
              "outlinewidth": 0,
              "ticks": ""
             }
            },
            "type": "parcoords"
           }
          ],
          "pie": [
           {
            "automargin": true,
            "type": "pie"
           }
          ],
          "scatter": [
           {
            "fillpattern": {
             "fillmode": "overlay",
             "size": 10,
             "solidity": 0.2
            },
            "type": "scatter"
           }
          ],
          "scatter3d": [
           {
            "line": {
             "colorbar": {
              "outlinewidth": 0,
              "ticks": ""
             }
            },
            "marker": {
             "colorbar": {
              "outlinewidth": 0,
              "ticks": ""
             }
            },
            "type": "scatter3d"
           }
          ],
          "scattercarpet": [
           {
            "marker": {
             "colorbar": {
              "outlinewidth": 0,
              "ticks": ""
             }
            },
            "type": "scattercarpet"
           }
          ],
          "scattergeo": [
           {
            "marker": {
             "colorbar": {
              "outlinewidth": 0,
              "ticks": ""
             }
            },
            "type": "scattergeo"
           }
          ],
          "scattergl": [
           {
            "marker": {
             "colorbar": {
              "outlinewidth": 0,
              "ticks": ""
             }
            },
            "type": "scattergl"
           }
          ],
          "scattermap": [
           {
            "marker": {
             "colorbar": {
              "outlinewidth": 0,
              "ticks": ""
             }
            },
            "type": "scattermap"
           }
          ],
          "scattermapbox": [
           {
            "marker": {
             "colorbar": {
              "outlinewidth": 0,
              "ticks": ""
             }
            },
            "type": "scattermapbox"
           }
          ],
          "scatterpolar": [
           {
            "marker": {
             "colorbar": {
              "outlinewidth": 0,
              "ticks": ""
             }
            },
            "type": "scatterpolar"
           }
          ],
          "scatterpolargl": [
           {
            "marker": {
             "colorbar": {
              "outlinewidth": 0,
              "ticks": ""
             }
            },
            "type": "scatterpolargl"
           }
          ],
          "scatterternary": [
           {
            "marker": {
             "colorbar": {
              "outlinewidth": 0,
              "ticks": ""
             }
            },
            "type": "scatterternary"
           }
          ],
          "surface": [
           {
            "colorbar": {
             "outlinewidth": 0,
             "ticks": ""
            },
            "colorscale": [
             [
              0,
              "#0d0887"
             ],
             [
              0.1111111111111111,
              "#46039f"
             ],
             [
              0.2222222222222222,
              "#7201a8"
             ],
             [
              0.3333333333333333,
              "#9c179e"
             ],
             [
              0.4444444444444444,
              "#bd3786"
             ],
             [
              0.5555555555555556,
              "#d8576b"
             ],
             [
              0.6666666666666666,
              "#ed7953"
             ],
             [
              0.7777777777777778,
              "#fb9f3a"
             ],
             [
              0.8888888888888888,
              "#fdca26"
             ],
             [
              1,
              "#f0f921"
             ]
            ],
            "type": "surface"
           }
          ],
          "table": [
           {
            "cells": {
             "fill": {
              "color": "#EBF0F8"
             },
             "line": {
              "color": "white"
             }
            },
            "header": {
             "fill": {
              "color": "#C8D4E3"
             },
             "line": {
              "color": "white"
             }
            },
            "type": "table"
           }
          ]
         },
         "layout": {
          "annotationdefaults": {
           "arrowcolor": "#2a3f5f",
           "arrowhead": 0,
           "arrowwidth": 1
          },
          "autotypenumbers": "strict",
          "coloraxis": {
           "colorbar": {
            "outlinewidth": 0,
            "ticks": ""
           }
          },
          "colorscale": {
           "diverging": [
            [
             0,
             "#8e0152"
            ],
            [
             0.1,
             "#c51b7d"
            ],
            [
             0.2,
             "#de77ae"
            ],
            [
             0.3,
             "#f1b6da"
            ],
            [
             0.4,
             "#fde0ef"
            ],
            [
             0.5,
             "#f7f7f7"
            ],
            [
             0.6,
             "#e6f5d0"
            ],
            [
             0.7,
             "#b8e186"
            ],
            [
             0.8,
             "#7fbc41"
            ],
            [
             0.9,
             "#4d9221"
            ],
            [
             1,
             "#276419"
            ]
           ],
           "sequential": [
            [
             0,
             "#0d0887"
            ],
            [
             0.1111111111111111,
             "#46039f"
            ],
            [
             0.2222222222222222,
             "#7201a8"
            ],
            [
             0.3333333333333333,
             "#9c179e"
            ],
            [
             0.4444444444444444,
             "#bd3786"
            ],
            [
             0.5555555555555556,
             "#d8576b"
            ],
            [
             0.6666666666666666,
             "#ed7953"
            ],
            [
             0.7777777777777778,
             "#fb9f3a"
            ],
            [
             0.8888888888888888,
             "#fdca26"
            ],
            [
             1,
             "#f0f921"
            ]
           ],
           "sequentialminus": [
            [
             0,
             "#0d0887"
            ],
            [
             0.1111111111111111,
             "#46039f"
            ],
            [
             0.2222222222222222,
             "#7201a8"
            ],
            [
             0.3333333333333333,
             "#9c179e"
            ],
            [
             0.4444444444444444,
             "#bd3786"
            ],
            [
             0.5555555555555556,
             "#d8576b"
            ],
            [
             0.6666666666666666,
             "#ed7953"
            ],
            [
             0.7777777777777778,
             "#fb9f3a"
            ],
            [
             0.8888888888888888,
             "#fdca26"
            ],
            [
             1,
             "#f0f921"
            ]
           ]
          },
          "colorway": [
           "#636efa",
           "#EF553B",
           "#00cc96",
           "#ab63fa",
           "#FFA15A",
           "#19d3f3",
           "#FF6692",
           "#B6E880",
           "#FF97FF",
           "#FECB52"
          ],
          "font": {
           "color": "#2a3f5f"
          },
          "geo": {
           "bgcolor": "white",
           "lakecolor": "white",
           "landcolor": "#E5ECF6",
           "showlakes": true,
           "showland": true,
           "subunitcolor": "white"
          },
          "hoverlabel": {
           "align": "left"
          },
          "hovermode": "closest",
          "mapbox": {
           "style": "light"
          },
          "paper_bgcolor": "white",
          "plot_bgcolor": "#E5ECF6",
          "polar": {
           "angularaxis": {
            "gridcolor": "white",
            "linecolor": "white",
            "ticks": ""
           },
           "bgcolor": "#E5ECF6",
           "radialaxis": {
            "gridcolor": "white",
            "linecolor": "white",
            "ticks": ""
           }
          },
          "scene": {
           "xaxis": {
            "backgroundcolor": "#E5ECF6",
            "gridcolor": "white",
            "gridwidth": 2,
            "linecolor": "white",
            "showbackground": true,
            "ticks": "",
            "zerolinecolor": "white"
           },
           "yaxis": {
            "backgroundcolor": "#E5ECF6",
            "gridcolor": "white",
            "gridwidth": 2,
            "linecolor": "white",
            "showbackground": true,
            "ticks": "",
            "zerolinecolor": "white"
           },
           "zaxis": {
            "backgroundcolor": "#E5ECF6",
            "gridcolor": "white",
            "gridwidth": 2,
            "linecolor": "white",
            "showbackground": true,
            "ticks": "",
            "zerolinecolor": "white"
           }
          },
          "shapedefaults": {
           "line": {
            "color": "#2a3f5f"
           }
          },
          "ternary": {
           "aaxis": {
            "gridcolor": "white",
            "linecolor": "white",
            "ticks": ""
           },
           "baxis": {
            "gridcolor": "white",
            "linecolor": "white",
            "ticks": ""
           },
           "bgcolor": "#E5ECF6",
           "caxis": {
            "gridcolor": "white",
            "linecolor": "white",
            "ticks": ""
           }
          },
          "title": {
           "x": 0.05
          },
          "xaxis": {
           "automargin": true,
           "gridcolor": "white",
           "linecolor": "white",
           "ticks": "",
           "title": {
            "standoff": 15
           },
           "zerolinecolor": "white",
           "zerolinewidth": 2
          },
          "yaxis": {
           "automargin": true,
           "gridcolor": "white",
           "linecolor": "white",
           "ticks": "",
           "title": {
            "standoff": 15
           },
           "zerolinecolor": "white",
           "zerolinewidth": 2
          }
         }
        },
        "title": {
         "text": "Répartition des malades/sains parmi le jeu de données"
        }
       }
      }
     },
     "metadata": {},
     "output_type": "display_data"
    }
   ],
   "source": [
    "# Calcul de la distribution des malades/sains\n",
    "distribution = df['disease'].value_counts().reset_index()\n",
    "distribution.columns = ['disease', 'count']\n",
    "distribution['disease'] = distribution['disease'].map({0: 'Sain', 1: 'Malade'})\n",
    "\n",
    "# Affichage de la distribution avec un pie chart\n",
    "fig_pie = px.pie(distribution, values='count', names='disease', \n",
    "                 title=\"Répartition des malades/sains parmi le jeu de données\",\n",
    "                 color_discrete_sequence=px.colors.qualitative.Pastel)\n",
    "fig_pie.show()"
   ]
  },
  {
   "cell_type": "markdown",
   "metadata": {},
   "source": [
    "## 2. Analyse"
   ]
  },
  {
   "cell_type": "markdown",
   "metadata": {},
   "source": [
    "### 2.1 Analyse Univariée"
   ]
  },
  {
   "cell_type": "code",
   "execution_count": 7,
   "metadata": {},
   "outputs": [
    {
     "data": {
      "application/vnd.plotly.v1+json": {
       "config": {
        "plotlyServerURL": "https://plot.ly"
       },
       "data": [
        {
         "bingroup": "x",
         "hovertemplate": "Âge du patient=%{x}<br>count=%{y}<extra></extra>",
         "legendgroup": "",
         "marker": {
          "color": "skyblue",
          "opacity": 0.75,
          "pattern": {
           "shape": ""
          }
         },
         "name": "",
         "nbinsx": 40,
         "orientation": "v",
         "showlegend": false,
         "type": "histogram",
         "x": {
          "bdata": "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",
          "dtype": "i1"
         },
         "xaxis": "x",
         "yaxis": "y"
        }
       ],
       "layout": {
        "barmode": "relative",
        "legend": {
         "tracegroupgap": 0
        },
        "template": {
         "data": {
          "bar": [
           {
            "error_x": {
             "color": "#2a3f5f"
            },
            "error_y": {
             "color": "#2a3f5f"
            },
            "marker": {
             "line": {
              "color": "#E5ECF6",
              "width": 0.5
             },
             "pattern": {
              "fillmode": "overlay",
              "size": 10,
              "solidity": 0.2
             }
            },
            "type": "bar"
           }
          ],
          "barpolar": [
           {
            "marker": {
             "line": {
              "color": "#E5ECF6",
              "width": 0.5
             },
             "pattern": {
              "fillmode": "overlay",
              "size": 10,
              "solidity": 0.2
             }
            },
            "type": "barpolar"
           }
          ],
          "carpet": [
           {
            "aaxis": {
             "endlinecolor": "#2a3f5f",
             "gridcolor": "white",
             "linecolor": "white",
             "minorgridcolor": "white",
             "startlinecolor": "#2a3f5f"
            },
            "baxis": {
             "endlinecolor": "#2a3f5f",
             "gridcolor": "white",
             "linecolor": "white",
             "minorgridcolor": "white",
             "startlinecolor": "#2a3f5f"
            },
            "type": "carpet"
           }
          ],
          "choropleth": [
           {
            "colorbar": {
             "outlinewidth": 0,
             "ticks": ""
            },
            "type": "choropleth"
           }
          ],
          "contour": [
           {
            "colorbar": {
             "outlinewidth": 0,
             "ticks": ""
            },
            "colorscale": [
             [
              0,
              "#0d0887"
             ],
             [
              0.1111111111111111,
              "#46039f"
             ],
             [
              0.2222222222222222,
              "#7201a8"
             ],
             [
              0.3333333333333333,
              "#9c179e"
             ],
             [
              0.4444444444444444,
              "#bd3786"
             ],
             [
              0.5555555555555556,
              "#d8576b"
             ],
             [
              0.6666666666666666,
              "#ed7953"
             ],
             [
              0.7777777777777778,
              "#fb9f3a"
             ],
             [
              0.8888888888888888,
              "#fdca26"
             ],
             [
              1,
              "#f0f921"
             ]
            ],
            "type": "contour"
           }
          ],
          "contourcarpet": [
           {
            "colorbar": {
             "outlinewidth": 0,
             "ticks": ""
            },
            "type": "contourcarpet"
           }
          ],
          "heatmap": [
           {
            "colorbar": {
             "outlinewidth": 0,
             "ticks": ""
            },
            "colorscale": [
             [
              0,
              "#0d0887"
             ],
             [
              0.1111111111111111,
              "#46039f"
             ],
             [
              0.2222222222222222,
              "#7201a8"
             ],
             [
              0.3333333333333333,
              "#9c179e"
             ],
             [
              0.4444444444444444,
              "#bd3786"
             ],
             [
              0.5555555555555556,
              "#d8576b"
             ],
             [
              0.6666666666666666,
              "#ed7953"
             ],
             [
              0.7777777777777778,
              "#fb9f3a"
             ],
             [
              0.8888888888888888,
              "#fdca26"
             ],
             [
              1,
              "#f0f921"
             ]
            ],
            "type": "heatmap"
           }
          ],
          "histogram": [
           {
            "marker": {
             "pattern": {
              "fillmode": "overlay",
              "size": 10,
              "solidity": 0.2
             }
            },
            "type": "histogram"
           }
          ],
          "histogram2d": [
           {
            "colorbar": {
             "outlinewidth": 0,
             "ticks": ""
            },
            "colorscale": [
             [
              0,
              "#0d0887"
             ],
             [
              0.1111111111111111,
              "#46039f"
             ],
             [
              0.2222222222222222,
              "#7201a8"
             ],
             [
              0.3333333333333333,
              "#9c179e"
             ],
             [
              0.4444444444444444,
              "#bd3786"
             ],
             [
              0.5555555555555556,
              "#d8576b"
             ],
             [
              0.6666666666666666,
              "#ed7953"
             ],
             [
              0.7777777777777778,
              "#fb9f3a"
             ],
             [
              0.8888888888888888,
              "#fdca26"
             ],
             [
              1,
              "#f0f921"
             ]
            ],
            "type": "histogram2d"
           }
          ],
          "histogram2dcontour": [
           {
            "colorbar": {
             "outlinewidth": 0,
             "ticks": ""
            },
            "colorscale": [
             [
              0,
              "#0d0887"
             ],
             [
              0.1111111111111111,
              "#46039f"
             ],
             [
              0.2222222222222222,
              "#7201a8"
             ],
             [
              0.3333333333333333,
              "#9c179e"
             ],
             [
              0.4444444444444444,
              "#bd3786"
             ],
             [
              0.5555555555555556,
              "#d8576b"
             ],
             [
              0.6666666666666666,
              "#ed7953"
             ],
             [
              0.7777777777777778,
              "#fb9f3a"
             ],
             [
              0.8888888888888888,
              "#fdca26"
             ],
             [
              1,
              "#f0f921"
             ]
            ],
            "type": "histogram2dcontour"
           }
          ],
          "mesh3d": [
           {
            "colorbar": {
             "outlinewidth": 0,
             "ticks": ""
            },
            "type": "mesh3d"
           }
          ],
          "parcoords": [
           {
            "line": {
             "colorbar": {
              "outlinewidth": 0,
              "ticks": ""
             }
            },
            "type": "parcoords"
           }
          ],
          "pie": [
           {
            "automargin": true,
            "type": "pie"
           }
          ],
          "scatter": [
           {
            "fillpattern": {
             "fillmode": "overlay",
             "size": 10,
             "solidity": 0.2
            },
            "type": "scatter"
           }
          ],
          "scatter3d": [
           {
            "line": {
             "colorbar": {
              "outlinewidth": 0,
              "ticks": ""
             }
            },
            "marker": {
             "colorbar": {
              "outlinewidth": 0,
              "ticks": ""
             }
            },
            "type": "scatter3d"
           }
          ],
          "scattercarpet": [
           {
            "marker": {
             "colorbar": {
              "outlinewidth": 0,
              "ticks": ""
             }
            },
            "type": "scattercarpet"
           }
          ],
          "scattergeo": [
           {
            "marker": {
             "colorbar": {
              "outlinewidth": 0,
              "ticks": ""
             }
            },
            "type": "scattergeo"
           }
          ],
          "scattergl": [
           {
            "marker": {
             "colorbar": {
              "outlinewidth": 0,
              "ticks": ""
             }
            },
            "type": "scattergl"
           }
          ],
          "scattermap": [
           {
            "marker": {
             "colorbar": {
              "outlinewidth": 0,
              "ticks": ""
             }
            },
            "type": "scattermap"
           }
          ],
          "scattermapbox": [
           {
            "marker": {
             "colorbar": {
              "outlinewidth": 0,
              "ticks": ""
             }
            },
            "type": "scattermapbox"
           }
          ],
          "scatterpolar": [
           {
            "marker": {
             "colorbar": {
              "outlinewidth": 0,
              "ticks": ""
             }
            },
            "type": "scatterpolar"
           }
          ],
          "scatterpolargl": [
           {
            "marker": {
             "colorbar": {
              "outlinewidth": 0,
              "ticks": ""
             }
            },
            "type": "scatterpolargl"
           }
          ],
          "scatterternary": [
           {
            "marker": {
             "colorbar": {
              "outlinewidth": 0,
              "ticks": ""
             }
            },
            "type": "scatterternary"
           }
          ],
          "surface": [
           {
            "colorbar": {
             "outlinewidth": 0,
             "ticks": ""
            },
            "colorscale": [
             [
              0,
              "#0d0887"
             ],
             [
              0.1111111111111111,
              "#46039f"
             ],
             [
              0.2222222222222222,
              "#7201a8"
             ],
             [
              0.3333333333333333,
              "#9c179e"
             ],
             [
              0.4444444444444444,
              "#bd3786"
             ],
             [
              0.5555555555555556,
              "#d8576b"
             ],
             [
              0.6666666666666666,
              "#ed7953"
             ],
             [
              0.7777777777777778,
              "#fb9f3a"
             ],
             [
              0.8888888888888888,
              "#fdca26"
             ],
             [
              1,
              "#f0f921"
             ]
            ],
            "type": "surface"
           }
          ],
          "table": [
           {
            "cells": {
             "fill": {
              "color": "#EBF0F8"
             },
             "line": {
              "color": "white"
             }
            },
            "header": {
             "fill": {
              "color": "#C8D4E3"
             },
             "line": {
              "color": "white"
             }
            },
            "type": "table"
           }
          ]
         },
         "layout": {
          "annotationdefaults": {
           "arrowcolor": "#2a3f5f",
           "arrowhead": 0,
           "arrowwidth": 1
          },
          "autotypenumbers": "strict",
          "coloraxis": {
           "colorbar": {
            "outlinewidth": 0,
            "ticks": ""
           }
          },
          "colorscale": {
           "diverging": [
            [
             0,
             "#8e0152"
            ],
            [
             0.1,
             "#c51b7d"
            ],
            [
             0.2,
             "#de77ae"
            ],
            [
             0.3,
             "#f1b6da"
            ],
            [
             0.4,
             "#fde0ef"
            ],
            [
             0.5,
             "#f7f7f7"
            ],
            [
             0.6,
             "#e6f5d0"
            ],
            [
             0.7,
             "#b8e186"
            ],
            [
             0.8,
             "#7fbc41"
            ],
            [
             0.9,
             "#4d9221"
            ],
            [
             1,
             "#276419"
            ]
           ],
           "sequential": [
            [
             0,
             "#0d0887"
            ],
            [
             0.1111111111111111,
             "#46039f"
            ],
            [
             0.2222222222222222,
             "#7201a8"
            ],
            [
             0.3333333333333333,
             "#9c179e"
            ],
            [
             0.4444444444444444,
             "#bd3786"
            ],
            [
             0.5555555555555556,
             "#d8576b"
            ],
            [
             0.6666666666666666,
             "#ed7953"
            ],
            [
             0.7777777777777778,
             "#fb9f3a"
            ],
            [
             0.8888888888888888,
             "#fdca26"
            ],
            [
             1,
             "#f0f921"
            ]
           ],
           "sequentialminus": [
            [
             0,
             "#0d0887"
            ],
            [
             0.1111111111111111,
             "#46039f"
            ],
            [
             0.2222222222222222,
             "#7201a8"
            ],
            [
             0.3333333333333333,
             "#9c179e"
            ],
            [
             0.4444444444444444,
             "#bd3786"
            ],
            [
             0.5555555555555556,
             "#d8576b"
            ],
            [
             0.6666666666666666,
             "#ed7953"
            ],
            [
             0.7777777777777778,
             "#fb9f3a"
            ],
            [
             0.8888888888888888,
             "#fdca26"
            ],
            [
             1,
             "#f0f921"
            ]
           ]
          },
          "colorway": [
           "#636efa",
           "#EF553B",
           "#00cc96",
           "#ab63fa",
           "#FFA15A",
           "#19d3f3",
           "#FF6692",
           "#B6E880",
           "#FF97FF",
           "#FECB52"
          ],
          "font": {
           "color": "#2a3f5f"
          },
          "geo": {
           "bgcolor": "white",
           "lakecolor": "white",
           "landcolor": "#E5ECF6",
           "showlakes": true,
           "showland": true,
           "subunitcolor": "white"
          },
          "hoverlabel": {
           "align": "left"
          },
          "hovermode": "closest",
          "mapbox": {
           "style": "light"
          },
          "paper_bgcolor": "white",
          "plot_bgcolor": "#E5ECF6",
          "polar": {
           "angularaxis": {
            "gridcolor": "white",
            "linecolor": "white",
            "ticks": ""
           },
           "bgcolor": "#E5ECF6",
           "radialaxis": {
            "gridcolor": "white",
            "linecolor": "white",
            "ticks": ""
           }
          },
          "scene": {
           "xaxis": {
            "backgroundcolor": "#E5ECF6",
            "gridcolor": "white",
            "gridwidth": 2,
            "linecolor": "white",
            "showbackground": true,
            "ticks": "",
            "zerolinecolor": "white"
           },
           "yaxis": {
            "backgroundcolor": "#E5ECF6",
            "gridcolor": "white",
            "gridwidth": 2,
            "linecolor": "white",
            "showbackground": true,
            "ticks": "",
            "zerolinecolor": "white"
           },
           "zaxis": {
            "backgroundcolor": "#E5ECF6",
            "gridcolor": "white",
            "gridwidth": 2,
            "linecolor": "white",
            "showbackground": true,
            "ticks": "",
            "zerolinecolor": "white"
           }
          },
          "shapedefaults": {
           "line": {
            "color": "#2a3f5f"
           }
          },
          "ternary": {
           "aaxis": {
            "gridcolor": "white",
            "linecolor": "white",
            "ticks": ""
           },
           "baxis": {
            "gridcolor": "white",
            "linecolor": "white",
            "ticks": ""
           },
           "bgcolor": "#E5ECF6",
           "caxis": {
            "gridcolor": "white",
            "linecolor": "white",
            "ticks": ""
           }
          },
          "title": {
           "x": 0.05
          },
          "xaxis": {
           "automargin": true,
           "gridcolor": "white",
           "linecolor": "white",
           "ticks": "",
           "title": {
            "standoff": 15
           },
           "zerolinecolor": "white",
           "zerolinewidth": 2
          },
          "yaxis": {
           "automargin": true,
           "gridcolor": "white",
           "linecolor": "white",
           "ticks": "",
           "title": {
            "standoff": 15
           },
           "zerolinecolor": "white",
           "zerolinewidth": 2
          }
         }
        },
        "title": {
         "text": "Distribution de l'âge des patients"
        },
        "xaxis": {
         "anchor": "y",
         "domain": [
          0,
          1
         ],
         "title": {
          "text": "Âge du patient"
         }
        },
        "yaxis": {
         "anchor": "x",
         "domain": [
          0,
          1
         ],
         "title": {
          "text": "count"
         }
        }
       }
      }
     },
     "metadata": {},
     "output_type": "display_data"
    }
   ],
   "source": [
    "# 1. Distribution de Patient Age\n",
    "fig_age = px.histogram(df, \n",
    "                       x='Patient Age', \n",
    "                       title=\"Distribution de l'âge des patients\",\n",
    "                       nbins=40,\n",
    "                       color_discrete_sequence=['skyblue'],\n",
    "                       opacity=0.75,\n",
    "                       labels={'Patient Age': 'Âge du patient'},\n",
    "                       )\n",
    "fig_age.show()"
   ]
  },
  {
   "cell_type": "code",
   "execution_count": 8,
   "metadata": {},
   "outputs": [
    {
     "data": {
      "application/vnd.plotly.v1+json": {
       "config": {
        "plotlyServerURL": "https://plot.ly"
       },
       "data": [
        {
         "domain": {
          "x": [
           0,
           1
          ],
          "y": [
           0,
           1
          ]
         },
         "hovertemplate": "Patient Gender=%{label}<br>count=%{value}<extra></extra>",
         "labels": [
          "M",
          "F"
         ],
         "legendgroup": "",
         "name": "",
         "showlegend": true,
         "type": "pie",
         "values": {
          "bdata": "MAosCQ==",
          "dtype": "i2"
         }
        }
       ],
       "layout": {
        "legend": {
         "tracegroupgap": 0
        },
        "piecolorway": [
         "rgb(102, 197, 204)",
         "rgb(246, 207, 113)",
         "rgb(248, 156, 116)",
         "rgb(220, 176, 242)",
         "rgb(135, 197, 95)",
         "rgb(158, 185, 243)",
         "rgb(254, 136, 177)",
         "rgb(201, 219, 116)",
         "rgb(139, 224, 164)",
         "rgb(180, 151, 231)",
         "rgb(179, 179, 179)"
        ],
        "template": {
         "data": {
          "bar": [
           {
            "error_x": {
             "color": "#2a3f5f"
            },
            "error_y": {
             "color": "#2a3f5f"
            },
            "marker": {
             "line": {
              "color": "#E5ECF6",
              "width": 0.5
             },
             "pattern": {
              "fillmode": "overlay",
              "size": 10,
              "solidity": 0.2
             }
            },
            "type": "bar"
           }
          ],
          "barpolar": [
           {
            "marker": {
             "line": {
              "color": "#E5ECF6",
              "width": 0.5
             },
             "pattern": {
              "fillmode": "overlay",
              "size": 10,
              "solidity": 0.2
             }
            },
            "type": "barpolar"
           }
          ],
          "carpet": [
           {
            "aaxis": {
             "endlinecolor": "#2a3f5f",
             "gridcolor": "white",
             "linecolor": "white",
             "minorgridcolor": "white",
             "startlinecolor": "#2a3f5f"
            },
            "baxis": {
             "endlinecolor": "#2a3f5f",
             "gridcolor": "white",
             "linecolor": "white",
             "minorgridcolor": "white",
             "startlinecolor": "#2a3f5f"
            },
            "type": "carpet"
           }
          ],
          "choropleth": [
           {
            "colorbar": {
             "outlinewidth": 0,
             "ticks": ""
            },
            "type": "choropleth"
           }
          ],
          "contour": [
           {
            "colorbar": {
             "outlinewidth": 0,
             "ticks": ""
            },
            "colorscale": [
             [
              0,
              "#0d0887"
             ],
             [
              0.1111111111111111,
              "#46039f"
             ],
             [
              0.2222222222222222,
              "#7201a8"
             ],
             [
              0.3333333333333333,
              "#9c179e"
             ],
             [
              0.4444444444444444,
              "#bd3786"
             ],
             [
              0.5555555555555556,
              "#d8576b"
             ],
             [
              0.6666666666666666,
              "#ed7953"
             ],
             [
              0.7777777777777778,
              "#fb9f3a"
             ],
             [
              0.8888888888888888,
              "#fdca26"
             ],
             [
              1,
              "#f0f921"
             ]
            ],
            "type": "contour"
           }
          ],
          "contourcarpet": [
           {
            "colorbar": {
             "outlinewidth": 0,
             "ticks": ""
            },
            "type": "contourcarpet"
           }
          ],
          "heatmap": [
           {
            "colorbar": {
             "outlinewidth": 0,
             "ticks": ""
            },
            "colorscale": [
             [
              0,
              "#0d0887"
             ],
             [
              0.1111111111111111,
              "#46039f"
             ],
             [
              0.2222222222222222,
              "#7201a8"
             ],
             [
              0.3333333333333333,
              "#9c179e"
             ],
             [
              0.4444444444444444,
              "#bd3786"
             ],
             [
              0.5555555555555556,
              "#d8576b"
             ],
             [
              0.6666666666666666,
              "#ed7953"
             ],
             [
              0.7777777777777778,
              "#fb9f3a"
             ],
             [
              0.8888888888888888,
              "#fdca26"
             ],
             [
              1,
              "#f0f921"
             ]
            ],
            "type": "heatmap"
           }
          ],
          "histogram": [
           {
            "marker": {
             "pattern": {
              "fillmode": "overlay",
              "size": 10,
              "solidity": 0.2
             }
            },
            "type": "histogram"
           }
          ],
          "histogram2d": [
           {
            "colorbar": {
             "outlinewidth": 0,
             "ticks": ""
            },
            "colorscale": [
             [
              0,
              "#0d0887"
             ],
             [
              0.1111111111111111,
              "#46039f"
             ],
             [
              0.2222222222222222,
              "#7201a8"
             ],
             [
              0.3333333333333333,
              "#9c179e"
             ],
             [
              0.4444444444444444,
              "#bd3786"
             ],
             [
              0.5555555555555556,
              "#d8576b"
             ],
             [
              0.6666666666666666,
              "#ed7953"
             ],
             [
              0.7777777777777778,
              "#fb9f3a"
             ],
             [
              0.8888888888888888,
              "#fdca26"
             ],
             [
              1,
              "#f0f921"
             ]
            ],
            "type": "histogram2d"
           }
          ],
          "histogram2dcontour": [
           {
            "colorbar": {
             "outlinewidth": 0,
             "ticks": ""
            },
            "colorscale": [
             [
              0,
              "#0d0887"
             ],
             [
              0.1111111111111111,
              "#46039f"
             ],
             [
              0.2222222222222222,
              "#7201a8"
             ],
             [
              0.3333333333333333,
              "#9c179e"
             ],
             [
              0.4444444444444444,
              "#bd3786"
             ],
             [
              0.5555555555555556,
              "#d8576b"
             ],
             [
              0.6666666666666666,
              "#ed7953"
             ],
             [
              0.7777777777777778,
              "#fb9f3a"
             ],
             [
              0.8888888888888888,
              "#fdca26"
             ],
             [
              1,
              "#f0f921"
             ]
            ],
            "type": "histogram2dcontour"
           }
          ],
          "mesh3d": [
           {
            "colorbar": {
             "outlinewidth": 0,
             "ticks": ""
            },
            "type": "mesh3d"
           }
          ],
          "parcoords": [
           {
            "line": {
             "colorbar": {
              "outlinewidth": 0,
              "ticks": ""
             }
            },
            "type": "parcoords"
           }
          ],
          "pie": [
           {
            "automargin": true,
            "type": "pie"
           }
          ],
          "scatter": [
           {
            "fillpattern": {
             "fillmode": "overlay",
             "size": 10,
             "solidity": 0.2
            },
            "type": "scatter"
           }
          ],
          "scatter3d": [
           {
            "line": {
             "colorbar": {
              "outlinewidth": 0,
              "ticks": ""
             }
            },
            "marker": {
             "colorbar": {
              "outlinewidth": 0,
              "ticks": ""
             }
            },
            "type": "scatter3d"
           }
          ],
          "scattercarpet": [
           {
            "marker": {
             "colorbar": {
              "outlinewidth": 0,
              "ticks": ""
             }
            },
            "type": "scattercarpet"
           }
          ],
          "scattergeo": [
           {
            "marker": {
             "colorbar": {
              "outlinewidth": 0,
              "ticks": ""
             }
            },
            "type": "scattergeo"
           }
          ],
          "scattergl": [
           {
            "marker": {
             "colorbar": {
              "outlinewidth": 0,
              "ticks": ""
             }
            },
            "type": "scattergl"
           }
          ],
          "scattermap": [
           {
            "marker": {
             "colorbar": {
              "outlinewidth": 0,
              "ticks": ""
             }
            },
            "type": "scattermap"
           }
          ],
          "scattermapbox": [
           {
            "marker": {
             "colorbar": {
              "outlinewidth": 0,
              "ticks": ""
             }
            },
            "type": "scattermapbox"
           }
          ],
          "scatterpolar": [
           {
            "marker": {
             "colorbar": {
              "outlinewidth": 0,
              "ticks": ""
             }
            },
            "type": "scatterpolar"
           }
          ],
          "scatterpolargl": [
           {
            "marker": {
             "colorbar": {
              "outlinewidth": 0,
              "ticks": ""
             }
            },
            "type": "scatterpolargl"
           }
          ],
          "scatterternary": [
           {
            "marker": {
             "colorbar": {
              "outlinewidth": 0,
              "ticks": ""
             }
            },
            "type": "scatterternary"
           }
          ],
          "surface": [
           {
            "colorbar": {
             "outlinewidth": 0,
             "ticks": ""
            },
            "colorscale": [
             [
              0,
              "#0d0887"
             ],
             [
              0.1111111111111111,
              "#46039f"
             ],
             [
              0.2222222222222222,
              "#7201a8"
             ],
             [
              0.3333333333333333,
              "#9c179e"
             ],
             [
              0.4444444444444444,
              "#bd3786"
             ],
             [
              0.5555555555555556,
              "#d8576b"
             ],
             [
              0.6666666666666666,
              "#ed7953"
             ],
             [
              0.7777777777777778,
              "#fb9f3a"
             ],
             [
              0.8888888888888888,
              "#fdca26"
             ],
             [
              1,
              "#f0f921"
             ]
            ],
            "type": "surface"
           }
          ],
          "table": [
           {
            "cells": {
             "fill": {
              "color": "#EBF0F8"
             },
             "line": {
              "color": "white"
             }
            },
            "header": {
             "fill": {
              "color": "#C8D4E3"
             },
             "line": {
              "color": "white"
             }
            },
            "type": "table"
           }
          ]
         },
         "layout": {
          "annotationdefaults": {
           "arrowcolor": "#2a3f5f",
           "arrowhead": 0,
           "arrowwidth": 1
          },
          "autotypenumbers": "strict",
          "coloraxis": {
           "colorbar": {
            "outlinewidth": 0,
            "ticks": ""
           }
          },
          "colorscale": {
           "diverging": [
            [
             0,
             "#8e0152"
            ],
            [
             0.1,
             "#c51b7d"
            ],
            [
             0.2,
             "#de77ae"
            ],
            [
             0.3,
             "#f1b6da"
            ],
            [
             0.4,
             "#fde0ef"
            ],
            [
             0.5,
             "#f7f7f7"
            ],
            [
             0.6,
             "#e6f5d0"
            ],
            [
             0.7,
             "#b8e186"
            ],
            [
             0.8,
             "#7fbc41"
            ],
            [
             0.9,
             "#4d9221"
            ],
            [
             1,
             "#276419"
            ]
           ],
           "sequential": [
            [
             0,
             "#0d0887"
            ],
            [
             0.1111111111111111,
             "#46039f"
            ],
            [
             0.2222222222222222,
             "#7201a8"
            ],
            [
             0.3333333333333333,
             "#9c179e"
            ],
            [
             0.4444444444444444,
             "#bd3786"
            ],
            [
             0.5555555555555556,
             "#d8576b"
            ],
            [
             0.6666666666666666,
             "#ed7953"
            ],
            [
             0.7777777777777778,
             "#fb9f3a"
            ],
            [
             0.8888888888888888,
             "#fdca26"
            ],
            [
             1,
             "#f0f921"
            ]
           ],
           "sequentialminus": [
            [
             0,
             "#0d0887"
            ],
            [
             0.1111111111111111,
             "#46039f"
            ],
            [
             0.2222222222222222,
             "#7201a8"
            ],
            [
             0.3333333333333333,
             "#9c179e"
            ],
            [
             0.4444444444444444,
             "#bd3786"
            ],
            [
             0.5555555555555556,
             "#d8576b"
            ],
            [
             0.6666666666666666,
             "#ed7953"
            ],
            [
             0.7777777777777778,
             "#fb9f3a"
            ],
            [
             0.8888888888888888,
             "#fdca26"
            ],
            [
             1,
             "#f0f921"
            ]
           ]
          },
          "colorway": [
           "#636efa",
           "#EF553B",
           "#00cc96",
           "#ab63fa",
           "#FFA15A",
           "#19d3f3",
           "#FF6692",
           "#B6E880",
           "#FF97FF",
           "#FECB52"
          ],
          "font": {
           "color": "#2a3f5f"
          },
          "geo": {
           "bgcolor": "white",
           "lakecolor": "white",
           "landcolor": "#E5ECF6",
           "showlakes": true,
           "showland": true,
           "subunitcolor": "white"
          },
          "hoverlabel": {
           "align": "left"
          },
          "hovermode": "closest",
          "mapbox": {
           "style": "light"
          },
          "paper_bgcolor": "white",
          "plot_bgcolor": "#E5ECF6",
          "polar": {
           "angularaxis": {
            "gridcolor": "white",
            "linecolor": "white",
            "ticks": ""
           },
           "bgcolor": "#E5ECF6",
           "radialaxis": {
            "gridcolor": "white",
            "linecolor": "white",
            "ticks": ""
           }
          },
          "scene": {
           "xaxis": {
            "backgroundcolor": "#E5ECF6",
            "gridcolor": "white",
            "gridwidth": 2,
            "linecolor": "white",
            "showbackground": true,
            "ticks": "",
            "zerolinecolor": "white"
           },
           "yaxis": {
            "backgroundcolor": "#E5ECF6",
            "gridcolor": "white",
            "gridwidth": 2,
            "linecolor": "white",
            "showbackground": true,
            "ticks": "",
            "zerolinecolor": "white"
           },
           "zaxis": {
            "backgroundcolor": "#E5ECF6",
            "gridcolor": "white",
            "gridwidth": 2,
            "linecolor": "white",
            "showbackground": true,
            "ticks": "",
            "zerolinecolor": "white"
           }
          },
          "shapedefaults": {
           "line": {
            "color": "#2a3f5f"
           }
          },
          "ternary": {
           "aaxis": {
            "gridcolor": "white",
            "linecolor": "white",
            "ticks": ""
           },
           "baxis": {
            "gridcolor": "white",
            "linecolor": "white",
            "ticks": ""
           },
           "bgcolor": "#E5ECF6",
           "caxis": {
            "gridcolor": "white",
            "linecolor": "white",
            "ticks": ""
           }
          },
          "title": {
           "x": 0.05
          },
          "xaxis": {
           "automargin": true,
           "gridcolor": "white",
           "linecolor": "white",
           "ticks": "",
           "title": {
            "standoff": 15
           },
           "zerolinecolor": "white",
           "zerolinewidth": 2
          },
          "yaxis": {
           "automargin": true,
           "gridcolor": "white",
           "linecolor": "white",
           "ticks": "",
           "title": {
            "standoff": 15
           },
           "zerolinecolor": "white",
           "zerolinewidth": 2
          }
         }
        },
        "title": {
         "text": "Répartition du Genre "
        }
       }
      }
     },
     "metadata": {},
     "output_type": "display_data"
    }
   ],
   "source": [
    "#2 Distribution du Genre\n",
    "\n",
    "gender_distribution = df['Patient Gender'].value_counts().reset_index()\n",
    "gender_distribution.columns = ['Patient Gender', 'count']\n",
    "\n",
    "# Affichage de la distribution avec un pie chart\n",
    "fig_pie_gender = px.pie(gender_distribution, values='count', names='Patient Gender',\n",
    "                        title=\"Répartition du Genre \",\n",
    "                        color_discrete_sequence=px.colors.qualitative.Pastel)\n",
    "fig_pie_gender.show()"
   ]
  },
  {
   "cell_type": "markdown",
   "metadata": {},
   "source": [
    "### 2.2 Analyse bivariée"
   ]
  },
  {
   "cell_type": "code",
   "execution_count": 9,
   "metadata": {},
   "outputs": [
    {
     "data": {
      "application/vnd.plotly.v1+json": {
       "config": {
        "plotlyServerURL": "https://plot.ly"
       },
       "data": [
        {
         "alignmentgroup": "True",
         "hovertemplate": "Présence de maladie (0 = Sain, 1 = Malade)=%{x}<br>Âge du patient=%{y}<extra></extra>",
         "legendgroup": "",
         "marker": {
          "color": "#636efa"
         },
         "name": "",
         "notched": false,
         "offsetgroup": "",
         "orientation": "v",
         "showlegend": false,
         "type": "box",
         "x": {
          "bdata": "AAABAQABAQEBAQAAAQEBAQEBAQEBAAEBAQEBAQEBAQEBAQEAAQEAAQEBAQEBAQEBAAEBAAEBAAEBAQEBAAEAAAEBAQABAAEBAQABAAABAAEAAAAAAAEAAQEBAAEBAAEAAAABAQEAAAEAAAABAAAAAAABAQEBAQEBAAEBAAAAAQEAAQEAAAEAAQABAQAAAAAAAAEAAQABAQEAAQEBAQEBAQEBAQAAAQABAQEBAAEAAAABAQEBAQEBAAABAAEAAAEAAAAAAQABAQEAAAABAAEBAAEBAAABAQEAAAABAQAAAAABAQEBAAAAAAEAAAEBAAABAQEAAAEAAQEAAAAAAAAAAAAAAAAAAAEAAAEBAAEAAAAAAAAAAQAAAQEBAQEBAQEBAQABAQEAAAEBAAEBAQEBAAEAAQEBAQEBAQEBAQEBAQEBAQEBAAAAAAAAAAEBAQAAAQEBAAAAAQEBAQEAAAAAAAEAAQEBAAAAAAAAAAAAAAEBAQEAAQEAAAAAAQABAAAAAAAAAQAAAAEAAAEBAQEAAAEBAAAAAAEAAAABAQABAAAAAAEAAAEBAAAAAQEAAAAAAAEAAQAAAQAAAAABAQAAAAAAAAEBAQEBAQABAAEBAQAAAAAAAAEAAQABAAAAAAAAAAAAAQABAAAAAQAAAAEAAAAAAQEBAQABAAAAAAEBAQEAAAEBAQAAAAAAAAAAAAABAAAAAAAAAAABAQABAQAAAAABAAEBAQEBAAEBAAAAAAABAAAAAQAAAAABAQABAQAAAAAAAQEBAQEBAQEBAQEAAQABAQABAAABAAAAAAAAAAAAAQAAAAABAAAAAAAAAQEBAAAAAAEAAAABAAEAAAAAAAAAAAAAAQEAAAAAAAEAAQEBAQEAAAAAAAAAAAAAAQAAAAABAAABAQEAAAAAAAAAAAAAAAABAAEBAAAAAAABAAAAAQEBAAEBAQEBAAAAAQEAAQAAAQEBAQABAAEBAQEBAQEBAQEBAAEAAAAAAAABAQEAAAEAAAABAAEAAAABAAABAAEBAAAAAAAAAQEAAQAAAAAAAQAAAQEAAQAAAQAAAAEBAQEBAQEAAQABAQEBAQEBAQEAAQEBAQEAAQAAAAABAQEBAQEBAQEAAAAAAQAAAAAAAAABAQEAAAEAAAABAQEBAQEBAQEBAQABAQABAAEAAAAAAAABAQAAAAAAAQEBAAAAAAABAQAAAAABAQAAAQEAAQEBAAAAAAEBAQABAQAAAQAAAAAAAAAAAAAAAAAAAAAAAAAAAAEAAAEAAAEBAQABAAAAAAAAAQAAAAABAAAAAAEBAQAAAAAAAAABAAAAAAEBAAABAAEAAQABAAAAAQEBAAABAQABAAABAQEBAQEBAAAAAQEBAQEBAQEBAQEAAAAAAAABAQEBAQEBAAEAAQEBAAEAAAABAAAAAAAAAQEBAAAAAAEAAQEBAQEAAAEAAAAAAAAAAAAAAAABAQAAAQEBAQAAAQABAQAAAQEAAQABAQABAAABAAAAAAAAAAABAQEAAAABAAABAQEAAAEAAAAAAAAAAAEBAQEAAQAAAAAAAAABAAAAAQEBAQEBAQEBAAABAAABAAAAAAABAQEBAAAAAAEAAAEAAAAAAQAAAAAAAAAAAAAAAQAAAAEBAQEBAQAAAQAAAAABAAEAAQAAAAEBAQAAAAEAAQEBAQEAAAEBAQAAAAAAAQEBAQEAAQEAAQEAAQEAAQEAAQEBAAABAAAAAQAAAAAAAAEBAAEBAQEBAQEBAAAAAQEBAAABAQAAAAAAAAAAAAABAAEBAQAAAAAAAAEAAQEAAAAAAAAAAAAAAAEAAAAAAAAAAQEAAAABAQAAAAAAAAAAAAAAAQAAAAAAAAEBAAEAAAAAAAABAAEBAQEAAQABAAEAAQAAAAAAAAAAAQEBAQEBAQEAAAAAAAAAAQAAAAAAAAABAAABAQEAAQAAAAEAAQEAAQABAQEBAQABAQABAAAAAAAAAAAAAAABAAAAAAAAAAEBAQEBAAAAAAEBAAAAAAAAAAABAQEBAAEBAQABAAAAAAABAQAAAQABAAEAAAAAAAAAAAABAQABAQEBAQEBAAAAAQEAAAAAAAAAAQEBAAEBAAABAQEAAQEAAAEBAQABAAAAAQEBAAABAAAAAQABAQABAAEBAQAAAAAAAQABAAEBAAEBAQEBAQEBAQEBAQAAAAEBAAAAAAAAAAAAAQABAAAAAAAAAAAAAQEBAQEBAAEBAQEBAQEBAQEAAAEBAAAAAAABAQEAAAAAAAAAAAABAQEBAAEAAAAAAAABAQABAQEBAQEBAQEAAQEBAQEAAQEBAAEAAQABAQEBAQEBAQAAAQAAAQEBAAABAQAAAAAAAAAAAQEBAAEBAQEAAQAAAAAAAQAAAAAAAAABAQEBAAAAAAAAAAEAAAAAAAEAAAAAAAAAAQAAAAAAAAAAAQAAAAAAAAABAQAAAQEBAQEBAQABAQAAAAAAAAAAAAAAAAAAAQEBAQEAAQABAQABAQABAQEBAAAAAAAAAAAAAQEAAAEBAAAAAAAAAAEAAQAAAAAAAAAAAAEBAAAAAAAAAAABAAAAAAAAAAAAAAABAAEAAAEAAAEAAAAAAAEAAAAAAQABAQAAAAABAAAAAAAAAQAAAQAAAAAAAAAAAAABAAAAAAEBAQABAAAAAAEAAAEAAAABAQEBAQEAAQEAAQAAAQEBAQEBAQEBAQEAAAABAQEBAQABAAAAAAEBAAAAAAAAAQAAAQAAAAAAAAAAAAABAQEBAQEBAQABAQEBAAABAQAAAQEBAQABAQEBAAAAAQABAAEAAAEBAAAAAQAAAQABAAAAAAAAAAEBAAAAAAAAAAEAAAAAAAAAAQEBAQAAAAEAAQAAAQEBAQABAQEBAAEBAQAAAAAAAAAAAAAAAAEBAQEBAQEAAAAAAAAAAQEBAQEBAQEAAAAAAAEBAAABAQEBAAEBAQABAQEBAAEBAQEAAAAAAQEBAQAAAAAAAQABAAABAAAAAAAAAAABAAAAAQEBAQAAAAABAQABAQEAAAEBAAEAAQAAAQEBAQAAAQEBAQEAAAAAAQABAAAAAAEAAAEAAAAAAAAAAQEBAQEBAQEAAAABAQEBAQABAQAAAAAAAAAAAQAAAQEBAQEAAAEBAQABAQAAAQEBAQEBAAEAAQABAQAAAQAAAAAAAAAAAAEAAAAAAAAAAAAAAQABAQEAAAABAQEBAQEBAQEBAQEBAQAAAAAAAAABAAABAAAAAQAAAAAAAAEBAAAAAAEBAAABAAEAAQABAQEBAQAAAAABAQEAAQAAAAEBAAAAAAABAQEAAAAAAAEBAQEBAAEBAQAAAAAAAAABAAEBAQAAAQAAAAAAAQEAAAEAAAAAAAAAAAEBAQEBAQEAAQEBAQEAAAAAAAAAAAABAAEAAQABAAAAAQAAAAAAAAAAAQAAAAEAAAAAAAAAAAAAAAAAAAABAAAAAAAAAAAAAQEBAAAAAAAAAAAAAAEAAQEAAAAAAAAAAAAAAAEBAAAAAQEAAQEBAAAAAAAAAAEAAQAAAQAAAAABAQEAAQAAAAAAAAEAAQABAAEBAQAAAAABAAEAAAABAAEBAAAAAQEBAQAAAAAAAQEAAQABAQEBAQEAAQEBAQEAAAAAAAABAAAAAAAAAAAAAQEAAAABAAAAAAAAAQAAAAAAAAAAAAAAAQAAAAAAAAAAAAAAAQAAAAEBAAAAAAAAAAABAAAAAAEAAAAAAAAAAAEAAAAAAAEAAQEBAQEAAQABAQEBAAAAAQEAAAAAAAAAAAAAAAAAAAEBAQEBAQEAAQAAAAAAAAAAAAABAQEBAAAAAAAAAAAAAAABAQEBAQEBAQABAQEBAQEAAQEAAQEBAAAAAAAAAAAAAAAAAAABAAEAAAEBAQEBAAAAAAAAAQEBAQABAAEAAAEBAQEBAQEAAQABAAABAAAAAAAAAAABAQEBAAEBAAEAAAAAAAAAAQAAAQABAQEBAQEBAQEAAAAAAAAAAAAAAAAAAAEBAAAAAAEBAQEBAQEBAAEBAQEAAQAAAAEBAQEAAAAAAAEBAAEBAQEAAQEBAAABAAAAAAABAQEBAQEBAQAAAAABAAAAAQAAAQEBAAAAAAEBAAEAAQEBAQEBAQEAAQEBAAEBAQEBAQEBAQABAQEBAQEAAQEBAQEBAQABAQABAAEBAQEBAQEBAAEBAAAAAQEBAAEBAQEBAQEBAQEBAQEAAAABAQAAAAEBAQEBAQABAQAAAAAAAAAAAQEAAAAAAAAAAAAAAAEBAQEBAQEAAQAAAAAAAAABAQEAAAAAAAEBAQEBAQABAQAAAAAAAAEBAAABAQEAAAEAAAABAAABAAAAAAAAAAABAAAAAAAAAAAAAAAAAAAAAAAAAAEAAAAAAAAAAAEAAQEBAQABAAABAQAAAAEAAQEBAQEAAAAAAQAAAQEAAQABAQEBAAAAAAABAQEBAQABAQEAAAAAAQABAAABAQEAAQEAAAEAAQEBAAABAAEBAAEBAQAAAQEBAQEBAQEBAAEAAAAAAQAAAAAAAAAAAAAAAAABAQEBAAAAAQEBAAAAAAABAAAAAAEAAQEBAAAAAAAAAQEBAAEAAAAAAAAAAQEAAQAAAAEAAAAAAAABAAEAAAABAAABAAABAAABAAEAAAABAAEBAQABAAEBAAAAAQAAAQABAQEBAAEBAQAAAQAAAAEAAAABAAAAAAAAAAAAAAEBAQEBAQEBAAAAAAABAQAAAQEAAQEBAQEBAQEAAAAAAAEBAQEBAQEBAAAAAAAAAAEBAAEBAQEBAQEAAAAAAQABAAAAAQAAAAEBAAABAAAAAAAAAAABAAABAAEBAQEAAQAAAAAAAAAAAAEAAAEAAAAAAAAAAAABAQEAAQEBAQABAAAAAAABAAAAAQEBAAEBAQEBAQEBAQABAAAAAQABAAEBAAAAAQAAAQABAQEBAQEAAAEBAAEBAQABAQAAAAABAQAAAQAAAQEBAQEAAAAAAAAAAAAAAQEBAAAAAAABAQEAAQEBAQEAAAAAAAEAAAAAAAABAAAAAAAAAAEAAAABAAABAQAAAQAAAAAAAAABAQEAAAAAAQEBAAAAAAEAAAAAAQEAAQEAAQAAAAEAAAEAAAAAAAEAAAEBAQEBAAEBAQEBAQEAAQEBAQAAAAEBAAAAAAEBAQAAAQAAAAABAAABAAAAAAAAAQABAAABAAEAAAAAAQEAAAABAQEAAAEAAQEBAAAAAQEBAQEBAQEAAAABAAAAAAEBAAABAAABAQAAAAAAAQEAAQEBAAAAAQEBAQABAAEBAQEBAQABAQEBAQAAAQEBAQEBAQAAAAAAAAAAAAABAAAAAAAAAAEBAAABAAAAAAEBAQEBAQEBAQEAAQEBAQEBAQEAAQABAQEAAAEAAQEBAQEBAQAAAAAAAAAAAAABAAAAAAABAAAAAAAAAAAAAAAAAAAAAAAAAAAAAAAAAAAAAAEBAAAAAAAAAAAAAAAAAAEAAAAAAAAAAQEAAQEAAAAAAAAAAAEAAAAAAAAAAAAAAAAAAAAAAAEAAAABAQEBAAEBAQEBAQEBAAEBAQEBAQEAAAEBAAABAQABAAAAAAEBAAEAAQEAAAEBAAAAAAAAAAEBAQAAAQEAAAEAAAABAQAAAQEBAQABAQEBAAABAQEBAQEBAQEBAQEBAQEAAQABAQEBAAEAAAEBAAAAAAEBAQAAAAEAAAABAQAAAQEBAQEBAQAAAQEBAQAAAAABAQEBAQEBAAEBAQEBAQEBAQEBAQEAAQABAQABAAABAAAAAAAAAAEAAQEBAQEAAAAAAAAAAAAAAAAAAQAAAAABAAAAAAEAAAABAQAAAAAAAAABAQABAAAAAQEBAQABAQEBAAEAAQAAAAAAAAAAAQEBAAAAAAAAAAAAAQEAAAABAQAAAAABAQEBAAEAAAEBAAEAAQEBAQEBAQEBAQEBAQABAQABAQEBAQEAAAABAQEAAAEAAAEAAQABAAEBAQAAAQAAAAAAAAAAAAAAAAAAAAABAQEAAAABAQEAAQEBAQABAQEBAQEBAAEAAQAAAQABAQABAAAAAAAAAAEBAQEAAAAAAAEAAQAAAQAAAAABAAEBAAABAQABAQABAQAAAQAAAAEAAAAAAQEBAQAAAAEAAAABAAAAAAAAAAAAAAABAAABAAAAAQEAAQEBAQEBAQEBAAAAAQAAAAEBAQEAAAAAAAEBAQABAQEAAAAAAQEAAAABAAAAAAABAAEBAQEBAAEBAAEBAAABAQABAQEBAAABAAEBAQAAAAAAAAEBAQEAAQAAAQABAQEBAQABAAABAQEAAAEAAQEBAQEBAQEBAAABAQAAAAAAAAABAQEBAQEBAQEBAQEBAQEBAAEBAQEBAQEBAQEBAQEBAQAAAAEAAAAAAAABAAAAAAEBAAAAAQEBAAAAAAEAAQABAQAAAQEAAQEAAAABAQEBAQEBAQEBAQEBAQEBAAEBAQEBAQEAAQABAQEBAQEBAQEAAQEAAAAAAQEAAQEAAQAAAAAAAQEBAQEAAAABAQEAAAAAAQAAAAAAAAABAAAAAAAAAQAAAAAAAAAAAAEAAAEAAAEBAQAAAQEBAAEAAQEAAAAAAQAAAAEBAQEBAQEAAAAAAAAAAQABAAAA",
          "dtype": "i1"
         },
         "x0": " ",
         "xaxis": "x",
         "y": {
          "bdata": "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",
          "dtype": "i1"
         },
         "y0": " ",
         "yaxis": "y"
        }
       ],
       "layout": {
        "boxmode": "group",
        "legend": {
         "tracegroupgap": 0
        },
        "template": {
         "data": {
          "bar": [
           {
            "error_x": {
             "color": "#2a3f5f"
            },
            "error_y": {
             "color": "#2a3f5f"
            },
            "marker": {
             "line": {
              "color": "#E5ECF6",
              "width": 0.5
             },
             "pattern": {
              "fillmode": "overlay",
              "size": 10,
              "solidity": 0.2
             }
            },
            "type": "bar"
           }
          ],
          "barpolar": [
           {
            "marker": {
             "line": {
              "color": "#E5ECF6",
              "width": 0.5
             },
             "pattern": {
              "fillmode": "overlay",
              "size": 10,
              "solidity": 0.2
             }
            },
            "type": "barpolar"
           }
          ],
          "carpet": [
           {
            "aaxis": {
             "endlinecolor": "#2a3f5f",
             "gridcolor": "white",
             "linecolor": "white",
             "minorgridcolor": "white",
             "startlinecolor": "#2a3f5f"
            },
            "baxis": {
             "endlinecolor": "#2a3f5f",
             "gridcolor": "white",
             "linecolor": "white",
             "minorgridcolor": "white",
             "startlinecolor": "#2a3f5f"
            },
            "type": "carpet"
           }
          ],
          "choropleth": [
           {
            "colorbar": {
             "outlinewidth": 0,
             "ticks": ""
            },
            "type": "choropleth"
           }
          ],
          "contour": [
           {
            "colorbar": {
             "outlinewidth": 0,
             "ticks": ""
            },
            "colorscale": [
             [
              0,
              "#0d0887"
             ],
             [
              0.1111111111111111,
              "#46039f"
             ],
             [
              0.2222222222222222,
              "#7201a8"
             ],
             [
              0.3333333333333333,
              "#9c179e"
             ],
             [
              0.4444444444444444,
              "#bd3786"
             ],
             [
              0.5555555555555556,
              "#d8576b"
             ],
             [
              0.6666666666666666,
              "#ed7953"
             ],
             [
              0.7777777777777778,
              "#fb9f3a"
             ],
             [
              0.8888888888888888,
              "#fdca26"
             ],
             [
              1,
              "#f0f921"
             ]
            ],
            "type": "contour"
           }
          ],
          "contourcarpet": [
           {
            "colorbar": {
             "outlinewidth": 0,
             "ticks": ""
            },
            "type": "contourcarpet"
           }
          ],
          "heatmap": [
           {
            "colorbar": {
             "outlinewidth": 0,
             "ticks": ""
            },
            "colorscale": [
             [
              0,
              "#0d0887"
             ],
             [
              0.1111111111111111,
              "#46039f"
             ],
             [
              0.2222222222222222,
              "#7201a8"
             ],
             [
              0.3333333333333333,
              "#9c179e"
             ],
             [
              0.4444444444444444,
              "#bd3786"
             ],
             [
              0.5555555555555556,
              "#d8576b"
             ],
             [
              0.6666666666666666,
              "#ed7953"
             ],
             [
              0.7777777777777778,
              "#fb9f3a"
             ],
             [
              0.8888888888888888,
              "#fdca26"
             ],
             [
              1,
              "#f0f921"
             ]
            ],
            "type": "heatmap"
           }
          ],
          "histogram": [
           {
            "marker": {
             "pattern": {
              "fillmode": "overlay",
              "size": 10,
              "solidity": 0.2
             }
            },
            "type": "histogram"
           }
          ],
          "histogram2d": [
           {
            "colorbar": {
             "outlinewidth": 0,
             "ticks": ""
            },
            "colorscale": [
             [
              0,
              "#0d0887"
             ],
             [
              0.1111111111111111,
              "#46039f"
             ],
             [
              0.2222222222222222,
              "#7201a8"
             ],
             [
              0.3333333333333333,
              "#9c179e"
             ],
             [
              0.4444444444444444,
              "#bd3786"
             ],
             [
              0.5555555555555556,
              "#d8576b"
             ],
             [
              0.6666666666666666,
              "#ed7953"
             ],
             [
              0.7777777777777778,
              "#fb9f3a"
             ],
             [
              0.8888888888888888,
              "#fdca26"
             ],
             [
              1,
              "#f0f921"
             ]
            ],
            "type": "histogram2d"
           }
          ],
          "histogram2dcontour": [
           {
            "colorbar": {
             "outlinewidth": 0,
             "ticks": ""
            },
            "colorscale": [
             [
              0,
              "#0d0887"
             ],
             [
              0.1111111111111111,
              "#46039f"
             ],
             [
              0.2222222222222222,
              "#7201a8"
             ],
             [
              0.3333333333333333,
              "#9c179e"
             ],
             [
              0.4444444444444444,
              "#bd3786"
             ],
             [
              0.5555555555555556,
              "#d8576b"
             ],
             [
              0.6666666666666666,
              "#ed7953"
             ],
             [
              0.7777777777777778,
              "#fb9f3a"
             ],
             [
              0.8888888888888888,
              "#fdca26"
             ],
             [
              1,
              "#f0f921"
             ]
            ],
            "type": "histogram2dcontour"
           }
          ],
          "mesh3d": [
           {
            "colorbar": {
             "outlinewidth": 0,
             "ticks": ""
            },
            "type": "mesh3d"
           }
          ],
          "parcoords": [
           {
            "line": {
             "colorbar": {
              "outlinewidth": 0,
              "ticks": ""
             }
            },
            "type": "parcoords"
           }
          ],
          "pie": [
           {
            "automargin": true,
            "type": "pie"
           }
          ],
          "scatter": [
           {
            "fillpattern": {
             "fillmode": "overlay",
             "size": 10,
             "solidity": 0.2
            },
            "type": "scatter"
           }
          ],
          "scatter3d": [
           {
            "line": {
             "colorbar": {
              "outlinewidth": 0,
              "ticks": ""
             }
            },
            "marker": {
             "colorbar": {
              "outlinewidth": 0,
              "ticks": ""
             }
            },
            "type": "scatter3d"
           }
          ],
          "scattercarpet": [
           {
            "marker": {
             "colorbar": {
              "outlinewidth": 0,
              "ticks": ""
             }
            },
            "type": "scattercarpet"
           }
          ],
          "scattergeo": [
           {
            "marker": {
             "colorbar": {
              "outlinewidth": 0,
              "ticks": ""
             }
            },
            "type": "scattergeo"
           }
          ],
          "scattergl": [
           {
            "marker": {
             "colorbar": {
              "outlinewidth": 0,
              "ticks": ""
             }
            },
            "type": "scattergl"
           }
          ],
          "scattermap": [
           {
            "marker": {
             "colorbar": {
              "outlinewidth": 0,
              "ticks": ""
             }
            },
            "type": "scattermap"
           }
          ],
          "scattermapbox": [
           {
            "marker": {
             "colorbar": {
              "outlinewidth": 0,
              "ticks": ""
             }
            },
            "type": "scattermapbox"
           }
          ],
          "scatterpolar": [
           {
            "marker": {
             "colorbar": {
              "outlinewidth": 0,
              "ticks": ""
             }
            },
            "type": "scatterpolar"
           }
          ],
          "scatterpolargl": [
           {
            "marker": {
             "colorbar": {
              "outlinewidth": 0,
              "ticks": ""
             }
            },
            "type": "scatterpolargl"
           }
          ],
          "scatterternary": [
           {
            "marker": {
             "colorbar": {
              "outlinewidth": 0,
              "ticks": ""
             }
            },
            "type": "scatterternary"
           }
          ],
          "surface": [
           {
            "colorbar": {
             "outlinewidth": 0,
             "ticks": ""
            },
            "colorscale": [
             [
              0,
              "#0d0887"
             ],
             [
              0.1111111111111111,
              "#46039f"
             ],
             [
              0.2222222222222222,
              "#7201a8"
             ],
             [
              0.3333333333333333,
              "#9c179e"
             ],
             [
              0.4444444444444444,
              "#bd3786"
             ],
             [
              0.5555555555555556,
              "#d8576b"
             ],
             [
              0.6666666666666666,
              "#ed7953"
             ],
             [
              0.7777777777777778,
              "#fb9f3a"
             ],
             [
              0.8888888888888888,
              "#fdca26"
             ],
             [
              1,
              "#f0f921"
             ]
            ],
            "type": "surface"
           }
          ],
          "table": [
           {
            "cells": {
             "fill": {
              "color": "#EBF0F8"
             },
             "line": {
              "color": "white"
             }
            },
            "header": {
             "fill": {
              "color": "#C8D4E3"
             },
             "line": {
              "color": "white"
             }
            },
            "type": "table"
           }
          ]
         },
         "layout": {
          "annotationdefaults": {
           "arrowcolor": "#2a3f5f",
           "arrowhead": 0,
           "arrowwidth": 1
          },
          "autotypenumbers": "strict",
          "coloraxis": {
           "colorbar": {
            "outlinewidth": 0,
            "ticks": ""
           }
          },
          "colorscale": {
           "diverging": [
            [
             0,
             "#8e0152"
            ],
            [
             0.1,
             "#c51b7d"
            ],
            [
             0.2,
             "#de77ae"
            ],
            [
             0.3,
             "#f1b6da"
            ],
            [
             0.4,
             "#fde0ef"
            ],
            [
             0.5,
             "#f7f7f7"
            ],
            [
             0.6,
             "#e6f5d0"
            ],
            [
             0.7,
             "#b8e186"
            ],
            [
             0.8,
             "#7fbc41"
            ],
            [
             0.9,
             "#4d9221"
            ],
            [
             1,
             "#276419"
            ]
           ],
           "sequential": [
            [
             0,
             "#0d0887"
            ],
            [
             0.1111111111111111,
             "#46039f"
            ],
            [
             0.2222222222222222,
             "#7201a8"
            ],
            [
             0.3333333333333333,
             "#9c179e"
            ],
            [
             0.4444444444444444,
             "#bd3786"
            ],
            [
             0.5555555555555556,
             "#d8576b"
            ],
            [
             0.6666666666666666,
             "#ed7953"
            ],
            [
             0.7777777777777778,
             "#fb9f3a"
            ],
            [
             0.8888888888888888,
             "#fdca26"
            ],
            [
             1,
             "#f0f921"
            ]
           ],
           "sequentialminus": [
            [
             0,
             "#0d0887"
            ],
            [
             0.1111111111111111,
             "#46039f"
            ],
            [
             0.2222222222222222,
             "#7201a8"
            ],
            [
             0.3333333333333333,
             "#9c179e"
            ],
            [
             0.4444444444444444,
             "#bd3786"
            ],
            [
             0.5555555555555556,
             "#d8576b"
            ],
            [
             0.6666666666666666,
             "#ed7953"
            ],
            [
             0.7777777777777778,
             "#fb9f3a"
            ],
            [
             0.8888888888888888,
             "#fdca26"
            ],
            [
             1,
             "#f0f921"
            ]
           ]
          },
          "colorway": [
           "#636efa",
           "#EF553B",
           "#00cc96",
           "#ab63fa",
           "#FFA15A",
           "#19d3f3",
           "#FF6692",
           "#B6E880",
           "#FF97FF",
           "#FECB52"
          ],
          "font": {
           "color": "#2a3f5f"
          },
          "geo": {
           "bgcolor": "white",
           "lakecolor": "white",
           "landcolor": "#E5ECF6",
           "showlakes": true,
           "showland": true,
           "subunitcolor": "white"
          },
          "hoverlabel": {
           "align": "left"
          },
          "hovermode": "closest",
          "mapbox": {
           "style": "light"
          },
          "paper_bgcolor": "white",
          "plot_bgcolor": "#E5ECF6",
          "polar": {
           "angularaxis": {
            "gridcolor": "white",
            "linecolor": "white",
            "ticks": ""
           },
           "bgcolor": "#E5ECF6",
           "radialaxis": {
            "gridcolor": "white",
            "linecolor": "white",
            "ticks": ""
           }
          },
          "scene": {
           "xaxis": {
            "backgroundcolor": "#E5ECF6",
            "gridcolor": "white",
            "gridwidth": 2,
            "linecolor": "white",
            "showbackground": true,
            "ticks": "",
            "zerolinecolor": "white"
           },
           "yaxis": {
            "backgroundcolor": "#E5ECF6",
            "gridcolor": "white",
            "gridwidth": 2,
            "linecolor": "white",
            "showbackground": true,
            "ticks": "",
            "zerolinecolor": "white"
           },
           "zaxis": {
            "backgroundcolor": "#E5ECF6",
            "gridcolor": "white",
            "gridwidth": 2,
            "linecolor": "white",
            "showbackground": true,
            "ticks": "",
            "zerolinecolor": "white"
           }
          },
          "shapedefaults": {
           "line": {
            "color": "#2a3f5f"
           }
          },
          "ternary": {
           "aaxis": {
            "gridcolor": "white",
            "linecolor": "white",
            "ticks": ""
           },
           "baxis": {
            "gridcolor": "white",
            "linecolor": "white",
            "ticks": ""
           },
           "bgcolor": "#E5ECF6",
           "caxis": {
            "gridcolor": "white",
            "linecolor": "white",
            "ticks": ""
           }
          },
          "title": {
           "x": 0.05
          },
          "xaxis": {
           "automargin": true,
           "gridcolor": "white",
           "linecolor": "white",
           "ticks": "",
           "title": {
            "standoff": 15
           },
           "zerolinecolor": "white",
           "zerolinewidth": 2
          },
          "yaxis": {
           "automargin": true,
           "gridcolor": "white",
           "linecolor": "white",
           "ticks": "",
           "title": {
            "standoff": 15
           },
           "zerolinecolor": "white",
           "zerolinewidth": 2
          }
         }
        },
        "title": {
         "text": "Âge des patients selon la présence ou l'absence de maladie"
        },
        "xaxis": {
         "anchor": "y",
         "domain": [
          0,
          1
         ],
         "title": {
          "text": "Présence de maladie (0 = Sain, 1 = Malade)"
         }
        },
        "yaxis": {
         "anchor": "x",
         "domain": [
          0,
          1
         ],
         "title": {
          "text": "Âge du patient"
         }
        }
       }
      }
     },
     "metadata": {},
     "output_type": "display_data"
    }
   ],
   "source": [
    "# 1. Boxplot de Patient Age en fonction de la variable cible\n",
    "fig_box_age = px.box(df, x='disease', y='Patient Age', \n",
    "                     title=\"Âge des patients selon la présence ou l'absence de maladie\",\n",
    "                     labels={'disease': 'Présence de maladie (0 = Sain, 1 = Malade)', 'Patient Age': 'Âge du patient'})\n",
    "fig_box_age.show()\n"
   ]
  },
  {
   "cell_type": "code",
   "execution_count": 10,
   "metadata": {},
   "outputs": [
    {
     "data": {
      "application/vnd.plotly.v1+json": {
       "config": {
        "plotlyServerURL": "https://plot.ly"
       },
       "data": [
        {
         "alignmentgroup": "True",
         "hovertemplate": "variable=0<br>Genre=%{x}<br>Taux de Malade=%{y}<extra></extra>",
         "legendgroup": "0",
         "marker": {
          "color": "#636efa",
          "pattern": {
           "shape": ""
          }
         },
         "name": "0",
         "offsetgroup": "0",
         "orientation": "v",
         "showlegend": true,
         "textposition": "auto",
         "texttemplate": "%{y}",
         "type": "bar",
         "x": [
          "F",
          "M"
         ],
         "xaxis": "x",
         "y": {
          "bdata": "+Fgc3e9O4T/+CrMaRRziPw==",
          "dtype": "f8"
         },
         "yaxis": "y"
        },
        {
         "alignmentgroup": "True",
         "hovertemplate": "variable=1<br>Genre=%{x}<br>Taux de Malade=%{y}<extra></extra>",
         "legendgroup": "1",
         "marker": {
          "color": "#EF553B",
          "pattern": {
           "shape": ""
          }
         },
         "name": "1",
         "offsetgroup": "1",
         "orientation": "v",
         "showlegend": true,
         "textposition": "auto",
         "texttemplate": "%{y}",
         "type": "bar",
         "x": [
          "F",
          "M"
         ],
         "xaxis": "x",
         "y": {
          "bdata": "EU7HRSBi3T8D6pnKdcfbPw==",
          "dtype": "f8"
         },
         "yaxis": "y"
        }
       ],
       "layout": {
        "barmode": "group",
        "legend": {
         "title": {
          "text": "variable"
         },
         "tracegroupgap": 0
        },
        "template": {
         "data": {
          "bar": [
           {
            "error_x": {
             "color": "#2a3f5f"
            },
            "error_y": {
             "color": "#2a3f5f"
            },
            "marker": {
             "line": {
              "color": "#E5ECF6",
              "width": 0.5
             },
             "pattern": {
              "fillmode": "overlay",
              "size": 10,
              "solidity": 0.2
             }
            },
            "type": "bar"
           }
          ],
          "barpolar": [
           {
            "marker": {
             "line": {
              "color": "#E5ECF6",
              "width": 0.5
             },
             "pattern": {
              "fillmode": "overlay",
              "size": 10,
              "solidity": 0.2
             }
            },
            "type": "barpolar"
           }
          ],
          "carpet": [
           {
            "aaxis": {
             "endlinecolor": "#2a3f5f",
             "gridcolor": "white",
             "linecolor": "white",
             "minorgridcolor": "white",
             "startlinecolor": "#2a3f5f"
            },
            "baxis": {
             "endlinecolor": "#2a3f5f",
             "gridcolor": "white",
             "linecolor": "white",
             "minorgridcolor": "white",
             "startlinecolor": "#2a3f5f"
            },
            "type": "carpet"
           }
          ],
          "choropleth": [
           {
            "colorbar": {
             "outlinewidth": 0,
             "ticks": ""
            },
            "type": "choropleth"
           }
          ],
          "contour": [
           {
            "colorbar": {
             "outlinewidth": 0,
             "ticks": ""
            },
            "colorscale": [
             [
              0,
              "#0d0887"
             ],
             [
              0.1111111111111111,
              "#46039f"
             ],
             [
              0.2222222222222222,
              "#7201a8"
             ],
             [
              0.3333333333333333,
              "#9c179e"
             ],
             [
              0.4444444444444444,
              "#bd3786"
             ],
             [
              0.5555555555555556,
              "#d8576b"
             ],
             [
              0.6666666666666666,
              "#ed7953"
             ],
             [
              0.7777777777777778,
              "#fb9f3a"
             ],
             [
              0.8888888888888888,
              "#fdca26"
             ],
             [
              1,
              "#f0f921"
             ]
            ],
            "type": "contour"
           }
          ],
          "contourcarpet": [
           {
            "colorbar": {
             "outlinewidth": 0,
             "ticks": ""
            },
            "type": "contourcarpet"
           }
          ],
          "heatmap": [
           {
            "colorbar": {
             "outlinewidth": 0,
             "ticks": ""
            },
            "colorscale": [
             [
              0,
              "#0d0887"
             ],
             [
              0.1111111111111111,
              "#46039f"
             ],
             [
              0.2222222222222222,
              "#7201a8"
             ],
             [
              0.3333333333333333,
              "#9c179e"
             ],
             [
              0.4444444444444444,
              "#bd3786"
             ],
             [
              0.5555555555555556,
              "#d8576b"
             ],
             [
              0.6666666666666666,
              "#ed7953"
             ],
             [
              0.7777777777777778,
              "#fb9f3a"
             ],
             [
              0.8888888888888888,
              "#fdca26"
             ],
             [
              1,
              "#f0f921"
             ]
            ],
            "type": "heatmap"
           }
          ],
          "histogram": [
           {
            "marker": {
             "pattern": {
              "fillmode": "overlay",
              "size": 10,
              "solidity": 0.2
             }
            },
            "type": "histogram"
           }
          ],
          "histogram2d": [
           {
            "colorbar": {
             "outlinewidth": 0,
             "ticks": ""
            },
            "colorscale": [
             [
              0,
              "#0d0887"
             ],
             [
              0.1111111111111111,
              "#46039f"
             ],
             [
              0.2222222222222222,
              "#7201a8"
             ],
             [
              0.3333333333333333,
              "#9c179e"
             ],
             [
              0.4444444444444444,
              "#bd3786"
             ],
             [
              0.5555555555555556,
              "#d8576b"
             ],
             [
              0.6666666666666666,
              "#ed7953"
             ],
             [
              0.7777777777777778,
              "#fb9f3a"
             ],
             [
              0.8888888888888888,
              "#fdca26"
             ],
             [
              1,
              "#f0f921"
             ]
            ],
            "type": "histogram2d"
           }
          ],
          "histogram2dcontour": [
           {
            "colorbar": {
             "outlinewidth": 0,
             "ticks": ""
            },
            "colorscale": [
             [
              0,
              "#0d0887"
             ],
             [
              0.1111111111111111,
              "#46039f"
             ],
             [
              0.2222222222222222,
              "#7201a8"
             ],
             [
              0.3333333333333333,
              "#9c179e"
             ],
             [
              0.4444444444444444,
              "#bd3786"
             ],
             [
              0.5555555555555556,
              "#d8576b"
             ],
             [
              0.6666666666666666,
              "#ed7953"
             ],
             [
              0.7777777777777778,
              "#fb9f3a"
             ],
             [
              0.8888888888888888,
              "#fdca26"
             ],
             [
              1,
              "#f0f921"
             ]
            ],
            "type": "histogram2dcontour"
           }
          ],
          "mesh3d": [
           {
            "colorbar": {
             "outlinewidth": 0,
             "ticks": ""
            },
            "type": "mesh3d"
           }
          ],
          "parcoords": [
           {
            "line": {
             "colorbar": {
              "outlinewidth": 0,
              "ticks": ""
             }
            },
            "type": "parcoords"
           }
          ],
          "pie": [
           {
            "automargin": true,
            "type": "pie"
           }
          ],
          "scatter": [
           {
            "fillpattern": {
             "fillmode": "overlay",
             "size": 10,
             "solidity": 0.2
            },
            "type": "scatter"
           }
          ],
          "scatter3d": [
           {
            "line": {
             "colorbar": {
              "outlinewidth": 0,
              "ticks": ""
             }
            },
            "marker": {
             "colorbar": {
              "outlinewidth": 0,
              "ticks": ""
             }
            },
            "type": "scatter3d"
           }
          ],
          "scattercarpet": [
           {
            "marker": {
             "colorbar": {
              "outlinewidth": 0,
              "ticks": ""
             }
            },
            "type": "scattercarpet"
           }
          ],
          "scattergeo": [
           {
            "marker": {
             "colorbar": {
              "outlinewidth": 0,
              "ticks": ""
             }
            },
            "type": "scattergeo"
           }
          ],
          "scattergl": [
           {
            "marker": {
             "colorbar": {
              "outlinewidth": 0,
              "ticks": ""
             }
            },
            "type": "scattergl"
           }
          ],
          "scattermap": [
           {
            "marker": {
             "colorbar": {
              "outlinewidth": 0,
              "ticks": ""
             }
            },
            "type": "scattermap"
           }
          ],
          "scattermapbox": [
           {
            "marker": {
             "colorbar": {
              "outlinewidth": 0,
              "ticks": ""
             }
            },
            "type": "scattermapbox"
           }
          ],
          "scatterpolar": [
           {
            "marker": {
             "colorbar": {
              "outlinewidth": 0,
              "ticks": ""
             }
            },
            "type": "scatterpolar"
           }
          ],
          "scatterpolargl": [
           {
            "marker": {
             "colorbar": {
              "outlinewidth": 0,
              "ticks": ""
             }
            },
            "type": "scatterpolargl"
           }
          ],
          "scatterternary": [
           {
            "marker": {
             "colorbar": {
              "outlinewidth": 0,
              "ticks": ""
             }
            },
            "type": "scatterternary"
           }
          ],
          "surface": [
           {
            "colorbar": {
             "outlinewidth": 0,
             "ticks": ""
            },
            "colorscale": [
             [
              0,
              "#0d0887"
             ],
             [
              0.1111111111111111,
              "#46039f"
             ],
             [
              0.2222222222222222,
              "#7201a8"
             ],
             [
              0.3333333333333333,
              "#9c179e"
             ],
             [
              0.4444444444444444,
              "#bd3786"
             ],
             [
              0.5555555555555556,
              "#d8576b"
             ],
             [
              0.6666666666666666,
              "#ed7953"
             ],
             [
              0.7777777777777778,
              "#fb9f3a"
             ],
             [
              0.8888888888888888,
              "#fdca26"
             ],
             [
              1,
              "#f0f921"
             ]
            ],
            "type": "surface"
           }
          ],
          "table": [
           {
            "cells": {
             "fill": {
              "color": "#EBF0F8"
             },
             "line": {
              "color": "white"
             }
            },
            "header": {
             "fill": {
              "color": "#C8D4E3"
             },
             "line": {
              "color": "white"
             }
            },
            "type": "table"
           }
          ]
         },
         "layout": {
          "annotationdefaults": {
           "arrowcolor": "#2a3f5f",
           "arrowhead": 0,
           "arrowwidth": 1
          },
          "autotypenumbers": "strict",
          "coloraxis": {
           "colorbar": {
            "outlinewidth": 0,
            "ticks": ""
           }
          },
          "colorscale": {
           "diverging": [
            [
             0,
             "#8e0152"
            ],
            [
             0.1,
             "#c51b7d"
            ],
            [
             0.2,
             "#de77ae"
            ],
            [
             0.3,
             "#f1b6da"
            ],
            [
             0.4,
             "#fde0ef"
            ],
            [
             0.5,
             "#f7f7f7"
            ],
            [
             0.6,
             "#e6f5d0"
            ],
            [
             0.7,
             "#b8e186"
            ],
            [
             0.8,
             "#7fbc41"
            ],
            [
             0.9,
             "#4d9221"
            ],
            [
             1,
             "#276419"
            ]
           ],
           "sequential": [
            [
             0,
             "#0d0887"
            ],
            [
             0.1111111111111111,
             "#46039f"
            ],
            [
             0.2222222222222222,
             "#7201a8"
            ],
            [
             0.3333333333333333,
             "#9c179e"
            ],
            [
             0.4444444444444444,
             "#bd3786"
            ],
            [
             0.5555555555555556,
             "#d8576b"
            ],
            [
             0.6666666666666666,
             "#ed7953"
            ],
            [
             0.7777777777777778,
             "#fb9f3a"
            ],
            [
             0.8888888888888888,
             "#fdca26"
            ],
            [
             1,
             "#f0f921"
            ]
           ],
           "sequentialminus": [
            [
             0,
             "#0d0887"
            ],
            [
             0.1111111111111111,
             "#46039f"
            ],
            [
             0.2222222222222222,
             "#7201a8"
            ],
            [
             0.3333333333333333,
             "#9c179e"
            ],
            [
             0.4444444444444444,
             "#bd3786"
            ],
            [
             0.5555555555555556,
             "#d8576b"
            ],
            [
             0.6666666666666666,
             "#ed7953"
            ],
            [
             0.7777777777777778,
             "#fb9f3a"
            ],
            [
             0.8888888888888888,
             "#fdca26"
            ],
            [
             1,
             "#f0f921"
            ]
           ]
          },
          "colorway": [
           "#636efa",
           "#EF553B",
           "#00cc96",
           "#ab63fa",
           "#FFA15A",
           "#19d3f3",
           "#FF6692",
           "#B6E880",
           "#FF97FF",
           "#FECB52"
          ],
          "font": {
           "color": "#2a3f5f"
          },
          "geo": {
           "bgcolor": "white",
           "lakecolor": "white",
           "landcolor": "#E5ECF6",
           "showlakes": true,
           "showland": true,
           "subunitcolor": "white"
          },
          "hoverlabel": {
           "align": "left"
          },
          "hovermode": "closest",
          "mapbox": {
           "style": "light"
          },
          "paper_bgcolor": "white",
          "plot_bgcolor": "#E5ECF6",
          "polar": {
           "angularaxis": {
            "gridcolor": "white",
            "linecolor": "white",
            "ticks": ""
           },
           "bgcolor": "#E5ECF6",
           "radialaxis": {
            "gridcolor": "white",
            "linecolor": "white",
            "ticks": ""
           }
          },
          "scene": {
           "xaxis": {
            "backgroundcolor": "#E5ECF6",
            "gridcolor": "white",
            "gridwidth": 2,
            "linecolor": "white",
            "showbackground": true,
            "ticks": "",
            "zerolinecolor": "white"
           },
           "yaxis": {
            "backgroundcolor": "#E5ECF6",
            "gridcolor": "white",
            "gridwidth": 2,
            "linecolor": "white",
            "showbackground": true,
            "ticks": "",
            "zerolinecolor": "white"
           },
           "zaxis": {
            "backgroundcolor": "#E5ECF6",
            "gridcolor": "white",
            "gridwidth": 2,
            "linecolor": "white",
            "showbackground": true,
            "ticks": "",
            "zerolinecolor": "white"
           }
          },
          "shapedefaults": {
           "line": {
            "color": "#2a3f5f"
           }
          },
          "ternary": {
           "aaxis": {
            "gridcolor": "white",
            "linecolor": "white",
            "ticks": ""
           },
           "baxis": {
            "gridcolor": "white",
            "linecolor": "white",
            "ticks": ""
           },
           "bgcolor": "#E5ECF6",
           "caxis": {
            "gridcolor": "white",
            "linecolor": "white",
            "ticks": ""
           }
          },
          "title": {
           "x": 0.05
          },
          "xaxis": {
           "automargin": true,
           "gridcolor": "white",
           "linecolor": "white",
           "ticks": "",
           "title": {
            "standoff": 15
           },
           "zerolinecolor": "white",
           "zerolinewidth": 2
          },
          "yaxis": {
           "automargin": true,
           "gridcolor": "white",
           "linecolor": "white",
           "ticks": "",
           "title": {
            "standoff": 15
           },
           "zerolinecolor": "white",
           "zerolinewidth": 2
          }
         }
        },
        "title": {
         "text": "Comparaison du Taux de Malades entre Hommes et Femmes"
        },
        "xaxis": {
         "anchor": "y",
         "domain": [
          0,
          1
         ],
         "title": {
          "text": "Genre"
         }
        },
        "yaxis": {
         "anchor": "x",
         "domain": [
          0,
          1
         ],
         "title": {
          "text": "Taux de Malade"
         }
        }
       }
      }
     },
     "metadata": {},
     "output_type": "display_data"
    }
   ],
   "source": [
    "# Calcul du taux de malades par genre\n",
    "df_gender_disease = df.groupby('Patient Gender')['disease'].value_counts(normalize=True).unstack().reset_index()\n",
    "\n",
    "# Graphique à barres comparant le taux de malades chez les hommes et les femmes\n",
    "fig_bar = px.bar(df_gender_disease, \n",
    "                 x='Patient Gender', \n",
    "                 y=[0, 1],  # 0 correspond aux sains, 1 correspond aux malades\n",
    "                 labels={'Patient Gender': 'Genre', 'value': 'Taux de Malade'}, \n",
    "                 title=\"Comparaison du Taux de Malades entre Hommes et Femmes\",\n",
    "                 barmode='group',  \n",
    "                 text_auto=True)  \n",
    "\n",
    "fig_bar.show()"
   ]
  },
  {
   "cell_type": "markdown",
   "metadata": {},
   "source": [
    "On remarque qu'il y a une légère différence de répartition des non-malades entre femmes et hommes ."
   ]
  },
  {
   "cell_type": "markdown",
   "metadata": {},
   "source": [
    "## Repondération"
   ]
  },
  {
   "cell_type": "code",
   "execution_count": 11,
   "metadata": {},
   "outputs": [
    {
     "name": "stderr",
     "output_type": "stream",
     "text": [
      "WARNING:root:No module named 'tensorflow': AdversarialDebiasing will be unavailable. To install, run:\n",
      "pip install 'aif360[AdversarialDebiasing]'\n",
      "WARNING:root:No module named 'tensorflow': AdversarialDebiasing will be unavailable. To install, run:\n",
      "pip install 'aif360[AdversarialDebiasing]'\n",
      "WARNING:root:No module named 'fairlearn': ExponentiatedGradientReduction will be unavailable. To install, run:\n",
      "pip install 'aif360[Reductions]'\n",
      "WARNING:root:No module named 'fairlearn': GridSearchReduction will be unavailable. To install, run:\n",
      "pip install 'aif360[Reductions]'\n",
      "WARNING:root:No module named 'inFairness': SenSeI and SenSR will be unavailable. To install, run:\n",
      "pip install 'aif360[inFairness]'\n",
      "WARNING:root:No module named 'fairlearn': GridSearchReduction will be unavailable. To install, run:\n",
      "pip install 'aif360[Reductions]'\n"
     ]
    }
   ],
   "source": [
    "from aif360.datasets import StandardDataset\n",
    "from aif360.algorithms.preprocessing import Reweighing\n",
    "from sklearn.preprocessing import LabelEncoder"
   ]
  },
  {
   "cell_type": "code",
   "execution_count": null,
   "metadata": {},
   "outputs": [],
   "source": [
    "# On encode et copie le dataframe pour pouvoir utiliser aif360\n",
    "dfr = df.copy()\n",
    "label_encoder = LabelEncoder()\n",
    "for column in dfr.select_dtypes(include=['object']).columns:\n",
    "    dfr[column] = label_encoder.fit_transform(dfr[column])"
   ]
  },
  {
   "cell_type": "markdown",
   "metadata": {},
   "source": [
    "### Par le genre"
   ]
  },
  {
   "cell_type": "code",
   "execution_count": 14,
   "metadata": {},
   "outputs": [],
   "source": [
    "dataset_gender = StandardDataset(\n",
    "    dfr,\n",
    "    label_name=\"disease\",  \n",
    "    favorable_classes=[0],  \n",
    "    protected_attribute_names=[\"Patient Gender\"],  \n",
    "    privileged_classes=[[1]],  \n",
    ")\n",
    "reweigher_gender = Reweighing(\n",
    "    unprivileged_groups=[{'Patient Gender': 0}],  # Femmes\n",
    "    privileged_groups=[{'Patient Gender': 1}]       # Hommes\n",
    ")\n",
    "dataset_transf_gender = reweigher_gender.fit_transform(dataset_gender)\n",
    "dfr['WEIGHTS_GENDER'] = dataset_transf_gender.instance_weights"
   ]
  },
  {
   "cell_type": "code",
   "execution_count": 18,
   "metadata": {},
   "outputs": [
    {
     "name": "stdout",
     "output_type": "stream",
     "text": [
      "0    0.979018\n",
      "1    0.979018\n",
      "2    1.027359\n",
      "3    0.971271\n",
      "4    0.979018\n",
      "5    1.027359\n",
      "6    1.027359\n",
      "7    1.027359\n",
      "8    1.027359\n",
      "9    1.027359\n",
      "Name: WEIGHTS_GENDER, dtype: float64\n"
     ]
    }
   ],
   "source": [
    "print(dfr['WEIGHTS_GENDER'].head(10))"
   ]
  },
  {
   "cell_type": "markdown",
   "metadata": {},
   "source": [
    "### Par l'âge"
   ]
  },
  {
   "cell_type": "code",
   "execution_count": 15,
   "metadata": {},
   "outputs": [],
   "source": [
    "# --- 2. Reweighting par l'âge ---\n",
    "# Créer une variable binaire \"Age Privileged\" en fonction du label 'disease' et des quartiles d'âge observés\n",
    "def age_privileged(row):\n",
    "    if row['disease'] == 0:\n",
    "        # Pour les patients sans maladie, le groupe privilégié est défini pour les âges entre 34 et 59\n",
    "        return int(34 <= row['Patient Age'] <= 59)\n",
    "    else:\n",
    "        # Pour les patients malades, le groupe privilégié est pour les âges entre 42 et 62\n",
    "        return int(42 <= row['Patient Age'] <= 62)\n",
    "\n",
    "dfr['Age Privileged'] = dfr.apply(age_privileged, axis=1)\n",
    "\n",
    "dataset_age = StandardDataset(\n",
    "    dfr,\n",
    "    label_name=\"disease\",  \n",
    "    favorable_classes=[0],  \n",
    "    protected_attribute_names=[\"Age Privileged\"],  \n",
    "    privileged_classes=[[1]],  # Groupe privilégié : Age dans l'intervalle défini\n",
    ")\n",
    "reweigher_age = Reweighing(\n",
    "    unprivileged_groups=[{'Age Privileged': 0}],\n",
    "    privileged_groups=[{'Age Privileged': 1}]\n",
    ")\n",
    "dataset_transf_age = reweigher_age.fit_transform(dataset_age)\n",
    "dfr['WEIGHTS_AGE'] = dataset_transf_age.instance_weights"
   ]
  },
  {
   "cell_type": "code",
   "execution_count": null,
   "metadata": {},
   "outputs": [],
   "source": [
    "print(dfr['WEIGHTS_AGE'].head(10))"
   ]
  },
  {
   "cell_type": "markdown",
   "metadata": {},
   "source": [
    "### Par le genre ET l'âge"
   ]
  },
  {
   "cell_type": "code",
   "execution_count": 16,
   "metadata": {},
   "outputs": [],
   "source": [
    "# --- 3. Reweighting combiné (Genre + Âge) ---\n",
    "# Définir une variable \"Combined Privileged\" qui vaut 1 si le patient a à la fois un genre et un âge privilégié, sinon 0\n",
    "dfr['Combined Privileged'] = ((dfr['Patient Gender'] == 1) & (dfr['Age Privileged'] == 1)).astype(int)\n",
    "\n",
    "dataset_combined = StandardDataset(\n",
    "    dfr,\n",
    "    label_name=\"disease\",  \n",
    "    favorable_classes=[0],  \n",
    "    protected_attribute_names=[\"Combined Privileged\"],  \n",
    "    privileged_classes=[[1]],  # Privé si les deux conditions sont remplies\n",
    ")\n",
    "reweigher_combined = Reweighing(\n",
    "    unprivileged_groups=[{'Combined Privileged': 0}],\n",
    "    privileged_groups=[{'Combined Privileged': 1}]\n",
    ")\n",
    "dataset_transf_combined = reweigher_combined.fit_transform(dataset_combined)\n",
    "dfr['WEIGHTS_COMBINED'] = dataset_transf_combined.instance_weights"
   ]
  },
  {
   "cell_type": "code",
   "execution_count": 19,
   "metadata": {},
   "outputs": [
    {
     "name": "stdout",
     "output_type": "stream",
     "text": [
      "   WEIGHTS_GENDER  WEIGHTS_AGE  WEIGHTS_COMBINED\n",
      "0        0.979018     0.995731          1.005081\n",
      "1        0.979018     1.003901          0.985541\n",
      "2        1.027359     0.995195          1.018568\n",
      "3        0.971271     1.005356          0.993758\n",
      "4        0.979018     0.995731          1.005081\n",
      "5        1.027359     1.005356          0.993758\n",
      "6        1.027359     1.005356          0.993758\n",
      "7        1.027359     1.005356          0.993758\n",
      "8        1.027359     1.005356          0.993758\n",
      "9        1.027359     1.005356          0.993758\n"
     ]
    }
   ],
   "source": [
    "# Vérification rapide : afficher les 10 premières lignes avec les 3 colonnes de poids\n",
    "print(dfr[['WEIGHTS_GENDER', 'WEIGHTS_AGE', 'WEIGHTS_COMBINED']].head(10))"
   ]
  }
 ],
 "metadata": {
  "kernelspec": {
   "display_name": "Python 3",
   "language": "python",
   "name": "python3"
  },
  "language_info": {
   "codemirror_mode": {
    "name": "ipython",
    "version": 3
   },
   "file_extension": ".py",
   "mimetype": "text/x-python",
   "name": "python",
   "nbconvert_exporter": "python",
   "pygments_lexer": "ipython3",
   "version": "3.9.13"
  }
 },
 "nbformat": 4,
 "nbformat_minor": 2
}
