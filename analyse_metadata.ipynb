{
 "cells": [
  {
   "cell_type": "markdown",
   "metadata": {},
   "source": [
    "# **Analyse rapide de methadonnées**"
   ]
  },
  {
   "cell_type": "markdown",
   "metadata": {},
   "source": [
    "L'objectif de ce notbook est de faire une breve analyse de methédonnée disponibles sur l'ensemble des images de radiographie de torse. "
   ]
  },
  {
   "cell_type": "markdown",
   "metadata": {
    "vscode": {
     "languageId": "html"
    }
   },
   "source": [
    "<html>\n",
    "<head>\n",
    "    <title>Todo List</title>\n",
    "    <style>\n",
    "        .todo {\n",
    "            color: rgb(250, 154, 64);\n",
    "        }\n",
    "    </style>\n",
    "</head>\n",
    "\n",
    "<body>\n",
    "    <h1>Todo List</h1>\n",
    "    <ul>\n",
    "        <li class=\"todo\">Introduction</li>\n",
    "        <li class=\"todo\">Conclusion</li>\n",
    "        <li class=\"todo\">New Data for pre-processing of images</li>\n",
    "    </ul>\n",
    "</body>\n",
    "\n",
    "</html>\n"
   ]
  },
  {
   "cell_type": "code",
   "execution_count": 2,
   "metadata": {},
   "outputs": [],
   "source": [
    "import numpy as np\n",
    "import pandas as pd\n",
    "#import plotly.express as px\n",
    "import warnings\n",
    "warnings.simplefilter(action='ignore', category=FutureWarning)\n",
    "warnings.simplefilter(action='ignore', append=True, category=UserWarning)"
   ]
  },
  {
   "cell_type": "code",
   "execution_count": 3,
   "metadata": {},
   "outputs": [],
   "source": [
    "df = pd.read_csv('DATASET/metadata.csv')"
   ]
  },
  {
   "cell_type": "code",
   "execution_count": 4,
   "metadata": {},
   "outputs": [
    {
     "name": "stdout",
     "output_type": "stream",
     "text": [
      "<class 'pandas.core.frame.DataFrame'>\n",
      "RangeIndex: 4956 entries, 0 to 4955\n",
      "Data columns (total 12 columns):\n",
      " #   Column                       Non-Null Count  Dtype  \n",
      "---  ------                       --------------  -----  \n",
      " 0   Image Index                  4956 non-null   object \n",
      " 1   Finding Labels               4956 non-null   object \n",
      " 2   Follow-up #                  4956 non-null   int64  \n",
      " 3   Patient ID                   4956 non-null   int64  \n",
      " 4   Patient Age                  4956 non-null   int64  \n",
      " 5   Patient Gender               4956 non-null   object \n",
      " 6   View Position                4956 non-null   object \n",
      " 7   OriginalImage[Width          4956 non-null   int64  \n",
      " 8   Height]                      4956 non-null   int64  \n",
      " 9   OriginalImagePixelSpacing[x  4956 non-null   float64\n",
      " 10  y]                           4956 non-null   float64\n",
      " 11  WEIGHTS                      4956 non-null   int64  \n",
      "dtypes: float64(2), int64(6), object(4)\n",
      "memory usage: 464.8+ KB\n"
     ]
    }
   ],
   "source": [
    "df.info()"
   ]
  },
  {
   "cell_type": "markdown",
   "metadata": {
    "vscode": {
     "languageId": "html"
    }
   },
   "source": [
    "<p style=\"color:rgb(250, 154, 64);\">\n",
    "      On regarde qq staistique sur les jeux de données </p>"
   ]
  },
  {
   "cell_type": "code",
   "execution_count": 6,
   "metadata": {},
   "outputs": [
    {
     "data": {
      "text/html": [
       "<div>\n",
       "<style scoped>\n",
       "    .dataframe tbody tr th:only-of-type {\n",
       "        vertical-align: middle;\n",
       "    }\n",
       "\n",
       "    .dataframe tbody tr th {\n",
       "        vertical-align: top;\n",
       "    }\n",
       "\n",
       "    .dataframe thead th {\n",
       "        text-align: right;\n",
       "    }\n",
       "</style>\n",
       "<table border=\"1\" class=\"dataframe\">\n",
       "  <thead>\n",
       "    <tr style=\"text-align: right;\">\n",
       "      <th></th>\n",
       "      <th>Follow-up #</th>\n",
       "      <th>Patient ID</th>\n",
       "      <th>Patient Age</th>\n",
       "      <th>OriginalImage[Width</th>\n",
       "      <th>Height]</th>\n",
       "      <th>OriginalImagePixelSpacing[x</th>\n",
       "      <th>y]</th>\n",
       "      <th>WEIGHTS</th>\n",
       "    </tr>\n",
       "  </thead>\n",
       "  <tbody>\n",
       "    <tr>\n",
       "      <th>count</th>\n",
       "      <td>4956.000000</td>\n",
       "      <td>4956.000000</td>\n",
       "      <td>4956.000000</td>\n",
       "      <td>4956.000000</td>\n",
       "      <td>4956.000000</td>\n",
       "      <td>4956.000000</td>\n",
       "      <td>4956.000000</td>\n",
       "      <td>4956.0</td>\n",
       "    </tr>\n",
       "    <tr>\n",
       "      <th>mean</th>\n",
       "      <td>5.170299</td>\n",
       "      <td>13762.881154</td>\n",
       "      <td>48.779459</td>\n",
       "      <td>2638.597458</td>\n",
       "      <td>2494.639629</td>\n",
       "      <td>0.155618</td>\n",
       "      <td>0.155618</td>\n",
       "      <td>1.0</td>\n",
       "    </tr>\n",
       "    <tr>\n",
       "      <th>std</th>\n",
       "      <td>7.412949</td>\n",
       "      <td>8776.459962</td>\n",
       "      <td>16.922629</td>\n",
       "      <td>335.906572</td>\n",
       "      <td>402.738998</td>\n",
       "      <td>0.015823</td>\n",
       "      <td>0.015823</td>\n",
       "      <td>0.0</td>\n",
       "    </tr>\n",
       "    <tr>\n",
       "      <th>min</th>\n",
       "      <td>0.000000</td>\n",
       "      <td>2.000000</td>\n",
       "      <td>2.000000</td>\n",
       "      <td>1334.000000</td>\n",
       "      <td>1356.000000</td>\n",
       "      <td>0.115000</td>\n",
       "      <td>0.115000</td>\n",
       "      <td>1.0</td>\n",
       "    </tr>\n",
       "    <tr>\n",
       "      <th>25%</th>\n",
       "      <td>0.000000</td>\n",
       "      <td>6527.000000</td>\n",
       "      <td>37.000000</td>\n",
       "      <td>2500.000000</td>\n",
       "      <td>2048.000000</td>\n",
       "      <td>0.143000</td>\n",
       "      <td>0.143000</td>\n",
       "      <td>1.0</td>\n",
       "    </tr>\n",
       "    <tr>\n",
       "      <th>50%</th>\n",
       "      <td>2.000000</td>\n",
       "      <td>12442.000000</td>\n",
       "      <td>51.000000</td>\n",
       "      <td>2502.000000</td>\n",
       "      <td>2527.500000</td>\n",
       "      <td>0.143000</td>\n",
       "      <td>0.143000</td>\n",
       "      <td>1.0</td>\n",
       "    </tr>\n",
       "    <tr>\n",
       "      <th>75%</th>\n",
       "      <td>7.000000</td>\n",
       "      <td>20897.000000</td>\n",
       "      <td>60.000000</td>\n",
       "      <td>2992.000000</td>\n",
       "      <td>2991.000000</td>\n",
       "      <td>0.168000</td>\n",
       "      <td>0.168000</td>\n",
       "      <td>1.0</td>\n",
       "    </tr>\n",
       "    <tr>\n",
       "      <th>max</th>\n",
       "      <td>49.000000</td>\n",
       "      <td>30796.000000</td>\n",
       "      <td>411.000000</td>\n",
       "      <td>3056.000000</td>\n",
       "      <td>3056.000000</td>\n",
       "      <td>0.198800</td>\n",
       "      <td>0.198800</td>\n",
       "      <td>1.0</td>\n",
       "    </tr>\n",
       "  </tbody>\n",
       "</table>\n",
       "</div>"
      ],
      "text/plain": [
       "       Follow-up #    Patient ID  Patient Age  OriginalImage[Width  \\\n",
       "count  4956.000000   4956.000000  4956.000000          4956.000000   \n",
       "mean      5.170299  13762.881154    48.779459          2638.597458   \n",
       "std       7.412949   8776.459962    16.922629           335.906572   \n",
       "min       0.000000      2.000000     2.000000          1334.000000   \n",
       "25%       0.000000   6527.000000    37.000000          2500.000000   \n",
       "50%       2.000000  12442.000000    51.000000          2502.000000   \n",
       "75%       7.000000  20897.000000    60.000000          2992.000000   \n",
       "max      49.000000  30796.000000   411.000000          3056.000000   \n",
       "\n",
       "           Height]  OriginalImagePixelSpacing[x           y]  WEIGHTS  \n",
       "count  4956.000000                  4956.000000  4956.000000   4956.0  \n",
       "mean   2494.639629                     0.155618     0.155618      1.0  \n",
       "std     402.738998                     0.015823     0.015823      0.0  \n",
       "min    1356.000000                     0.115000     0.115000      1.0  \n",
       "25%    2048.000000                     0.143000     0.143000      1.0  \n",
       "50%    2527.500000                     0.143000     0.143000      1.0  \n",
       "75%    2991.000000                     0.168000     0.168000      1.0  \n",
       "max    3056.000000                     0.198800     0.198800      1.0  "
      ]
     },
     "execution_count": 6,
     "metadata": {},
     "output_type": "execute_result"
    }
   ],
   "source": [
    "df.describe()"
   ]
  },
  {
   "cell_type": "markdown",
   "metadata": {},
   "source": []
  }
 ],
 "metadata": {
  "kernelspec": {
   "display_name": "projet-env",
   "language": "python",
   "name": "python3"
  },
  "language_info": {
   "codemirror_mode": {
    "name": "ipython",
    "version": 3
   },
   "file_extension": ".py",
   "mimetype": "text/x-python",
   "name": "python",
   "nbconvert_exporter": "python",
   "pygments_lexer": "ipython3",
   "version": "3.10.12"
  }
 },
 "nbformat": 4,
 "nbformat_minor": 2
}
