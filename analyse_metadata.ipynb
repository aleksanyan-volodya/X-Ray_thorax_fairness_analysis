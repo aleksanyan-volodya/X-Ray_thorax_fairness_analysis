{
 "cells": [
  {
   "cell_type": "markdown",
   "metadata": {},
   "source": [
    "# **Analyse rapide de methadonnées**"
   ]
  },
  {
   "cell_type": "markdown",
   "metadata": {},
   "source": [
    "L'objectif de ce notbook est de faire une breve analyse de methédonnée disponibles sur l'ensemble des images de radiographie de torse. "
   ]
  },
  {
   "cell_type": "code",
   "execution_count": null,
   "metadata": {},
   "outputs": [],
   "source": [
    "import numpy as np\n",
    "import pandas as pd\n",
    "import plotly.express as px\n",
    "import warnings\n",
    "warnings.simplefilter(action='ignore', category=FutureWarning)\n",
    "warnings.simplefilter(action='ignore', append=True, category=UserWarning)\n",
    "from aif360.datasets import StandardDataset\n",
    "from aif360.algorithms.preprocessing import Reweighing\n",
    "from sklearn.preprocessing import LabelEncoder"
   ]
  },
  {
   "cell_type": "code",
   "execution_count": null,
   "metadata": {},
   "outputs": [],
   "source": [
    "df = pd.read_csv('clem/metadata.csv')"
   ]
  },
  {
   "cell_type": "markdown",
   "metadata": {},
   "source": [
    "# Analyse des Métadonnées et Prétraitement par Reweighting\n",
    "\n",
    "Dans ce notebook, nous allons analyser les métadonnées d'un jeu de données médical où :\n",
    "- Les **colonnes sensibles** sont `Patient Age` et `Patient Gender`.\n",
    "- La **variable cible** est `Finding Labels`.  \n",
    "  Si la valeur est `\"No Finding\"`, cela signifie qu'il n'y a **aucune maladie** détectée.  \n",
    "  Dans le cas contraire, la chaîne contient une ou plusieurs maladies (séparées par `|`). Nousa allons donc simplement diviser les données en `malade` et `sain`\n",
    "\n",
    "L'objectif est de :\n",
    "\n",
    "1. Préparer les données en créant une variable binaire `disease` (0 pour *No Finding*, 1 pour présence de maladie).\n",
    "2. Réaliser une analyse univariée et bivariée en utilisant Plotly Express pour visualiser les distributions et relations.\n",
    "3. Calculer des poids pour chaque échantillon via un **reweighting** (pour compenser un éventuel déséquilibre de classes) et stocker ces poids dans la colonne `WEIGHTS` (déjà initialisés à 1.0)."
   ]
  },
  {
   "cell_type": "code",
   "execution_count": null,
   "metadata": {},
   "outputs": [],
   "source": [
    "# Affichage d'un aperçu des données\n",
    "print(\"Aperçu des premières lignes:\")\n",
    "display(df.head())\n",
    "\n",
    "# Vérifier la présence des colonnes sensibles et de la colonne cible\n",
    "print(\"Colonnes du DataFrame:\", df.columns.tolist())"
   ]
  },
  {
   "cell_type": "markdown",
   "metadata": {},
   "source": [
    "## 1. Préparation des données"
   ]
  },
  {
   "cell_type": "code",
   "execution_count": null,
   "metadata": {},
   "outputs": [],
   "source": [
    "# Création de la variable cible binaire\n",
    "#  - Si Finding Labels == \"No Finding\" => 0 (aucune maladie)\n",
    "#  - Sinon => 1 (présence d'une ou plusieurs maladies)\n",
    "df['disease'] = df['Finding Labels'].apply(lambda x: 0 if x == \"No Finding\" else 1)"
   ]
  },
  {
   "cell_type": "code",
   "execution_count": null,
   "metadata": {},
   "outputs": [],
   "source": [
    "# Correction des âges incorrects : remplacement des âges > 140 par la médiane des âges valides\n",
    "valid_age_mask = df['Patient Age'] <= 140\n",
    "median_age = df.loc[valid_age_mask, 'Patient Age'].median()\n",
    "df.loc[~valid_age_mask, 'Patient Age'] = median_age"
   ]
  },
  {
   "cell_type": "code",
   "execution_count": null,
   "metadata": {},
   "outputs": [],
   "source": [
    "# Calcul de la distribution des malades/sains\n",
    "distribution = df['disease'].value_counts().reset_index()\n",
    "distribution.columns = ['disease', 'count']\n",
    "distribution['disease'] = distribution['disease'].map({0: 'Sain', 1: 'Malade'})\n",
    "\n",
    "# Affichage de la distribution avec un pie chart\n",
    "fig_pie = px.pie(distribution, values='count', names='disease', \n",
    "                 title=\"Répartition des malades/sains parmi le jeu de données\",\n",
    "                 color_discrete_sequence=px.colors.qualitative.Pastel)\n",
    "# fig_pie.show()"
   ]
  },
  {
   "cell_type": "markdown",
   "metadata": {},
   "source": [
    "## 2. Analyse"
   ]
  },
  {
   "cell_type": "markdown",
   "metadata": {},
   "source": [
    "### 2.1 Analyse Univariée"
   ]
  },
  {
   "cell_type": "code",
   "execution_count": null,
   "metadata": {},
   "outputs": [],
   "source": [
    "# 1. Distribution de Patient Age\n",
    "fig_age = px.histogram(df, \n",
    "                       x='Patient Age', \n",
    "                       title=\"Distribution de l'âge des patients\",\n",
    "                       nbins=40,\n",
    "                       color_discrete_sequence=['skyblue'],\n",
    "                       opacity=0.75,\n",
    "                       labels={'Patient Age': 'Âge du patient'},\n",
    "                       )\n",
    "#fig_age.show()"
   ]
  },
  {
   "cell_type": "code",
   "execution_count": null,
   "metadata": {},
   "outputs": [],
   "source": [
    "#2 Distribution du Genre\n",
    "\n",
    "gender_distribution = df['Patient Gender'].value_counts().reset_index()\n",
    "gender_distribution.columns = ['Patient Gender', 'count']\n",
    "\n",
    "# Affichage de la distribution avec un pie chart\n",
    "fig_pie_gender = px.pie(gender_distribution, values='count', names='Patient Gender',\n",
    "                        title=\"Répartition du Genre \",\n",
    "                        color_discrete_sequence=px.colors.qualitative.Pastel)\n",
    "#fig_pie_gender.show()"
   ]
  },
  {
   "cell_type": "markdown",
   "metadata": {},
   "source": [
    "### 2.2 Analyse bivariée"
   ]
  },
  {
   "cell_type": "code",
   "execution_count": null,
   "metadata": {},
   "outputs": [],
   "source": [
    "# 1. Boxplot de Patient Age en fonction de la variable cible\n",
    "fig_box_age = px.box(df, x='disease', y='Patient Age', \n",
    "                     title=\"Âge des patients selon la présence ou l'absence de maladie\",\n",
    "                     labels={'disease': 'Présence de maladie (0 = Sain, 1 = Malade)', 'Patient Age': 'Âge du patient'})\n",
    "#fig_box_age.show()\n"
   ]
  },
  {
   "cell_type": "code",
   "execution_count": null,
   "metadata": {},
   "outputs": [],
   "source": [
    "# Calcul du taux de malades par genre\n",
    "df_gender_disease = df.groupby('Patient Gender')['disease'].value_counts(normalize=True).unstack().reset_index()\n",
    "\n",
    "# Graphique à barres comparant le taux de malades chez les hommes et les femmes\n",
    "fig_bar = px.bar(df_gender_disease, \n",
    "                 x='Patient Gender', \n",
    "                 y=[0, 1],  # 0 correspond aux sains, 1 correspond aux malades\n",
    "                 labels={'Patient Gender': 'Genre', 'value': 'Taux de Malade'}, \n",
    "                 title=\"Comparaison du Taux de Malades entre Hommes et Femmes\",\n",
    "                 barmode='group',  \n",
    "                 text_auto=True)  \n",
    "\n",
    "#fig_bar.show()"
   ]
  },
  {
   "cell_type": "markdown",
   "metadata": {},
   "source": [
    "On remarque qu'il y a une légère différence de répartition des non-malades entre femmes et hommes ."
   ]
  },
  {
   "cell_type": "markdown",
   "metadata": {},
   "source": [
    "## Repondération"
   ]
  },
  {
   "cell_type": "code",
   "execution_count": null,
   "metadata": {},
   "outputs": [],
   "source": [
    "dfr = df.copy()\n",
    "label_encoder = LabelEncoder()\n",
    "for column in dfr.select_dtypes(include=['object']).columns:\n",
    "    dfr[column] = label_encoder.fit_transform(dfr[column])"
   ]
  },
  {
   "cell_type": "markdown",
   "metadata": {},
   "source": [
    "Nous allons donc faire la ponderation de 3 façon differents. Le genre, l'âge, et la combinaison des 2, sachant que nous avons des biais visibles en fonction les tranches d'âge."
   ]
  },
  {
   "cell_type": "markdown",
   "metadata": {},
   "source": [
    "### Par le genre"
   ]
  },
  {
   "cell_type": "code",
   "execution_count": null,
   "metadata": {},
   "outputs": [],
   "source": [
    "dataset_gender = StandardDataset(\n",
    "    dfr,\n",
    "    label_name=\"disease\",              # Variable à prédire\n",
    "    favorable_classes=[0],             # 0 = absence de maladie (classe favorable)\n",
    "    protected_attribute_names=[\"Patient Gender\"],\n",
    "    privileged_classes=[[1]]           # Groupe privilégié : patients avec Patient Gender == 1\n",
    ")\n",
    "reweigher_gender = Reweighing(\n",
    "    unprivileged_groups=[{'Patient Gender': 0}],  # Non privilégié\n",
    "    privileged_groups=[{'Patient Gender': 1}]       # Privilégié\n",
    ")\n",
    "dataset_transf_gender = reweigher_gender.fit_transform(dataset_gender)\n",
    "dfr['WEIGHTS_GENDER'] = dataset_transf_gender.instance_weights"
   ]
  },
  {
   "cell_type": "markdown",
   "metadata": {},
   "source": [
    "### Par l'âge (selon les quartiles)"
   ]
  },
  {
   "cell_type": "code",
   "execution_count": null,
   "metadata": {},
   "outputs": [],
   "source": [
    "# --- 3. Reweighting par l'âge ---\n",
    "# On définit une variable binaire \"Age Privileged\" en fonction du label 'disease' et des intervalles d'âge :\n",
    "#   - Pour les patients sans maladie (disease == 0) : 34 <= Patient Age <= 59 est privilégié\n",
    "#   - Pour les patients malades (disease == 1) : 42 <= Patient Age <= 62 est privilégié\n",
    "def age_privileged(row):\n",
    "    if row['disease'] == 0:\n",
    "        return int(34 <= row['Patient Age'] <= 59)\n",
    "    else:\n",
    "        return int(42 <= row['Patient Age'] <= 62)\n",
    "\n",
    "dfr['Age Privileged'] = dfr.apply(age_privileged, axis=1)\n",
    "\n",
    "dataset_age = StandardDataset(\n",
    "    dfr,\n",
    "    label_name=\"disease\",              # Variable à prédire\n",
    "    favorable_classes=[0],\n",
    "    protected_attribute_names=[\"Age Privileged\"],\n",
    "    privileged_classes=[[1]]           # Groupe privilégié : âge dans l'intervalle défini\n",
    ")\n",
    "reweigher_age = Reweighing(\n",
    "    unprivileged_groups=[{'Age Privileged': 0}],\n",
    "    privileged_groups=[{'Age Privileged': 1}]\n",
    ")\n",
    "dataset_transf_age = reweigher_age.fit_transform(dataset_age)\n",
    "dfr['WEIGHTS_AGE'] = dataset_transf_age.instance_weights"
   ]
  },
  {
   "cell_type": "markdown",
   "metadata": {},
   "source": [
    "### Par les deux"
   ]
  },
  {
   "cell_type": "code",
   "execution_count": null,
   "metadata": {},
   "outputs": [],
   "source": [
    "# On définit \"Combined Privileged\" comme 1 si le patient a à la fois Patient Gender == 1 et Age Privileged == 1, sinon 0\n",
    "dfr['Combined Privileged'] = ((dfr['Patient Gender'] == 1) & (dfr['Age Privileged'] == 1)).astype(int)\n",
    "\n",
    "dataset_combined = StandardDataset(\n",
    "    dfr,\n",
    "    label_name=\"disease\",              # Variable à prédire\n",
    "    favorable_classes=[0],\n",
    "    protected_attribute_names=[\"Combined Privileged\"],\n",
    "    privileged_classes=[[1]]           # Groupe privilégié si les deux conditions sont remplies\n",
    ")\n",
    "reweigher_combined = Reweighing(\n",
    "    unprivileged_groups=[{'Combined Privileged': 0}],\n",
    "    privileged_groups=[{'Combined Privileged': 1}]\n",
    ")\n",
    "dataset_transf_combined = reweigher_combined.fit_transform(dataset_combined)\n",
    "dfr['WEIGHTS_COMBINED'] = dataset_transf_combined.instance_weights\n",
    "\n",
    "# --- Vérification rapide : affichage des 10 premières lignes avec les colonnes de poids ---\n",
    "print(dfr[['Patient Gender', 'Patient Age', 'disease', 'Age Privileged', 'Combined Privileged',\n",
    "           'WEIGHTS_GENDER', 'WEIGHTS_AGE', 'WEIGHTS_COMBINED']].head(10))"
   ]
  },
  {
   "cell_type": "code",
   "execution_count": null,
   "metadata": {},
   "outputs": [],
   "source": [
    "df[\"WEIGHTS\"] = dfr[\"WEIGHTS\"]"
   ]
  },
  {
   "cell_type": "code",
   "execution_count": null,
   "metadata": {},
   "outputs": [],
   "source": [
    "df0 = pd.read_csv('clem/metadata.csv')\n",
    "df1 = df0.copy()\n",
    "df2 = df1.copy()"
   ]
  },
  {
   "cell_type": "code",
   "execution_count": null,
   "metadata": {},
   "outputs": [],
   "source": [
    "df0['WEIGHTS']=dfr['WEIGHTS_GENDER'].values"
   ]
  },
  {
   "cell_type": "code",
   "execution_count": null,
   "metadata": {},
   "outputs": [],
   "source": [
    "df1['WEIGHTS']=dfr['WEIGHTS_AGE'].values"
   ]
  },
  {
   "cell_type": "code",
   "execution_count": null,
   "metadata": {},
   "outputs": [],
   "source": [
    "df2['WEIGHTS']=dfr['WEIGHTS_COMBINED'].values"
   ]
  },
  {
   "cell_type": "markdown",
   "metadata": {},
   "source": [
    "### Faire les csv pour le training"
   ]
  },
  {
   "cell_type": "code",
   "execution_count": null,
   "metadata": {},
   "outputs": [],
   "source": [
    "df0.to_csv(\"./clem/metadata_gender.csv\")\n",
    "df1.to_csv(\"./clem/metadata_age.csv\")\n",
    "df2.to_csv(\"./clem/metadata_both.csv\")"
   ]
  },
  {
   "cell_type": "code",
   "execution_count": null,
   "metadata": {},
   "outputs": [],
   "source": [
    "df0.to_csv(\"./1_clem/metadata_gender.csv\")\n",
    "df1.to_csv(\"./1_clem/metadata_age.csv\")\n",
    "df2.to_csv(\"./1_clem/metadata_both.csv\")"
   ]
  },
  {
   "cell_type": "code",
   "execution_count": null,
   "metadata": {},
   "outputs": [],
   "source": []
  }
 ],
 "metadata": {
  "kernelspec": {
   "display_name": "projet-env",
   "language": "python",
   "name": "python3"
  },
  "language_info": {
   "codemirror_mode": {
    "name": "ipython",
    "version": 3
   },
   "file_extension": ".py",
   "mimetype": "text/x-python",
   "name": "python",
   "nbconvert_exporter": "python",
   "pygments_lexer": "ipython3",
   "version": "3.10.12"
  }
 },
 "nbformat": 4,
 "nbformat_minor": 2
}
