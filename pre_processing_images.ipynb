{
 "cells": [
  {
   "cell_type": "markdown",
   "metadata": {},
   "source": [
    "# **Pre-processing des images**\n",
    "\n",
    "Dans cette partie nous allons nous concentrer sur le pre-traitement des images. \n",
    "\n",
    "Nous essairons :  \n",
    "\n",
    "### **1️ Normalisation & Standardisation**  \n",
    "- [ ] **Redimensionnement** : S'assurer que toutes les images ont la même taille (ex. 224×224 ou 512×512 selon le modèle).\n",
    "\n",
    "- [ ] **Mise à l'échelle des pixels** : Normaliser les valeurs de pixels dans une plage de **[0,1]** ou **[-1,1]**.  \n",
    "- [ ] **Égalisation d'histogramme / CLAHE** : Améliore le contraste des images pour mieux distinguer les structures internes.  \n",
    "- [ ] **Filtrage du bruit** : Appliquer un filtre gaussien ou un filtre médian pour réduire le bruit dans les images.  \n",
    "\n",
    "\n",
    "\n",
    "### **2️ Gestion du déséquilibre des classes (âge, sexe, position d'imagerie)**  \n",
    "- [ ] **Sur-échantillonnage** : Dupliquer les images des groupes sous-représentés (ex. jeunes, images d'épaule).  \n",
    "\n",
    "- [ ] **Sous-échantillonnage** : Réduire le nombre d'images dans les groupes sur-représentés.  \n",
    "- [ ] **Pondération des classes** : Ajuster la fonction de perte pour donner plus d'importance aux classes minoritaires.  \n",
    "\n",
    "\n",
    "\n",
    "### **3️ Augmentation des données** *(surtout pour les images d'épaule, qui sont sous-représentées)*  \n",
    "- [ ] **Rotations** : Tourner légèrement les images (ex. ±15°).  \n",
    "\n",
    "- [ ] **Translation** : Déplacer l'image légèrement dans différentes directions.  \n",
    "- [ ] **Zoom & Crop** : Simuler différentes prises de vue en zoomant légèrement.  \n",
    "- [ ] **Modification du contraste & de la luminosité** : Simuler les différences entre machines d'imagerie.  \n",
    "\n",
    "\n",
    "\n",
    "### **4️ Vérification des métadonnées & fuites de données**  \n",
    "- [ ] **S'assurer que les labels sont corrects** et qu'il n'y a pas d'incohérences.  \n",
    "\n",
    "- [ ] **Vérifier si certaines métadonnées (ex. sexe, âge) influencent trop les prédictions** → Risque de biais !  \n",
    "- [ ] **Supprimer les doublons** (même patient, même image plusieurs fois).  \n",
    "\n",
    "\n",
    "\n",
    "### **5️ Conversion & Optimisation**  \n",
    "- [ ] **Convertir en format optimal** (ex. PNG → JPEG si nécessaire pour réduire la taille des fichiers).\n",
    "\n",
    "- [ ] **Compression sans perte** pour accélérer l'entraînement sans perdre d'information.  "
   ]
  },
  {
   "cell_type": "code",
   "execution_count": 1,
   "metadata": {},
   "outputs": [],
   "source": [
    "#######\n",
    "# 1️ Normalisation & Standardisation\n",
    "# - Égalisation d'histogramme / CLAHE : Améliore le contraste des images pour mieux distinguer les structures internes.  \n",
    "#######"
   ]
  },
  {
   "cell_type": "markdown",
   "metadata": {},
   "source": [
    "## **Les problèmes rencontrés**\n",
    "\n",
    "- Les poumons peuvent prendre de differente pourcentage de place sur l'image.\n",
    "- position du corps: sur l'épaule ou sur le dos\n",
    "- présence de cables pour transfusion, difference physiologique entre homme/femme, vetement \n",
    "- certaines images sont plus floues que d'autres\n",
    "- présence de spéciales caractères/mots sur le coin de certaines images\n"
   ]
  },
  {
   "cell_type": "code",
   "execution_count": 2,
   "metadata": {},
   "outputs": [],
   "source": [
    "import image_transformation as it"
   ]
  },
  {
   "cell_type": "code",
   "execution_count": 3,
   "metadata": {},
   "outputs": [],
   "source": [
    "import os"
   ]
  },
  {
   "cell_type": "code",
   "execution_count": 13,
   "metadata": {},
   "outputs": [],
   "source": [
    "paths = ['train/malade', \"train/sain\", 'valid/malade', \"valid/sain\"]"
   ]
  },
  {
   "cell_type": "code",
   "execution_count": 14,
   "metadata": {},
   "outputs": [
    {
     "data": {
      "text/plain": [
       "4956"
      ]
     },
     "execution_count": 14,
     "metadata": {},
     "output_type": "execute_result"
    }
   ],
   "source": [
    "sum(len(os.listdir(\"DATASET/\"+path)) for path in paths) # 2000 images"
   ]
  },
  {
   "cell_type": "code",
   "execution_count": null,
   "metadata": {},
   "outputs": [
    {
     "name": "stderr",
     "output_type": "stream",
     "text": [
      "/home/valod/git_repos/X-Ray_thorax_fairness_analysis/image_transformation.py:124: FutureWarning: The behavior of DataFrame concatenation with empty or all-NA entries is deprecated. In a future version, this will no longer exclude empty or all-NA columns when determining the result dtypes. To retain the old behavior, exclude the relevant entries before the concat operation.\n",
      "  df_to = pd.concat([df_to, image_info], ignore_index=True)\n"
     ]
    }
   ],
   "source": [
    "# applay equilization to all dataset\n",
    "paths = ['train/malade', \"train/sain\", 'valid/malade', \"valid/sain\"]\n",
    "\n",
    "for p in paths:\n",
    "    path = f\"DATASET/{p}\"\n",
    "    for filename in os.listdir(path):\n",
    "        image_path = f\"{path}/{filename}\"\n",
    "        new_image_path = f\"1_{image_path[:-4]}_transformed.png\"\n",
    "\n",
    "        it.add_new_image(\n",
    "            from_image_path=image_path,\n",
    "            to_image_path=new_image_path,\n",
    "            from_csv_path=\"DATASET/metadata.csv\",\n",
    "            to_csv_path=\"1_DATASET/metadata.csv\",\n",
    "            equalize=True\n",
    "        )\n",
    "\n"
   ]
  },
  {
   "cell_type": "code",
   "execution_count": null,
   "metadata": {},
   "outputs": [
    {
     "data": {
      "text/plain": [
       "0"
      ]
     },
     "execution_count": 8,
     "metadata": {},
     "output_type": "execute_result"
    }
   ],
   "source": [
    "# it.remove_transformed_data(\"1_DATASET/metadata.csv\")"
   ]
  },
  {
   "cell_type": "code",
   "execution_count": null,
   "metadata": {},
   "outputs": [],
   "source": []
  }
 ],
 "metadata": {
  "kernelspec": {
   "display_name": "projet-env",
   "language": "python",
   "name": "python3"
  },
  "language_info": {
   "codemirror_mode": {
    "name": "ipython",
    "version": 3
   },
   "file_extension": ".py",
   "mimetype": "text/x-python",
   "name": "python",
   "nbconvert_exporter": "python",
   "pygments_lexer": "ipython3",
   "version": "3.10.12"
  }
 },
 "nbformat": 4,
 "nbformat_minor": 2
}
