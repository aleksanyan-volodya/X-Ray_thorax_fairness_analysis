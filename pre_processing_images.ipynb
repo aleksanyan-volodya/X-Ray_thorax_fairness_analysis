{
 "cells": [
  {
   "cell_type": "markdown",
   "metadata": {},
   "source": [
    "# **Pre-processing des images**\n",
    "\n",
    "Dans cette partie nous allons nous concentrer sur le pre-traitement des images. \n",
    "\n",
    "Nous essairons :  \n",
    "\n",
    "### **1️ Normalisation & Standardisation**  \n",
    "- [ ] **Redimensionnement** : S'assurer que toutes les images ont la même taille (ex. 224×224 ou 512×512 selon le modèle).\n",
    "\n",
    "- [ ] **Mise à l'échelle des pixels** : Normaliser les valeurs de pixels dans une plage de **[0,1]** ou **[-1,1]**.  \n",
    "- [ ] **Égalisation d'histogramme / CLAHE** : Améliore le contraste des images pour mieux distinguer les structures internes.  \n",
    "- [ ] **Filtrage du bruit** : Appliquer un filtre gaussien ou un filtre médian pour réduire le bruit dans les images.  \n",
    "\n",
    "\n",
    "\n",
    "### **2️ Gestion du déséquilibre des classes (âge, sexe, position d'imagerie)**  \n",
    "- [ ] **Sur-échantillonnage** : Dupliquer les images des groupes sous-représentés (ex. jeunes, images d'épaule).  \n",
    "\n",
    "- [ ] **Sous-échantillonnage** : Réduire le nombre d'images dans les groupes sur-représentés.  \n",
    "- [ ] **Pondération des classes** : Ajuster la fonction de perte pour donner plus d'importance aux classes minoritaires.  \n",
    "\n",
    "\n",
    "\n",
    "### **3️ Augmentation des données** *(surtout pour les images d'épaule, qui sont sous-représentées)*  \n",
    "- [ ] **Rotations** : Tourner légèrement les images (ex. ±15°).  \n",
    "\n",
    "- [ ] **Translation** : Déplacer l'image légèrement dans différentes directions.  \n",
    "- [ ] **Zoom & Crop** : Simuler différentes prises de vue en zoomant légèrement.  \n",
    "- [ ] **Modification du contraste & de la luminosité** : Simuler les différences entre machines d'imagerie.  \n",
    "\n",
    "\n",
    "\n",
    "### **4️ Vérification des métadonnées & fuites de données**  \n",
    "- [ ] **S'assurer que les labels sont corrects** et qu'il n'y a pas d'incohérences.  \n",
    "\n",
    "- [ ] **Vérifier si certaines métadonnées (ex. sexe, âge) influencent trop les prédictions** → Risque de biais !  \n",
    "- [ ] **Supprimer les doublons** (même patient, même image plusieurs fois).  \n",
    "\n",
    "\n",
    "\n",
    "### **5️ Conversion & Optimisation**  \n",
    "- [ ] **Convertir en format optimal** (ex. PNG → JPEG si nécessaire pour réduire la taille des fichiers).\n",
    "\n",
    "- [ ] **Compression sans perte** pour accélérer l'entraînement sans perdre d'information.  "
   ]
  },
  {
   "cell_type": "code",
   "execution_count": 2,
   "metadata": {},
   "outputs": [],
   "source": [
    "import image_transformation as it"
   ]
  },
  {
   "cell_type": "code",
   "execution_count": 15,
   "metadata": {},
   "outputs": [],
   "source": [
    "#######\n",
    "# 1️ Normalisation & Standardisation\n",
    "# - Égalisation d'histogramme / CLAHE : Améliore le contraste des images pour mieux distinguer les structures internes.  \n",
    "#######"
   ]
  },
  {
   "cell_type": "code",
   "execution_count": 4,
   "metadata": {},
   "outputs": [],
   "source": [
    "from PIL import Image, ImageEnhance, ImageFilter\n",
    "import numpy as np"
   ]
  },
  {
   "cell_type": "code",
   "execution_count": null,
   "metadata": {},
   "outputs": [],
   "source": [
    "# applay equilization to all dataset\n",
    "# add_new_image(image_path: str, csv_path: str, rotation: int = 0, brightness: float = 1.0, noise: float = 0.0, blur: float = 0.0, equalize: bool = False) -> None\n",
    "it.add_new_image(\n",
    "    image_path='DATASET/train/malade',\n",
    "    csv_path='dataset/labels.csv',\n",
    "    rotation=0,\n",
    "    brightness=1.0,\n",
    "    noise=0.0,\n",
    "    blur=0.0,\n",
    "    equalize=True\n",
    ")\n"
   ]
  }
 ],
 "metadata": {
  "kernelspec": {
   "display_name": "projet-env",
   "language": "python",
   "name": "python3"
  },
  "language_info": {
   "codemirror_mode": {
    "name": "ipython",
    "version": 3
   },
   "file_extension": ".py",
   "mimetype": "text/x-python",
   "name": "python",
   "nbconvert_exporter": "python",
   "pygments_lexer": "ipython3",
   "version": "3.10.12"
  }
 },
 "nbformat": 4,
 "nbformat_minor": 2
}
