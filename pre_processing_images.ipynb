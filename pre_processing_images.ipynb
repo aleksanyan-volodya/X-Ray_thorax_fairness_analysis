{
 "cells": [
  {
   "cell_type": "markdown",
   "metadata": {},
   "source": [
    "# **Pre-processing des images**\n",
    "\n",
    "Dans cette partie nous allons nous concentrer sur le pre-traitement des images. \n",
    "\n",
    "Nous essairons de :\n",
    "\n",
    "- \n",
    "- \n",
    "- \n",
    "-"
   ]
  },
  {
   "cell_type": "markdown",
   "metadata": {},
   "source": []
  }
 ],
 "metadata": {
  "language_info": {
   "name": "python"
  }
 },
 "nbformat": 4,
 "nbformat_minor": 2
}
