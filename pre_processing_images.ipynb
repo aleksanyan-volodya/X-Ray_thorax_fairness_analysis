{
 "cells": [
  {
   "cell_type": "markdown",
   "metadata": {},
   "source": [
    "# **Pre-processing des images**\n",
    "\n",
    "Dans cette partie nous allons nous concentrer sur le pre-traitement des images. \n",
    "\n",
    "Nous essairons :  \n",
    "\n",
    "### **1️ Normalisation & Standardisation**  \n",
    "- **Égalisation d'histogramme / CLAHE** : Améliore le contraste des images pour mieux distinguer les structures internes.  \n",
    "\n",
    "- **Filtrage du bruit** : Appliquer un filtre gaussien ou un filtre médian pour réduire le bruit dans les images.  \n",
    "\n",
    "\n",
    "\n",
    "### **2️ Gestion du déséquilibre des classes (âge, sexe, position d'imagerie)**  \n",
    "- **Sur-échantillonnage** : Dupliquer les images des groupes sous-représentés (ex. differents âge, images d'épaule).  \n",
    "\n",
    "- **Sous-échantillonnage** : Réduire le nombre d'images dans les groupes sur-représentés.  \n",
    "- **Pondération des classes** : Ajuster la fonction de perte pour donner plus d'importance aux classes minoritaires.  \n",
    "- **Rotations** : Tourner légèrement les images (ex. ±15°).  "
   ]
  },
  {
   "cell_type": "markdown",
   "metadata": {},
   "source": [
    "## **Les problèmes potentiels qui ont été remarqués**\n",
    "\n",
    "- Les poumons peuvent representer de differente pourcentage sur l'image. (poumouns grand/petit)\n",
    "- position du corps: sur l'épaule ou sur le dos\n",
    "- présence de cables de transfusion, difference physiologique entre homme/femme, vêtements\n",
    "- certaines images sont plus floues que d'autres\n",
    "- présence de caractères/mots spéciale sur le coin de certaines images (souvent bas-droit)\n"
   ]
  },
  {
   "cell_type": "code",
   "execution_count": 1,
   "metadata": {},
   "outputs": [],
   "source": [
    "import image_transformation as it"
   ]
  },
  {
   "cell_type": "code",
   "execution_count": 2,
   "metadata": {},
   "outputs": [],
   "source": [
    "import os"
   ]
  },
  {
   "cell_type": "code",
   "execution_count": 3,
   "metadata": {},
   "outputs": [],
   "source": [
    "paths = ['train/malade', \"train/sain\", 'valid/malade', \"valid/sain\"]"
   ]
  },
  {
   "cell_type": "code",
   "execution_count": null,
   "metadata": {},
   "outputs": [
    {
     "data": {
      "text/plain": [
       "4956"
      ]
     },
     "execution_count": 4,
     "metadata": {},
     "output_type": "execute_result"
    }
   ],
   "source": [
    "sum(len(os.listdir(\"DATASET/\"+path)) for path in paths) # 4956 images"
   ]
  },
  {
   "cell_type": "code",
   "execution_count": null,
   "metadata": {},
   "outputs": [
    {
     "name": "stderr",
     "output_type": "stream",
     "text": [
      "/home/valod/git_repos/X-Ray_thorax_fairness_analysis/image_transformation.py:124: FutureWarning: The behavior of DataFrame concatenation with empty or all-NA entries is deprecated. In a future version, this will no longer exclude empty or all-NA columns when determining the result dtypes. To retain the old behavior, exclude the relevant entries before the concat operation.\n",
      "  df_to = pd.concat([df_to, image_info], ignore_index=True)\n"
     ]
    }
   ],
   "source": [
    "# applay equilization to all dataset\n",
    "paths = ['train/malade', \"train/sain\", 'valid/malade', \"valid/sain\"]\n",
    "\n",
    "for p in paths:\n",
    "    path = f\"clem/{p}\"\n",
    "    for filename in os.listdir(path):\n",
    "        image_path = f\"{path}/{filename}\"\n",
    "        new_image_path = f\"1_{image_path}\"\n",
    "\n",
    "        it.add_new_image(\n",
    "            from_image_path=image_path,\n",
    "            to_image_path=new_image_path,\n",
    "            from_csv_path=\"clem/metadata.csv\",\n",
    "            to_csv_path=\"1_clem/metadata.csv\",\n",
    "            equalize=True\n",
    "        )"
   ]
  }
 ],
 "metadata": {
  "kernelspec": {
   "display_name": "projet-env",
   "language": "python",
   "name": "python3"
  },
  "language_info": {
   "codemirror_mode": {
    "name": "ipython",
    "version": 3
   },
   "file_extension": ".py",
   "mimetype": "text/x-python",
   "name": "python",
   "nbconvert_exporter": "python",
   "pygments_lexer": "ipython3",
   "version": "3.10.12"
  }
 },
 "nbformat": 4,
 "nbformat_minor": 2
}
