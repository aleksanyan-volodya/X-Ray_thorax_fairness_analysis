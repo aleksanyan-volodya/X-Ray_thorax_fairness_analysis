{
    "cells": [
     {
      "cell_type": "code",
      "execution_count": null,
      "metadata": {},
      "outputs": [],
      "source": [
       "import os\n",
       "import pandas as pd\n",
       "data_dir = \"chemin_vers_votre_dossier_NOM_PRENOM\"\n",
       "def add_train_use(data_dir, df=None):\n",
       "    if df is None:\n",
       "        df = pd.read_csv(f\"{data_dir}/metadata.csv\")\n",
       "    train_files = [f for f in os.listdir(f\"{data_dir}/train/malade/\") if f[-4:]=='.png']\n",
       "    train_files.extend(\n",
       "        [f for f in os.listdir(f\"{data_dir}/train/sain/\") if f[-4:]=='.png']\n",
       "    )\n",
       "    valid_files = [f for f in os.listdir(f\"{data_dir}/valid/malade/\") if f[-4:]==\".png\"]\n",
       "    valid_files.extend(\n",
       "        [f for f in os.listdir(f\"{data_dir}/valid/sain/\") if f[-4:]==\".png\"]\n",
       "    )\n",
       "    df[\"train\"] = df[\"Image Index\"].apply(lambda x: x in train_files)\n",
       "    return df"
      ]
     },
     {
      "cell_type": "code",
      "execution_count": 2,
      "metadata": {},
      "outputs": [],
      "source": [
       "import pandas as pd\n",
       "import os\n",
       "import shutil\n",
       "def select_data(data_dir, df=None):\n",
       "    if df is None:\n",
       "        df = pd.read_csv(f\"{data_dir}/metadata.csv\")\n",
       "    patient_ids = df[\"Patient ID\"].unique().tolist()\n",
       "    select_names = []\n",
       "    # We look at each patient individually\n",
       "    for patient in patient_ids:\n",
       "        df_patient = df[df[\"Patient ID\"]==patient]\n",
       "        labels = df_patient[\"Finding Labels\"].unique().tolist()\n",
       "        # We look at all the labels the patients got\n",
       "        # If he got always the same label we select the first row\n",
       "        if len(labels)==1:\n",
       "            select_names.append(df_patient[\"Image Index\"].values[0])\n",
       "        else:\n",
       "        # Else we select the first row with a finding\n",
       "            if \"No Finding\" in labels:\n",
       "                labels.remove(\"No Finding\")\n",
       "            select_names.append(df_patient[df_patient[\"Finding Labels\"]==labels[0]][\"Image Index\"].values[0])\n",
       "    print(len(select_names))\n",
       "\n",
       "    # Create the folders for the selected data\n",
       "    os.mkdir(f\"{data_dir}/selected_data/\")\n",
       "    os.mkdir(f\"{data_dir}/selected_data/train/\")\n",
       "    os.mkdir(f\"{data_dir}/selected_data/train/malade/\")\n",
       "    os.mkdir(f\"{data_dir}/selected_data/train/sain/\")\n",
       "    os.mkdir(f\"{data_dir}/selected_data/valid/\")\n",
       "    os.mkdir(f\"{data_dir}/selected_data/valid/malade/\")\n",
       "    os.mkdir(f\"{data_dir}/selected_data/valid/sain/\")\n",
       "\n",
       "    # Copy only the selected files\n",
       "    train_malade_files = [f for f in os.listdir(f\"{data_dir}/train/malade/\") if f[-4:]=='.png']\n",
       "    train_sain_files = [f for f in os.listdir(f\"{data_dir}/train/sain/\") if f[-4:]=='.png']\n",
       "    valid_malade_files = [f for f in os.listdir(f\"{data_dir}/valid/malade/\") if f[-4:]=='.png']\n",
       "    valid_sain_files = [f for f in os.listdir(f\"{data_dir}/valid/sain/\") if f[-4:]=='.png']\n",
       "    for f in train_malade_files:\n",
       "        if f in select_names:\n",
       "            shutil.copy2(f\"{data_dir}/train/malade/{f}\", f\"{data_dir}/selected_data/train/malade/\")\n",
       "    for f in train_sain_files:\n",
       "        if f in select_names:\n",
       "            shutil.copy2(f\"{data_dir}/train/sain/{f}\", f\"{data_dir}/selected_data/train/sain/\")\n",
       "    for f in valid_malade_files:\n",
       "        if f in select_names:\n",
       "            shutil.copy2(f\"{data_dir}/valid/malade/{f}\", f\"{data_dir}/selected_data/valid/malade/\")\n",
       "    for f in valid_sain_files:\n",
       "        if f in select_names:\n",
       "            shutil.copy2(f\"{data_dir}/valid/sain/{f}\", f\"{data_dir}/selected_data/valid/sain/\")\n",
       "\n",
       "    # Save the sub part of the metadata file\n",
       "    df[df[\"Image Index\"].isin(select_names)].to_csv(f\"{data_dir}/selected_data/metadata.csv\", index=None)"
      ]
     },
     {
      "cell_type": "code",
      "execution_count": null,
      "metadata": {},
      "outputs": [],
      "source": []
     }
    ],
    "metadata": {
     "kernelspec": {
      "display_name": "env_adv",
      "language": "python",
      "name": "python3"
     },
     "language_info": {
      "codemirror_mode": {
       "name": "ipython",
       "version": 3
      },
      "file_extension": ".py",
      "mimetype": "text/x-python",
      "name": "python",
      "nbconvert_exporter": "python",
      "pygments_lexer": "ipython3",
      "version": "3.10.4"
     }
    },
    "nbformat": 4,
    "nbformat_minor": 2
   }