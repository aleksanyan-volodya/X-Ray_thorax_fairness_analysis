{
 "cells": [
  {
   "cell_type": "code",
   "execution_count": 1,
   "metadata": {},
   "outputs": [],
   "source": [
    "import image_transformation as it\n",
    "from PIL import Image\n",
    "import pandas as pd"
   ]
  },
  {
   "cell_type": "code",
   "execution_count": 2,
   "metadata": {},
   "outputs": [],
   "source": [
    "# testing on images in tests/ folder\n",
    "list_of_test = ['00000022_000.png', '00000033_000.png', '00000091_000.png', '00000091_001.png', \n",
    "                '00000213_000.png', '00000231_000.png', '00000831_000.png', '00003894_000.png',]"
   ]
  },
  {
   "cell_type": "code",
   "execution_count": 3,
   "metadata": {},
   "outputs": [],
   "source": [
    "def test_rotate_image(image, angle=90):\n",
    "    image = Image.open('tests/' + image)\n",
    "    rotated_image = it.rotate_image(image, angle)\n",
    "    assert rotated_image.size == image.size\n",
    "    assert rotated_image.mode == image.mode\n",
    "\n",
    "    rotated_image.save('tests/rotated_images/rotated_' + image.filename.split('/')[-1])"
   ]
  },
  {
   "cell_type": "code",
   "execution_count": 4,
   "metadata": {},
   "outputs": [
    {
     "name": "stdout",
     "output_type": "stream",
     "text": [
      "All tests passed\n"
     ]
    }
   ],
   "source": [
    "test_rotate_image(image = list_of_test[0], angle=90)\n",
    "test_rotate_image(image = list_of_test[1], angle=180)\n",
    "print('All tests passed')"
   ]
  },
  {
   "cell_type": "code",
   "execution_count": 5,
   "metadata": {},
   "outputs": [],
   "source": [
    "def test_change_brightness(image, factor=1.5):\n",
    "    image = Image.open('tests/' + image)\n",
    "    brightened_image = it.change_brightness(image, factor)\n",
    "    assert brightened_image.size == image.size\n",
    "    assert brightened_image.mode == image.mode\n",
    "\n",
    "    # save the new image in the folder tests/brightened_images\n",
    "    brightened_image.save('tests/brightened_images/brightened_' + image.filename.split('/')[-1])"
   ]
  },
  {
   "cell_type": "code",
   "execution_count": 6,
   "metadata": {},
   "outputs": [],
   "source": [
    "def test_noise(image, factor=50):\n",
    "    image = Image.open('tests/' + image)\n",
    "    noisy_image = it.add_noise(image, factor)\n",
    "    assert noisy_image.size == image.size\n",
    "    assert noisy_image.mode == image.mode\n",
    "\n",
    "    # save the new image in the folder tests/noisy_images\n",
    "    noisy_image.save('tests/noisy_images/noisy_' + image.filename.split('/')[-1])"
   ]
  },
  {
   "cell_type": "code",
   "execution_count": 7,
   "metadata": {},
   "outputs": [],
   "source": [
    "def test_blur(image, factor=5):\n",
    "    image = Image.open('tests/' + image)\n",
    "    blurred_image = it.add_blur(image, factor)\n",
    "    assert blurred_image.size == image.size\n",
    "    assert blurred_image.mode == image.mode\n",
    "\n",
    "    # save the new image in the folder tests/blurred_images\n",
    "    blurred_image.save('tests/blurred_images/blurred_' + image.filename.split('/')[-1])"
   ]
  },
  {
   "cell_type": "code",
   "execution_count": 8,
   "metadata": {},
   "outputs": [
    {
     "name": "stdout",
     "output_type": "stream",
     "text": [
      "All tests passed\n"
     ]
    }
   ],
   "source": [
    "test_change_brightness(image = list_of_test[0], factor=1.5)\n",
    "test_change_brightness(image= list_of_test[1], factor=0.5)\n",
    "test_change_brightness(image = list_of_test[2], factor=0.1)\n",
    "test_noise(image = list_of_test[2], factor=50)\n",
    "test_noise(image = list_of_test[3], factor=100)\n",
    "test_noise(image = list_of_test[4], factor=200)\n",
    "test_blur(image = list_of_test[3], factor=5)\n",
    "test_blur(image = list_of_test[0], factor=5)\n",
    "test_blur(image = list_of_test[1], factor=10)\n",
    "print('All tests passed')\n"
   ]
  },
  {
   "cell_type": "code",
   "execution_count": 9,
   "metadata": {},
   "outputs": [],
   "source": [
    "def test_add_new_image(from_image_path: str, from_csv_path: str, rotation: int = 0, brightness: float = 1.0, noise: float = 0.0, blur: float = 0.0, equalize: bool = False) -> None:\n",
    "    it.add_new_image(from_image_path, from_csv_path, rotation=rotation, brightness=brightness, noise=noise, blur=blur, equalize=equalize)\n",
    "    df = pd.read_csv(from_csv_path)\n",
    "    #assert df[df['Image Index'].str.contains(from_image_path[:-3])].shape[0] > 0\n",
    "\n",
    "def test_remove_transformed_data(csv_path: str) -> None:\n",
    "    # remove the transformed images from the csv\n",
    "    assert it.remove_transformed_data(csv_path) == 0"
   ]
  },
  {
   "cell_type": "code",
   "execution_count": 10,
   "metadata": {},
   "outputs": [],
   "source": [
    "test_add_new_image(from_image_path='tests/' + list_of_test[0], from_csv_path='tests/test.csv', rotation=90, brightness=1.5, noise=50, blur=5)\n",
    "test_add_new_image(from_image_path='tests/' + list_of_test[1], from_csv_path='tests/test.csv', rotation=180, brightness=0.5, noise=100, blur=10)\n",
    "test_add_new_image(from_image_path='tests/' + list_of_test[2], from_csv_path='tests/test.csv', rotation=270, brightness=0.1, noise=200, blur=15)\n",
    "test_add_new_image(from_image_path='tests/' + list_of_test[3], from_csv_path='tests/test.csv', rotation=90, brightness=1.5, noise=50, blur=5)\n",
    "test_add_new_image(from_image_path='tests/' + list_of_test[4], from_csv_path='tests/test.csv', rotation=180, brightness=0.5, noise=100, blur=10)\n",
    "test_add_new_image(from_image_path='tests/' + list_of_test[5], from_csv_path='tests/test.csv', rotation=270, brightness=0.1, noise=200, blur=15)\n",
    "test_add_new_image(from_image_path='tests/' + list_of_test[6], from_csv_path='tests/test.csv', rotation=90, brightness=1.5, noise=50, blur=5)\n",
    "test_add_new_image(from_image_path='tests/' + list_of_test[7], from_csv_path='tests/test.csv', rotation=180, brightness=0.5, noise=100, blur=10)"
   ]
  },
  {
   "cell_type": "code",
   "execution_count": 11,
   "metadata": {},
   "outputs": [],
   "source": [
    "test_remove_transformed_data(csv_path='tests/test.csv')"
   ]
  },
  {
   "cell_type": "code",
   "execution_count": null,
   "metadata": {},
   "outputs": [],
   "source": []
  }
 ],
 "metadata": {
  "kernelspec": {
   "display_name": "projet-env",
   "language": "python",
   "name": "python3"
  },
  "language_info": {
   "codemirror_mode": {
    "name": "ipython",
    "version": 3
   },
   "file_extension": ".py",
   "mimetype": "text/x-python",
   "name": "python",
   "nbconvert_exporter": "python",
   "pygments_lexer": "ipython3",
   "version": "3.10.12"
  }
 },
 "nbformat": 4,
 "nbformat_minor": 2
}
