{
 "cells": [
  {
   "cell_type": "code",
   "execution_count": 1,
   "metadata": {},
   "outputs": [],
   "source": [
    "import image_transformation as it\n",
    "from PIL import Image\n",
    "import pandas as pd"
   ]
  },
  {
   "cell_type": "code",
   "execution_count": 2,
   "metadata": {},
   "outputs": [],
   "source": [
    "# testing on images in tests/ folder\n",
    "list_of_test = ['00000022_000.png', '00000033_000.png', '00000091_000.png', '00000091_001.png', \n",
    "                '00000213_000.png', '00000231_000.png', '00000831_000.png', '00003894_000.png',]"
   ]
  },
  {
   "cell_type": "code",
   "execution_count": 3,
   "metadata": {},
   "outputs": [],
   "source": [
    "def test_rotate_image(image, angle=90):\n",
    "    image = Image.open('tests/' + image)\n",
    "    rotated_image = it.rotate_image(image, angle)\n",
    "    assert rotated_image.size == image.size\n",
    "    assert rotated_image.mode == image.mode\n",
    "\n",
    "    rotated_image.save('tests/rotated_images/rotated_' + image.filename.split('/')[-1])"
   ]
  },
  {
   "cell_type": "code",
   "execution_count": 4,
   "metadata": {},
   "outputs": [
    {
     "name": "stdout",
     "output_type": "stream",
     "text": [
      "All tests passed\n"
     ]
    }
   ],
   "source": [
    "test_rotate_image(image = list_of_test[0], angle=90)\n",
    "test_rotate_image(image = list_of_test[1], angle=180)\n",
    "print('All tests passed')"
   ]
  },
  {
   "cell_type": "code",
   "execution_count": 5,
   "metadata": {},
   "outputs": [],
   "source": [
    "def test_change_brightness(image, factor=1.5):\n",
    "    image = Image.open('tests/' + image)\n",
    "    brightened_image = it.change_brightness(image, factor)\n",
    "    assert brightened_image.size == image.size\n",
    "    assert brightened_image.mode == image.mode\n",
    "\n",
    "    # save the new image in the folder tests/brightened_images\n",
    "    brightened_image.save('tests/brightened_images/brightened_' + image.filename.split('/')[-1])"
   ]
  },
  {
   "cell_type": "code",
   "execution_count": 6,
   "metadata": {},
   "outputs": [],
   "source": [
    "def test_noise(image, factor=50):\n",
    "    image = Image.open('tests/' + image)\n",
    "    noisy_image = it.add_noise(image, factor)\n",
    "    assert noisy_image.size == image.size\n",
    "    assert noisy_image.mode == image.mode\n",
    "\n",
    "    # save the new image in the folder tests/noisy_images\n",
    "    noisy_image.save('tests/noisy_images/noisy_' + image.filename.split('/')[-1])"
   ]
  },
  {
   "cell_type": "code",
   "execution_count": 7,
   "metadata": {},
   "outputs": [],
   "source": [
    "def test_blur(image, factor=5):\n",
    "    image = Image.open('tests/' + image)\n",
    "    blurred_image = it.add_blur(image, factor)\n",
    "    assert blurred_image.size == image.size\n",
    "    assert blurred_image.mode == image.mode\n",
    "\n",
    "    # save the new image in the folder tests/blurred_images\n",
    "    blurred_image.save('tests/blurred_images/blurred_' + image.filename.split('/')[-1])"
   ]
  },
  {
   "cell_type": "code",
   "execution_count": 8,
   "metadata": {},
   "outputs": [
    {
     "name": "stdout",
     "output_type": "stream",
     "text": [
      "All tests passed\n"
     ]
    }
   ],
   "source": [
    "test_change_brightness(image = list_of_test[0], factor=1.5)\n",
    "test_change_brightness(image= list_of_test[1], factor=0.5)\n",
    "test_change_brightness(image = list_of_test[2], factor=0.1)\n",
    "test_noise(image = list_of_test[2], factor=50)\n",
    "test_noise(image = list_of_test[3], factor=100)\n",
    "test_noise(image = list_of_test[4], factor=200)\n",
    "test_blur(image = list_of_test[3], factor=5)\n",
    "test_blur(image = list_of_test[0], factor=5)\n",
    "test_blur(image = list_of_test[1], factor=10)\n",
    "print('All tests passed')\n"
   ]
  },
  {
   "cell_type": "code",
   "execution_count": 9,
   "metadata": {},
   "outputs": [],
   "source": [
    "def test_add_new_image(from_image_path: str, from_csv_path: str, rotation: int = 0, brightness: float = 1.0, noise: float = 0.0, blur: float = 0.0, equalize: bool = False) -> None:\n",
    "    it.add_new_image(from_image_path, from_csv_path, rotation=rotation, brightness=brightness, noise=noise, blur=blur, equalize=equalize)\n",
    "    df = pd.read_csv(from_csv_path)\n",
    "    assert df[df['Image Index'].str.contains(from_image_path[:-3])].shape[0] > 0\n",
    "\n",
    "def test_remove_transformed_data(csv_path: str) -> None:\n",
    "    # remove the transformed images from the csv\n",
    "    assert it.remove_transformed_data(csv_path) == 0"
   ]
  },
  {
   "cell_type": "code",
   "execution_count": 11,
   "metadata": {},
   "outputs": [
    {
     "ename": "AssertionError",
     "evalue": "",
     "output_type": "error",
     "traceback": [
      "\u001b[0;31m---------------------------------------------------------------------------\u001b[0m",
      "\u001b[0;31mAssertionError\u001b[0m                            Traceback (most recent call last)",
      "Cell \u001b[0;32mIn[11], line 1\u001b[0m\n\u001b[0;32m----> 1\u001b[0m \u001b[43mtest_add_new_image\u001b[49m\u001b[43m(\u001b[49m\u001b[43mfrom_image_path\u001b[49m\u001b[38;5;241;43m=\u001b[39;49m\u001b[38;5;124;43m'\u001b[39;49m\u001b[38;5;124;43mtests/\u001b[39;49m\u001b[38;5;124;43m'\u001b[39;49m\u001b[43m \u001b[49m\u001b[38;5;241;43m+\u001b[39;49m\u001b[43m \u001b[49m\u001b[43mlist_of_test\u001b[49m\u001b[43m[\u001b[49m\u001b[38;5;241;43m0\u001b[39;49m\u001b[43m]\u001b[49m\u001b[43m,\u001b[49m\u001b[43m \u001b[49m\u001b[43mfrom_csv_path\u001b[49m\u001b[38;5;241;43m=\u001b[39;49m\u001b[38;5;124;43m'\u001b[39;49m\u001b[38;5;124;43mtests/test.csv\u001b[39;49m\u001b[38;5;124;43m'\u001b[39;49m\u001b[43m,\u001b[49m\u001b[43m \u001b[49m\u001b[43mrotation\u001b[49m\u001b[38;5;241;43m=\u001b[39;49m\u001b[38;5;241;43m90\u001b[39;49m\u001b[43m,\u001b[49m\u001b[43m \u001b[49m\u001b[43mbrightness\u001b[49m\u001b[38;5;241;43m=\u001b[39;49m\u001b[38;5;241;43m1.5\u001b[39;49m\u001b[43m,\u001b[49m\u001b[43m \u001b[49m\u001b[43mnoise\u001b[49m\u001b[38;5;241;43m=\u001b[39;49m\u001b[38;5;241;43m50\u001b[39;49m\u001b[43m,\u001b[49m\u001b[43m \u001b[49m\u001b[43mblur\u001b[49m\u001b[38;5;241;43m=\u001b[39;49m\u001b[38;5;241;43m5\u001b[39;49m\u001b[43m)\u001b[49m\n\u001b[1;32m      2\u001b[0m test_add_new_image(from_image_path\u001b[38;5;241m=\u001b[39m\u001b[38;5;124m'\u001b[39m\u001b[38;5;124mtests/\u001b[39m\u001b[38;5;124m'\u001b[39m \u001b[38;5;241m+\u001b[39m list_of_test[\u001b[38;5;241m1\u001b[39m], from_csv_path\u001b[38;5;241m=\u001b[39m\u001b[38;5;124m'\u001b[39m\u001b[38;5;124mtests/test.csv\u001b[39m\u001b[38;5;124m'\u001b[39m, rotation\u001b[38;5;241m=\u001b[39m\u001b[38;5;241m180\u001b[39m, brightness\u001b[38;5;241m=\u001b[39m\u001b[38;5;241m0.5\u001b[39m, noise\u001b[38;5;241m=\u001b[39m\u001b[38;5;241m100\u001b[39m, blur\u001b[38;5;241m=\u001b[39m\u001b[38;5;241m10\u001b[39m)\n\u001b[1;32m      3\u001b[0m test_add_new_image(from_image_path\u001b[38;5;241m=\u001b[39m\u001b[38;5;124m'\u001b[39m\u001b[38;5;124mtests/\u001b[39m\u001b[38;5;124m'\u001b[39m \u001b[38;5;241m+\u001b[39m list_of_test[\u001b[38;5;241m2\u001b[39m], from_csv_path\u001b[38;5;241m=\u001b[39m\u001b[38;5;124m'\u001b[39m\u001b[38;5;124mtests/test.csv\u001b[39m\u001b[38;5;124m'\u001b[39m, rotation\u001b[38;5;241m=\u001b[39m\u001b[38;5;241m270\u001b[39m, brightness\u001b[38;5;241m=\u001b[39m\u001b[38;5;241m0.1\u001b[39m, noise\u001b[38;5;241m=\u001b[39m\u001b[38;5;241m200\u001b[39m, blur\u001b[38;5;241m=\u001b[39m\u001b[38;5;241m15\u001b[39m)\n",
      "Cell \u001b[0;32mIn[9], line 4\u001b[0m, in \u001b[0;36mtest_add_new_image\u001b[0;34m(from_image_path, from_csv_path, rotation, brightness, noise, blur, equalize)\u001b[0m\n\u001b[1;32m      2\u001b[0m it\u001b[38;5;241m.\u001b[39madd_new_image(from_image_path, from_csv_path, rotation\u001b[38;5;241m=\u001b[39mrotation, brightness\u001b[38;5;241m=\u001b[39mbrightness, noise\u001b[38;5;241m=\u001b[39mnoise, blur\u001b[38;5;241m=\u001b[39mblur, equalize\u001b[38;5;241m=\u001b[39mequalize)\n\u001b[1;32m      3\u001b[0m df \u001b[38;5;241m=\u001b[39m pd\u001b[38;5;241m.\u001b[39mread_csv(from_csv_path)\n\u001b[0;32m----> 4\u001b[0m \u001b[38;5;28;01massert\u001b[39;00m df[df[\u001b[38;5;124m'\u001b[39m\u001b[38;5;124mImage Index\u001b[39m\u001b[38;5;124m'\u001b[39m]\u001b[38;5;241m.\u001b[39mstr\u001b[38;5;241m.\u001b[39mcontains(from_image_path[:\u001b[38;5;241m-\u001b[39m\u001b[38;5;241m3\u001b[39m])]\u001b[38;5;241m.\u001b[39mshape[\u001b[38;5;241m0\u001b[39m] \u001b[38;5;241m>\u001b[39m \u001b[38;5;241m0\u001b[39m\n",
      "\u001b[0;31mAssertionError\u001b[0m: "
     ]
    }
   ],
   "source": [
    "test_add_new_image(from_image_path='tests/' + list_of_test[0], from_csv_path='tests/test.csv', rotation=90, brightness=1.5, noise=50, blur=5)\n",
    "test_add_new_image(from_image_path='tests/' + list_of_test[1], from_csv_path='tests/test.csv', rotation=180, brightness=0.5, noise=100, blur=10)\n",
    "test_add_new_image(from_image_path='tests/' + list_of_test[2], from_csv_path='tests/test.csv', rotation=270, brightness=0.1, noise=200, blur=15)\n",
    "test_add_new_image(from_image_path='tests/' + list_of_test[3], from_csv_path='tests/test.csv', rotation=90, brightness=1.5, noise=50, blur=5)\n",
    "test_add_new_image(from_image_path='tests/' + list_of_test[4], from_csv_path='tests/test.csv', rotation=180, brightness=0.5, noise=100, blur=10)\n",
    "test_add_new_image(from_image_path='tests/' + list_of_test[5], from_csv_path='tests/test.csv', rotation=270, brightness=0.1, noise=200, blur=15)\n",
    "test_add_new_image(from_image_path='tests/' + list_of_test[6], from_csv_path='tests/test.csv', rotation=90, brightness=1.5, noise=50, blur=5)\n",
    "test_add_new_image(from_image_path='tests/' + list_of_test[7], from_csv_path='tests/test.csv', rotation=180, brightness=0.5, noise=100, blur=10)"
   ]
  },
  {
   "cell_type": "code",
   "execution_count": null,
   "metadata": {},
   "outputs": [],
   "source": [
    "test_remove_transformed_data(csv_path='tests/test.csv')"
   ]
  },
  {
   "cell_type": "code",
   "execution_count": null,
   "metadata": {},
   "outputs": [],
   "source": []
  }
 ],
 "metadata": {
  "kernelspec": {
   "display_name": "projet-env",
   "language": "python",
   "name": "python3"
  },
  "language_info": {
   "codemirror_mode": {
    "name": "ipython",
    "version": 3
   },
   "file_extension": ".py",
   "mimetype": "text/x-python",
   "name": "python",
   "nbconvert_exporter": "python",
   "pygments_lexer": "ipython3",
   "version": "3.10.12"
  }
 },
 "nbformat": 4,
 "nbformat_minor": 2
}
