{
 "cells": [
  {
   "cell_type": "code",
   "execution_count": 41,
   "metadata": {},
   "outputs": [],
   "source": [
    "import image_transformation as it\n",
    "import pandas as pd\n",
    "from time import time\n",
    "import matplotlib.pyplot as plt\n",
    "from PIL import Image, ImageEnhance, ImageFilter\n",
    "import numpy as np"
   ]
  },
  {
   "cell_type": "code",
   "execution_count": 51,
   "metadata": {},
   "outputs": [],
   "source": [
    "# testing on images in tests/ folder\n",
    "list_of_test = ['00000022_000.png', '00000033_000.png', '00000091_000.png', '00000091_001.png', \n",
    "                '00000213_000.png', '00000231_000.png', '00000831_000.png', '00003894_000.png',]"
   ]
  },
  {
   "cell_type": "code",
   "execution_count": null,
   "metadata": {},
   "outputs": [],
   "source": [
    "\n",
    "def rotate_image(image: Image, angle: int) -> Image:\n",
    "    \"\"\"\n",
    "    Rotate an image by a given angle\n",
    "    :param image: PIL image\n",
    "    :param angle: int\n",
    "    :return: PIL image\n",
    "    \"\"\"\n",
    "    return image.rotate(angle)\n",
    "\n",
    "def change_brightness(image: Image, factor: float) -> Image:\n",
    "    \"\"\"\n",
    "    Change the brightness of an image\n",
    "    :param image: PIL image\n",
    "    :param factor: float ]\n",
    "    :return: PIL image\n",
    "    \"\"\"\n",
    "    enhancer = ImageEnhance.Brightness(image)\n",
    "    return enhancer.enhance(factor)\n",
    "\n",
    "def add_noise(image: Image, factor: float) -> Image:\n",
    "    \"\"\"\n",
    "    Add noise to an image\n",
    "    :param image: PIL image\n",
    "    :param factor: float\n",
    "    :return: PIL image\n",
    "    \"\"\"\n",
    "    np_image = np.array(image)\n",
    "    noise = np.random.normal(0, factor, np_image.shape)\n",
    "    noisy_image = np_image + noise\n",
    "    noisy_image_clipped = np.clip(noisy_image, 0, 255)\n",
    "    return Image.fromarray(noisy_image_clipped.astype(np.uint8))\n",
    "\n",
    "\n",
    "def add_blur(image: Image, factor: float) -> Image:\n",
    "    \"\"\"\n",
    "    Add blur to an image\n",
    "    :param image: PIL image\n",
    "    :param factor: float\n",
    "    :return: PIL image\n",
    "    \"\"\"\n",
    "    return image.filter(ImageFilter.GaussianBlur(factor))\n",
    "\n",
    "def transform_image(image: Image, rotation: int, brightness: float, noise: float, blur: float) -> Image:\n",
    "    \"\"\"\n",
    "    Transform an image by applying rotation, brightness, saturation, noise and blur\n",
    "    :param image: PIL image\n",
    "    :param rotation: int\n",
    "    :param brightness: float\n",
    "    :param noise: float\n",
    "    :param blur: float\n",
    "    :return: PIL image\n",
    "    \"\"\"\n",
    "    image = rotate_image(image, rotation)\n",
    "    image = change_brightness(image, brightness)\n",
    "    image = add_noise(image, noise)\n",
    "    image = add_blur(image, blur)\n",
    "    return image\n",
    "\n",
    "# add the transformed image to the dataset\n",
    "# add in csv the image with same metadata but with the new path\n",
    "def add_transformed_image(image_path: str, transformed_image_path: str, rotation: int, brightness: float, noise: float, blur: float) -> None:\n",
    "    \"\"\"\n",
    "    Add a transformed image to the dataset\n",
    "    :param image_path: str\n",
    "    :param transformed_image_path: str\n",
    "    :param rotation: int\n",
    "    :param brightness: float\n",
    "    :param noise: float\n",
    "    :param blur: float\n",
    "    :return: None\n",
    "    \"\"\"\n",
    "    image = Image.open(image_path)\n",
    "    transformed_image = transform_image(image, rotation, brightness, noise, blur)\n",
    "    transformed_image.save(transformed_image_path)\n",
    "\n",
    "def add_transformed_image_to_csv(csv_path: str, image_path: str, transformed_image_path: str, rotation: int, brightness: float, noise: float, blur: float) -> None:\n",
    "    \"\"\"\n",
    "    Add a transformed image to the dataset\n",
    "    :param csv_path: str\n",
    "    :param image_path: str\n",
    "    :param transformed_image_path: str\n",
    "    :param rotation: int\n",
    "    :param brightness: float\"\n",
    "    \"\"\"\n",
    "    # TODO: add the transformed image to the dataset\n",
    "    return None\n"
   ]
  },
  {
   "cell_type": "code",
   "execution_count": 53,
   "metadata": {},
   "outputs": [],
   "source": [
    "def test_rotate_image(image, angle=90):\n",
    "    image = Image.open('tests/' + image)\n",
    "    rotated_image = it.rotate_image(image, angle)\n",
    "    assert rotated_image.size == image.size\n",
    "    assert rotated_image.mode == image.mode\n",
    "\n",
    "    # save the new image in the folder tests/rotated_images\n",
    "    rotated_image.save('tests/rotated_images/rotated_' + image.filename.split('/')[-1])"
   ]
  },
  {
   "cell_type": "code",
   "execution_count": 54,
   "metadata": {},
   "outputs": [
    {
     "name": "stdout",
     "output_type": "stream",
     "text": [
      "All tests passed\n"
     ]
    }
   ],
   "source": [
    "test_rotate_image(image = list_of_test[0], angle=90)\n",
    "test_rotate_image(image = list_of_test[1], angle=180)\n",
    "print('All tests passed')"
   ]
  },
  {
   "cell_type": "code",
   "execution_count": 55,
   "metadata": {},
   "outputs": [],
   "source": [
    "def test_change_brightness(image, factor=1.5):\n",
    "    image = Image.open('tests/' + image)\n",
    "    brightened_image = change_brightness(image, factor)\n",
    "    assert brightened_image.size == image.size\n",
    "    assert brightened_image.mode == image.mode\n",
    "\n",
    "    # save the new image in the folder tests/brightened_images\n",
    "    brightened_image.save('tests/brightened_images/brightened_' + image.filename.split('/')[-1])"
   ]
  },
  {
   "cell_type": "code",
   "execution_count": 57,
   "metadata": {},
   "outputs": [],
   "source": [
    "def test_noise(image, factor=50):\n",
    "    image = Image.open('tests/' + image)\n",
    "    noisy_image = add_noise(image, factor)\n",
    "    assert noisy_image.size == image.size\n",
    "    assert noisy_image.mode == image.mode\n",
    "\n",
    "    # save the new image in the folder tests/noisy_images\n",
    "    noisy_image.save('tests/noisy_images/noisy_' + image.filename.split('/')[-1])"
   ]
  },
  {
   "cell_type": "code",
   "execution_count": 58,
   "metadata": {},
   "outputs": [],
   "source": [
    "def test_blur(image, factor=5):\n",
    "    image = Image.open('tests/' + image)\n",
    "    blurred_image = add_blur(image, factor)\n",
    "    assert blurred_image.size == image.size\n",
    "    assert blurred_image.mode == image.mode\n",
    "\n",
    "    # save the new image in the folder tests/blurred_images\n",
    "    blurred_image.save('tests/blurred_images/blurred_' + image.filename.split('/')[-1])"
   ]
  },
  {
   "cell_type": "code",
   "execution_count": 61,
   "metadata": {},
   "outputs": [
    {
     "name": "stdout",
     "output_type": "stream",
     "text": [
      "All tests passed\n"
     ]
    }
   ],
   "source": [
    "test_change_brightness(image = list_of_test[0], factor=1.5)\n",
    "test_change_brightness(image= list_of_test[1], factor=0.5)\n",
    "test_change_brightness(image = list_of_test[2], factor=0.1)\n",
    "test_noise(image = list_of_test[2], factor=50)\n",
    "test_noise(image = list_of_test[3], factor=100)\n",
    "test_noise(image = list_of_test[4], factor=200)\n",
    "test_blur(image = list_of_test[3], factor=5)\n",
    "test_blur(image = list_of_test[0], factor=5)\n",
    "test_blur(image = list_of_test[1], factor=10)\n",
    "print('All tests passed')\n"
   ]
  },
  {
   "cell_type": "code",
   "execution_count": null,
   "metadata": {},
   "outputs": [],
   "source": []
  },
  {
   "cell_type": "code",
   "execution_count": null,
   "metadata": {},
   "outputs": [],
   "source": []
  }
 ],
 "metadata": {
  "kernelspec": {
   "display_name": "projet-env",
   "language": "python",
   "name": "python3"
  },
  "language_info": {
   "codemirror_mode": {
    "name": "ipython",
    "version": 3
   },
   "file_extension": ".py",
   "mimetype": "text/x-python",
   "name": "python",
   "nbconvert_exporter": "python",
   "pygments_lexer": "ipython3",
   "version": "3.10.12"
  }
 },
 "nbformat": 4,
 "nbformat_minor": 2
}
