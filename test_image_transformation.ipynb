{
 "cells": [
  {
   "cell_type": "code",
   "execution_count": 38,
   "metadata": {},
   "outputs": [],
   "source": [
    "import image_transformation as it\n",
    "import pandas as pd\n",
    "from time import time\n",
    "import matplotlib.pyplot as plt\n",
    "from PIL import Image, ImageEnhance, ImageFilter\n",
    "import numpy as np"
   ]
  },
  {
   "cell_type": "code",
   "execution_count": 39,
   "metadata": {},
   "outputs": [],
   "source": [
    "# testing on images in tests/ folder\n",
    "list_of_test = ['00000022_000.png', '00000033_000.png', '00000091_000.png', '00000091_001.png', \n",
    "                '00000213_000.png', '00000231_000.png', '00000831_000.png', '00003894_000.png',]"
   ]
  },
  {
   "cell_type": "code",
   "execution_count": 40,
   "metadata": {},
   "outputs": [],
   "source": [
    "\n",
    "def rotate_image(image: Image, angle: int) -> Image:\n",
    "    \"\"\"\n",
    "    Rotate an image by a given angle\n",
    "    :param image: PIL image\n",
    "    :param angle: int\n",
    "    :return: PIL image\n",
    "    \"\"\"\n",
    "    return image.rotate(angle)\n",
    "\n",
    "def change_brightness(image: Image, factor: float) -> Image:\n",
    "    \"\"\"\n",
    "    Change the brightness of an image\n",
    "    :param image: PIL image\n",
    "    :param factor: float ]\n",
    "    :return: PIL image\n",
    "    \"\"\"\n",
    "    enhancer = ImageEnhance.Brightness(image)\n",
    "    return enhancer.enhance(factor)\n",
    "\n",
    "def add_noise(image: Image, factor: float) -> Image:\n",
    "    \"\"\"\n",
    "    Add noise to an image\n",
    "    :param image: PIL image\n",
    "    :param factor: float\n",
    "    :return: PIL image\n",
    "    \"\"\"\n",
    "    np_image = np.array(image)\n",
    "    noise = np.random.normal(0, factor, np_image.shape)\n",
    "    noisy_image = np_image + noise\n",
    "    noisy_image_clipped = np.clip(noisy_image, 0, 255)\n",
    "    return Image.fromarray(noisy_image_clipped.astype(np.uint8))\n",
    "\n",
    "\n",
    "def add_blur(image: Image, factor: float) -> Image:\n",
    "    \"\"\"\n",
    "    Add blur to an image\n",
    "    :param image: PIL image\n",
    "    :param factor: float\n",
    "    :return: PIL image\n",
    "    \"\"\"\n",
    "    return image.filter(ImageFilter.GaussianBlur(factor))\n",
    "\n",
    "def transform_image(image: Image, rotation: int = 0, brightness: float = 1.0, noise: float = 0.0, blur: float = 0.0) -> Image:\n",
    "    \"\"\"\n",
    "    Transform an image by applying rotation, brightness, saturation, noise and blur\n",
    "    :param image: PIL image\n",
    "    :param rotation: int\n",
    "    :param brightness: float\n",
    "    :param noise: float\n",
    "    :param blur: float\n",
    "    :return: PIL image\n",
    "    \"\"\"\n",
    "    image = rotate_image(image, rotation)\n",
    "    image = change_brightness(image, brightness)\n",
    "    image = add_noise(image, noise)\n",
    "    image = add_blur(image, blur)\n",
    "    return image"
   ]
  },
  {
   "cell_type": "code",
   "execution_count": 41,
   "metadata": {},
   "outputs": [],
   "source": [
    "def create_transformed_image(image_path: str, transformed_image_path: str, rotation: int = 0, brightness: float = 1.0, noise: float = 0.0, blur: float = 0.0) -> None:\n",
    "    \"\"\"\n",
    "    Add a transformed image to the dataset\n",
    "    :param image_path: str\n",
    "    :param transformed_image_path: str\n",
    "    optional parameters\n",
    "    :param rotation: int\n",
    "    :param brightness: float\n",
    "    :param noise: float\n",
    "    :param blur: float\n",
    "    :return: None\n",
    "    \"\"\"\n",
    "    image = Image.open(image_path)\n",
    "    transformed_image = transform_image(image, rotation, brightness, noise, blur)\n",
    "    transformed_image.save(transformed_image_path)\n",
    "\n",
    "def add_transformed_image_to_csv(csv_path: str, image_index: str, transformed_image_index: str) -> None:\n",
    "    \"\"\"\n",
    "    Add a transformed image to the dataset\n",
    "    :param csv_path: str\n",
    "    :param image_index: str\n",
    "    :param transformed_image_index: str\n",
    "    \"\"\"\n",
    "    \n",
    "    df = pd.read_csv(csv_path)\n",
    "    image_info = df[df['Image Index'] == image_index].copy()\n",
    "    image_info['Image Index'] = transformed_image_index\n",
    "\n",
    "    # add the new image to the end of the csv\n",
    "    df = pd.concat([df, image_info], ignore_index=True)\n",
    "    df.to_csv(csv_path, index=False)\n",
    "\n",
    "def add_new_image(image_path: str, csv_path: str, rotation: int = 0, brightness: float = 1.0, noise: float = 0.0, blur: float = 0.0) -> None:\n",
    "    \"\"\"\n",
    "    Add a new image to the dataset\n",
    "    :param image_path: str\n",
    "    :param csv_path: str\n",
    "    oprional parameters\n",
    "    :param rotation: int\n",
    "    :param brightness: float\n",
    "    :param noise: float\n",
    "    :param blur: float\n",
    "    :return: None\n",
    "    \"\"\"\n",
    "    params_string = f\"r{rotation}_b{brightness}_n{noise}_bl{blur}\"\n",
    "\n",
    "    splited_list = image_path.split('/')\n",
    "    path, image_index = splited_list[:-1], splited_list[-1]\n",
    "    path = '/'.join(path)\n",
    "    \n",
    "    transformed_image_path = f\"{path}/{image_index[:-4]}_{params_string}_transformed.png\"\n",
    "\n",
    "    create_transformed_image(image_path, transformed_image_path, rotation, brightness, noise, blur)\n",
    "    add_transformed_image_to_csv(csv_path, image_index, transformed_image_path)"
   ]
  },
  {
   "cell_type": "code",
   "execution_count": 64,
   "metadata": {},
   "outputs": [],
   "source": [
    "import os\n",
    "\n",
    "def remove_image(image_path: str) -> None:\n",
    "    \"\"\"\n",
    "    Remove an image from the dataset without using it\n",
    "    :param image_path: str\n",
    "    :return: None\n",
    "    \"\"\"\n",
    "    if os.path.exists(image_path):\n",
    "        os.remove(image_path)\n",
    "    else:\n",
    "        raise FileNotFoundError(f\"Image {image_path} not found\")\n",
    "\n",
    "\n",
    "def remove_transformed_data(csv_path: str) -> int:\n",
    "    \"\"\"\n",
    "    Remove a transformed image from the dataset\n",
    "    :param csv_path: str\n",
    "    :return: number of transformed images remaining\n",
    "    \"\"\"\n",
    "\n",
    "    df = pd.read_csv(csv_path)\n",
    "    df_transformed = df[df['Image Index'].str.contains('_transformed.png')]\n",
    "\n",
    "    for index, row in df_transformed.iterrows():\n",
    "        transform_image_path = row['Image Index']\n",
    "        try:\n",
    "            remove_image(transform_image_path)\n",
    "            df = df.drop(index)\n",
    "            \"ok\"\n",
    "        except Exception as e:\n",
    "            print(f\"Error removing image {transform_image_path}: {e}\")\n",
    "\n",
    "    df.to_csv(csv_path, index=False)\n",
    "    \n",
    "    return len(df[df['Image Index'].str.contains('_transformed.png')])"
   ]
  },
  {
   "cell_type": "code",
   "execution_count": 43,
   "metadata": {},
   "outputs": [],
   "source": [
    "def test_rotate_image(image, angle=90):\n",
    "    image = Image.open('tests/' + image)\n",
    "    rotated_image = it.rotate_image(image, angle)\n",
    "    assert rotated_image.size == image.size\n",
    "    assert rotated_image.mode == image.mode\n",
    "\n",
    "    rotated_image.save('tests/rotated_images/rotated_' + image.filename.split('/')[-1])"
   ]
  },
  {
   "cell_type": "code",
   "execution_count": 44,
   "metadata": {},
   "outputs": [
    {
     "name": "stdout",
     "output_type": "stream",
     "text": [
      "All tests passed\n"
     ]
    }
   ],
   "source": [
    "test_rotate_image(image = list_of_test[0], angle=90)\n",
    "test_rotate_image(image = list_of_test[1], angle=180)\n",
    "print('All tests passed')"
   ]
  },
  {
   "cell_type": "code",
   "execution_count": 45,
   "metadata": {},
   "outputs": [],
   "source": [
    "def test_change_brightness(image, factor=1.5):\n",
    "    image = Image.open('tests/' + image)\n",
    "    brightened_image = change_brightness(image, factor)\n",
    "    assert brightened_image.size == image.size\n",
    "    assert brightened_image.mode == image.mode\n",
    "\n",
    "    # save the new image in the folder tests/brightened_images\n",
    "    brightened_image.save('tests/brightened_images/brightened_' + image.filename.split('/')[-1])"
   ]
  },
  {
   "cell_type": "code",
   "execution_count": 46,
   "metadata": {},
   "outputs": [],
   "source": [
    "def test_noise(image, factor=50):\n",
    "    image = Image.open('tests/' + image)\n",
    "    noisy_image = add_noise(image, factor)\n",
    "    assert noisy_image.size == image.size\n",
    "    assert noisy_image.mode == image.mode\n",
    "\n",
    "    # save the new image in the folder tests/noisy_images\n",
    "    noisy_image.save('tests/noisy_images/noisy_' + image.filename.split('/')[-1])"
   ]
  },
  {
   "cell_type": "code",
   "execution_count": 47,
   "metadata": {},
   "outputs": [],
   "source": [
    "def test_blur(image, factor=5):\n",
    "    image = Image.open('tests/' + image)\n",
    "    blurred_image = add_blur(image, factor)\n",
    "    assert blurred_image.size == image.size\n",
    "    assert blurred_image.mode == image.mode\n",
    "\n",
    "    # save the new image in the folder tests/blurred_images\n",
    "    blurred_image.save('tests/blurred_images/blurred_' + image.filename.split('/')[-1])"
   ]
  },
  {
   "cell_type": "code",
   "execution_count": 48,
   "metadata": {},
   "outputs": [
    {
     "name": "stdout",
     "output_type": "stream",
     "text": [
      "All tests passed\n"
     ]
    }
   ],
   "source": [
    "test_change_brightness(image = list_of_test[0], factor=1.5)\n",
    "test_change_brightness(image= list_of_test[1], factor=0.5)\n",
    "test_change_brightness(image = list_of_test[2], factor=0.1)\n",
    "test_noise(image = list_of_test[2], factor=50)\n",
    "test_noise(image = list_of_test[3], factor=100)\n",
    "test_noise(image = list_of_test[4], factor=200)\n",
    "test_blur(image = list_of_test[3], factor=5)\n",
    "test_blur(image = list_of_test[0], factor=5)\n",
    "test_blur(image = list_of_test[1], factor=10)\n",
    "print('All tests passed')\n"
   ]
  },
  {
   "cell_type": "code",
   "execution_count": 72,
   "metadata": {},
   "outputs": [],
   "source": [
    "import time\n",
    "def test_add_new_image(image_path: str, csv_path: str, rotation: int = 0, brightness: float = 1.0, noise: float = 0.0, blur: float = 0.0) -> None:\n",
    "    add_new_image(image_path, csv_path, rotation, brightness, noise, blur)\n",
    "    df = pd.read_csv(csv_path)\n",
    "    # wait for the file to be saved\n",
    "    assert df[df['Image Index'].str.contains(image_path[:-3])].shape[0] > 0\n",
    "\n",
    "def test_remove_transformed_data(csv_path: str) -> None:\n",
    "    # remove the transformed images from the csv\n",
    "    # check if the number of transformed images is 0\n",
    "    assert remove_transformed_data(csv_path) == 0"
   ]
  },
  {
   "cell_type": "code",
   "execution_count": 77,
   "metadata": {},
   "outputs": [],
   "source": [
    "test_add_new_image(image_path='tests/' + list_of_test[0], csv_path='tests/test.csv', rotation=90, brightness=1.5, noise=50, blur=5)\n",
    "test_add_new_image(image_path='tests/' + list_of_test[1], csv_path='tests/test.csv', rotation=180, brightness=0.5, noise=100, blur=10)\n",
    "test_add_new_image(image_path='tests/' + list_of_test[2], csv_path='tests/test.csv', rotation=270, brightness=0.1, noise=200, blur=15)\n",
    "test_add_new_image(image_path='tests/' + list_of_test[3], csv_path='tests/test.csv', rotation=90, brightness=1.5, noise=50, blur=5)\n",
    "test_add_new_image(image_path='tests/' + list_of_test[4], csv_path='tests/test.csv', rotation=180, brightness=0.5, noise=100, blur=10)\n",
    "test_add_new_image(image_path='tests/' + list_of_test[5], csv_path='tests/test.csv', rotation=270, brightness=0.1, noise=200, blur=15)\n",
    "test_add_new_image(image_path='tests/' + list_of_test[6], csv_path='tests/test.csv', rotation=90, brightness=1.5, noise=50, blur=5)\n",
    "test_add_new_image(image_path='tests/' + list_of_test[7], csv_path='tests/test.csv', rotation=180, brightness=0.5, noise=100, blur=10)\n",
    "test_add_new_image(image_path='tests/' + list_of_test[0], csv_path='tests/test.csv', rotation=270, brightness=0.1, noise=200, blur=15)\n",
    "test_add_new_image(image_path='tests/' + list_of_test[1], csv_path='tests/test.csv', rotation=90, brightness=1.5, noise=50, blur=5)"
   ]
  },
  {
   "cell_type": "code",
   "execution_count": 78,
   "metadata": {},
   "outputs": [],
   "source": [
    "test_remove_transformed_data(csv_path='tests/test.csv')"
   ]
  },
  {
   "cell_type": "code",
   "execution_count": null,
   "metadata": {},
   "outputs": [],
   "source": []
  }
 ],
 "metadata": {
  "kernelspec": {
   "display_name": "projet-env",
   "language": "python",
   "name": "python3"
  },
  "language_info": {
   "codemirror_mode": {
    "name": "ipython",
    "version": 3
   },
   "file_extension": ".py",
   "mimetype": "text/x-python",
   "name": "python",
   "nbconvert_exporter": "python",
   "pygments_lexer": "ipython3",
   "version": "3.10.12"
  }
 },
 "nbformat": 4,
 "nbformat_minor": 2
}
